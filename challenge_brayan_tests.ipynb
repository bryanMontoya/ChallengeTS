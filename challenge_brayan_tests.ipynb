{
 "cells": [
  {
   "cell_type": "markdown",
   "metadata": {},
   "source": [
    "# Los MiserAIbles\n",
    "Sorany Hincapie Salazar  \n",
    "Brayan Montoya Osorio"
   ]
  },
  {
   "cell_type": "markdown",
   "metadata": {},
   "source": [
    "### Exploración de los datos"
   ]
  },
  {
   "cell_type": "code",
   "execution_count": 1,
   "metadata": {},
   "outputs": [],
   "source": [
    "import pandas as pd"
   ]
  },
  {
   "cell_type": "code",
   "execution_count": 2,
   "metadata": {},
   "outputs": [
    {
     "data": {
      "text/html": [
       "<div>\n",
       "<style scoped>\n",
       "    .dataframe tbody tr th:only-of-type {\n",
       "        vertical-align: middle;\n",
       "    }\n",
       "\n",
       "    .dataframe tbody tr th {\n",
       "        vertical-align: top;\n",
       "    }\n",
       "\n",
       "    .dataframe thead th {\n",
       "        text-align: right;\n",
       "    }\n",
       "</style>\n",
       "<table border=\"1\" class=\"dataframe\">\n",
       "  <thead>\n",
       "    <tr style=\"text-align: right;\">\n",
       "      <th></th>\n",
       "      <th>title</th>\n",
       "      <th>abstract</th>\n",
       "      <th>group</th>\n",
       "    </tr>\n",
       "  </thead>\n",
       "  <tbody>\n",
       "    <tr>\n",
       "      <th>0</th>\n",
       "      <td>Adrenoleukodystrophy: survey of 303 cases: bio...</td>\n",
       "      <td>Adrenoleukodystrophy ( ALD ) is a genetically ...</td>\n",
       "      <td>neurological|hepatorenal</td>\n",
       "    </tr>\n",
       "    <tr>\n",
       "      <th>1</th>\n",
       "      <td>endoscopy reveals ventricular tachycardia secrets</td>\n",
       "      <td>Research question: How does metformin affect c...</td>\n",
       "      <td>neurological</td>\n",
       "    </tr>\n",
       "    <tr>\n",
       "      <th>2</th>\n",
       "      <td>dementia and cholecystitis: organ interplay</td>\n",
       "      <td>Purpose: This randomized controlled study exam...</td>\n",
       "      <td>hepatorenal</td>\n",
       "    </tr>\n",
       "    <tr>\n",
       "      <th>3</th>\n",
       "      <td>The interpeduncular nucleus regulates nicotine...</td>\n",
       "      <td>Partial lesions were made with kainic acid in ...</td>\n",
       "      <td>neurological</td>\n",
       "    </tr>\n",
       "    <tr>\n",
       "      <th>4</th>\n",
       "      <td>guillain-barre syndrome pathways in leukemia</td>\n",
       "      <td>Hypothesis: statins improves stroke outcomes v...</td>\n",
       "      <td>neurological</td>\n",
       "    </tr>\n",
       "    <tr>\n",
       "      <th>5</th>\n",
       "      <td>Effects of suprofen on the isolated perfused r...</td>\n",
       "      <td>Although suprofen has been associated with the...</td>\n",
       "      <td>hepatorenal</td>\n",
       "    </tr>\n",
       "    <tr>\n",
       "      <th>6</th>\n",
       "      <td>atherosclerosis and lymphoma: vascular insights</td>\n",
       "      <td>Aim: To investigate aspirin effects on diabete...</td>\n",
       "      <td>cardiovascular</td>\n",
       "    </tr>\n",
       "    <tr>\n",
       "      <th>7</th>\n",
       "      <td>Potential therapeutic use of the selective dop...</td>\n",
       "      <td>The clinical utility of dopamine (DA) D1 recep...</td>\n",
       "      <td>neurological</td>\n",
       "    </tr>\n",
       "    <tr>\n",
       "      <th>8</th>\n",
       "      <td>The basal ganglia connection in epilepsy</td>\n",
       "      <td>Background: dementia affects cardiac patients ...</td>\n",
       "      <td>neurological</td>\n",
       "    </tr>\n",
       "    <tr>\n",
       "      <th>9</th>\n",
       "      <td>septum and peripheral artery disease: vascular...</td>\n",
       "      <td>Purpose: This observational study examined cal...</td>\n",
       "      <td>cardiovascular</td>\n",
       "    </tr>\n",
       "  </tbody>\n",
       "</table>\n",
       "</div>"
      ],
      "text/plain": [
       "                                               title  \\\n",
       "0  Adrenoleukodystrophy: survey of 303 cases: bio...   \n",
       "1  endoscopy reveals ventricular tachycardia secrets   \n",
       "2        dementia and cholecystitis: organ interplay   \n",
       "3  The interpeduncular nucleus regulates nicotine...   \n",
       "4       guillain-barre syndrome pathways in leukemia   \n",
       "5  Effects of suprofen on the isolated perfused r...   \n",
       "6    atherosclerosis and lymphoma: vascular insights   \n",
       "7  Potential therapeutic use of the selective dop...   \n",
       "8           The basal ganglia connection in epilepsy   \n",
       "9  septum and peripheral artery disease: vascular...   \n",
       "\n",
       "                                            abstract                     group  \n",
       "0  Adrenoleukodystrophy ( ALD ) is a genetically ...  neurological|hepatorenal  \n",
       "1  Research question: How does metformin affect c...              neurological  \n",
       "2  Purpose: This randomized controlled study exam...               hepatorenal  \n",
       "3  Partial lesions were made with kainic acid in ...              neurological  \n",
       "4  Hypothesis: statins improves stroke outcomes v...              neurological  \n",
       "5  Although suprofen has been associated with the...               hepatorenal  \n",
       "6  Aim: To investigate aspirin effects on diabete...            cardiovascular  \n",
       "7  The clinical utility of dopamine (DA) D1 recep...              neurological  \n",
       "8  Background: dementia affects cardiac patients ...              neurological  \n",
       "9  Purpose: This observational study examined cal...            cardiovascular  "
      ]
     },
     "execution_count": 2,
     "metadata": {},
     "output_type": "execute_result"
    }
   ],
   "source": [
    "path_to_data = 'data/challenge_data-18-ago.csv'\n",
    "\n",
    "df = pd.read_csv(path_to_data, sep = ';')\n",
    "df.head(10)"
   ]
  },
  {
   "cell_type": "markdown",
   "metadata": {},
   "source": [
    "## Extracción de características con NLP"
   ]
  },
  {
   "cell_type": "markdown",
   "metadata": {},
   "source": [
    "Pasos a seguir:\n",
    "1. Preprocesamiento del texto\n",
    "\n",
    "- Limpieza: eliminar caracteres especiales, números innecesarios, URLs, referencias\n",
    "- Normalización: convertir a minúsculas, manejar acentos y caracteres especiales\n",
    "- Tokenización: dividir el texto en palabras/tokens individuales\n",
    "- Eliminación de stopwords: quitar palabras comunes sin valor semántico (\"el\", \"la\", \"de\", \"and\", \"the\")\n",
    "- Stemming/Lemmatización: reducir palabras a su raíz o forma base"
   ]
  },
  {
   "cell_type": "markdown",
   "metadata": {},
   "source": [
    "2.  Extracción de características textuales\n",
    "Métodos tradicionales:\n",
    "\n",
    "- Bag of Words (BoW): frecuencia de palabras\n",
    "- TF-IDF: Term Frequency - Inverse Document Frequency\n",
    "- N-gramas: combinaciones de 2-3 palabras consecutivas"
   ]
  },
  {
   "cell_type": "markdown",
   "metadata": {},
   "source": [
    "3. Entrenamiento modelos clasicos\n",
    "4. Reducción de dimensionalidad\n",
    "5. Re-entrenamiento\n"
   ]
  },
  {
   "cell_type": "markdown",
   "metadata": {},
   "source": [
    "## Ejemplo de test con los pasos anteriores:"
   ]
  },
  {
   "cell_type": "code",
   "execution_count": 3,
   "metadata": {},
   "outputs": [
    {
     "name": "stdout",
     "output_type": "stream",
     "text": [
      "Adrenoleukodystrophy ( ALD ) is a genetically determined disorder associated with progressive central demyelination and adrenal cortical insufficiency . All affected persons show increased levels of saturated unbranched very-long-chain fatty acids , particularly hexacosanoate ( C26  0 ) , because of impaired capacity to degrade these acids . This degradation normally takes place in a subcellular organelle called the peroxisome , and ALD , together with Zellwegers cerebrohepatorenal syndrome , is now considered to belong to the newly formed category of peroxisomal disorders . Biochemical assays permit prenatal diagnosis , as well as identification of most heterozygotes . We have identified 303 patients with ALD in 217 kindreds . These patients show a wide phenotypic variation . Sixty percent of patients had childhood ALD and 17 % adrenomyeloneuropathy , both of which are X-linked , with the gene mapped to Xq28 . Neonatal ALD , a distinct entity with autosomal recessive inheritance and points of resemblance to Zellwegers syndrome , accounted for 7 % of the cases . Although excess C26  0 in the brain of patients with ALD is partially of dietary origin , dietary C26  0 restriction did not produce clear benefit . Bone marrow transplant lowered the plasma C26  0 level but failed to arrest neurological progression . .\n"
     ]
    }
   ],
   "source": [
    "abstract_example = df.iloc[0]['abstract']\n",
    "print(abstract_example)"
   ]
  },
  {
   "cell_type": "markdown",
   "metadata": {},
   "source": [
    "1. Tokenización:  \n",
    "Dividir texto en palabras, oraciones o elementos pequeños. Ej: Convertir párrafo en lista de palabras."
   ]
  },
  {
   "cell_type": "code",
   "execution_count": 4,
   "metadata": {},
   "outputs": [
    {
     "name": "stderr",
     "output_type": "stream",
     "text": [
      "[nltk_data] Downloading package punkt_tab to\n",
      "[nltk_data]     /home/codespace/nltk_data...\n",
      "[nltk_data]   Package punkt_tab is already up-to-date!\n"
     ]
    }
   ],
   "source": [
    "import nltk\n",
    "nltk.download('punkt_tab')\n",
    "\n",
    "def tokenize_text(text):\n",
    "    return nltk.word_tokenize(text)"
   ]
  },
  {
   "cell_type": "code",
   "execution_count": 5,
   "metadata": {},
   "outputs": [
    {
     "name": "stdout",
     "output_type": "stream",
     "text": [
      "['Adrenoleukodystrophy', '(', 'ALD', ')', 'is', 'a', 'genetically', 'determined', 'disorder', 'associated', 'with', 'progressive', 'central', 'demyelination', 'and', 'adrenal', 'cortical', 'insufficiency', '.', 'All', 'affected', 'persons', 'show', 'increased', 'levels', 'of', 'saturated', 'unbranched', 'very-long-chain', 'fatty', 'acids', ',', 'particularly', 'hexacosanoate', '(', 'C26', '0', ')', ',', 'because', 'of', 'impaired', 'capacity', 'to', 'degrade', 'these', 'acids', '.', 'This', 'degradation', 'normally', 'takes', 'place', 'in', 'a', 'subcellular', 'organelle', 'called', 'the', 'peroxisome', ',', 'and', 'ALD', ',', 'together', 'with', 'Zellwegers', 'cerebrohepatorenal', 'syndrome', ',', 'is', 'now', 'considered', 'to', 'belong', 'to', 'the', 'newly', 'formed', 'category', 'of', 'peroxisomal', 'disorders', '.', 'Biochemical', 'assays', 'permit', 'prenatal', 'diagnosis', ',', 'as', 'well', 'as', 'identification', 'of', 'most', 'heterozygotes', '.', 'We', 'have', 'identified', '303', 'patients', 'with', 'ALD', 'in', '217', 'kindreds', '.', 'These', 'patients', 'show', 'a', 'wide', 'phenotypic', 'variation', '.', 'Sixty', 'percent', 'of', 'patients', 'had', 'childhood', 'ALD', 'and', '17', '%', 'adrenomyeloneuropathy', ',', 'both', 'of', 'which', 'are', 'X-linked', ',', 'with', 'the', 'gene', 'mapped', 'to', 'Xq28', '.', 'Neonatal', 'ALD', ',', 'a', 'distinct', 'entity', 'with', 'autosomal', 'recessive', 'inheritance', 'and', 'points', 'of', 'resemblance', 'to', 'Zellwegers', 'syndrome', ',', 'accounted', 'for', '7', '%', 'of', 'the', 'cases', '.', 'Although', 'excess', 'C26', '0', 'in', 'the', 'brain', 'of', 'patients', 'with', 'ALD', 'is', 'partially', 'of', 'dietary', 'origin', ',', 'dietary', 'C26', '0', 'restriction', 'did', 'not', 'produce', 'clear', 'benefit', '.', 'Bone', 'marrow', 'transplant', 'lowered', 'the', 'plasma', 'C26', '0', 'level', 'but', 'failed', 'to', 'arrest', 'neurological', 'progression', '.', '.']\n"
     ]
    }
   ],
   "source": [
    "tokens = tokenize_text(abstract_example)\n",
    "print(tokens)"
   ]
  },
  {
   "cell_type": "markdown",
   "metadata": {},
   "source": [
    "2. Limpieza:\n",
    "Eliminar caracteres especiales."
   ]
  },
  {
   "cell_type": "code",
   "execution_count": 6,
   "metadata": {},
   "outputs": [],
   "source": [
    "def clean_basic_tokens(tokens):\n",
    "    return [token.lower() for token in tokens if token.isalpha()]"
   ]
  },
  {
   "cell_type": "code",
   "execution_count": 7,
   "metadata": {},
   "outputs": [
    {
     "name": "stdout",
     "output_type": "stream",
     "text": [
      "['adrenoleukodystrophy', 'ald', 'is', 'a', 'genetically', 'determined', 'disorder', 'associated', 'with', 'progressive', 'central', 'demyelination', 'and', 'adrenal', 'cortical', 'insufficiency', 'all', 'affected', 'persons', 'show', 'increased', 'levels', 'of', 'saturated', 'unbranched', 'fatty', 'acids', 'particularly', 'hexacosanoate', 'because', 'of', 'impaired', 'capacity', 'to', 'degrade', 'these', 'acids', 'this', 'degradation', 'normally', 'takes', 'place', 'in', 'a', 'subcellular', 'organelle', 'called', 'the', 'peroxisome', 'and', 'ald', 'together', 'with', 'zellwegers', 'cerebrohepatorenal', 'syndrome', 'is', 'now', 'considered', 'to', 'belong', 'to', 'the', 'newly', 'formed', 'category', 'of', 'peroxisomal', 'disorders', 'biochemical', 'assays', 'permit', 'prenatal', 'diagnosis', 'as', 'well', 'as', 'identification', 'of', 'most', 'heterozygotes', 'we', 'have', 'identified', 'patients', 'with', 'ald', 'in', 'kindreds', 'these', 'patients', 'show', 'a', 'wide', 'phenotypic', 'variation', 'sixty', 'percent', 'of', 'patients', 'had', 'childhood', 'ald', 'and', 'adrenomyeloneuropathy', 'both', 'of', 'which', 'are', 'with', 'the', 'gene', 'mapped', 'to', 'neonatal', 'ald', 'a', 'distinct', 'entity', 'with', 'autosomal', 'recessive', 'inheritance', 'and', 'points', 'of', 'resemblance', 'to', 'zellwegers', 'syndrome', 'accounted', 'for', 'of', 'the', 'cases', 'although', 'excess', 'in', 'the', 'brain', 'of', 'patients', 'with', 'ald', 'is', 'partially', 'of', 'dietary', 'origin', 'dietary', 'restriction', 'did', 'not', 'produce', 'clear', 'benefit', 'bone', 'marrow', 'transplant', 'lowered', 'the', 'plasma', 'level', 'but', 'failed', 'to', 'arrest', 'neurological', 'progression']\n"
     ]
    }
   ],
   "source": [
    "cleaned_tokens = clean_basic_tokens(tokens)\n",
    "print(cleaned_tokens)"
   ]
  },
  {
   "cell_type": "markdown",
   "metadata": {},
   "source": [
    "3. Lemmatization:  \n",
    "Llevar palabras a su forma raíz.\n",
    "\n",
    "Vamos a usar lemmatizacion en lugar de Stemming dado que necesitamos resultados mas precisos y significativos. Es probable que el Stemming pierda contexto gramatical."
   ]
  },
  {
   "cell_type": "code",
   "execution_count": 8,
   "metadata": {},
   "outputs": [
    {
     "name": "stderr",
     "output_type": "stream",
     "text": [
      "[nltk_data] Downloading package wordnet to\n",
      "[nltk_data]     /home/codespace/nltk_data...\n",
      "[nltk_data]   Package wordnet is already up-to-date!\n",
      "[nltk_data] Downloading package omw-1.4 to\n",
      "[nltk_data]     /home/codespace/nltk_data...\n",
      "[nltk_data]   Package omw-1.4 is already up-to-date!\n"
     ]
    }
   ],
   "source": [
    "from nltk.stem import WordNetLemmatizer\n",
    "\n",
    "nltk.download('wordnet')\n",
    "nltk.download('omw-1.4')\n",
    "\n",
    "lemmatizer = WordNetLemmatizer()\n",
    "def lemmatize_words(words):\n",
    "    return [lemmatizer.lemmatize(word) for word in words]"
   ]
  },
  {
   "cell_type": "code",
   "execution_count": 9,
   "metadata": {},
   "outputs": [
    {
     "name": "stdout",
     "output_type": "stream",
     "text": [
      "['adrenoleukodystrophy', 'ald', 'is', 'a', 'genetically', 'determined', 'disorder', 'associated', 'with', 'progressive', 'central', 'demyelination', 'and', 'adrenal', 'cortical', 'insufficiency', 'all', 'affected', 'person', 'show', 'increased', 'level', 'of', 'saturated', 'unbranched', 'fatty', 'acid', 'particularly', 'hexacosanoate', 'because', 'of', 'impaired', 'capacity', 'to', 'degrade', 'these', 'acid', 'this', 'degradation', 'normally', 'take', 'place', 'in', 'a', 'subcellular', 'organelle', 'called', 'the', 'peroxisome', 'and', 'ald', 'together', 'with', 'zellwegers', 'cerebrohepatorenal', 'syndrome', 'is', 'now', 'considered', 'to', 'belong', 'to', 'the', 'newly', 'formed', 'category', 'of', 'peroxisomal', 'disorder', 'biochemical', 'assay', 'permit', 'prenatal', 'diagnosis', 'a', 'well', 'a', 'identification', 'of', 'most', 'heterozygote', 'we', 'have', 'identified', 'patient', 'with', 'ald', 'in', 'kindred', 'these', 'patient', 'show', 'a', 'wide', 'phenotypic', 'variation', 'sixty', 'percent', 'of', 'patient', 'had', 'childhood', 'ald', 'and', 'adrenomyeloneuropathy', 'both', 'of', 'which', 'are', 'with', 'the', 'gene', 'mapped', 'to', 'neonatal', 'ald', 'a', 'distinct', 'entity', 'with', 'autosomal', 'recessive', 'inheritance', 'and', 'point', 'of', 'resemblance', 'to', 'zellwegers', 'syndrome', 'accounted', 'for', 'of', 'the', 'case', 'although', 'excess', 'in', 'the', 'brain', 'of', 'patient', 'with', 'ald', 'is', 'partially', 'of', 'dietary', 'origin', 'dietary', 'restriction', 'did', 'not', 'produce', 'clear', 'benefit', 'bone', 'marrow', 'transplant', 'lowered', 'the', 'plasma', 'level', 'but', 'failed', 'to', 'arrest', 'neurological', 'progression']\n"
     ]
    }
   ],
   "source": [
    "lemmatized_words = lemmatize_words(cleaned_tokens)\n",
    "print(lemmatized_words)\n"
   ]
  },
  {
   "cell_type": "markdown",
   "metadata": {},
   "source": [
    "4. Eliminar StopWords"
   ]
  },
  {
   "cell_type": "code",
   "execution_count": 10,
   "metadata": {},
   "outputs": [
    {
     "name": "stderr",
     "output_type": "stream",
     "text": [
      "[nltk_data] Downloading package stopwords to\n",
      "[nltk_data]     /home/codespace/nltk_data...\n",
      "[nltk_data]   Package stopwords is already up-to-date!\n"
     ]
    }
   ],
   "source": [
    "from nltk.corpus import stopwords\n",
    "nltk.download('stopwords')\n",
    "\n",
    "academic_medic_stopwords = {\n",
    "        'abstract', 'paper', 'study', 'research', 'article', 'journal',\n",
    "        'analysis', 'method', 'approach', 'technique', 'result', 'conclusion',\n",
    "        'introduction', 'discussion', 'experimental', 'theoretical',\n",
    "        'also', 'however', 'therefore', 'furthermore', 'moreover',\n",
    "        'studies', 'report', 'review', 'evaluation', 'assessment', 'investigation', \n",
    "        'examination', 'observation', 'finding', 'findings', 'results', 'methods', \n",
    "        'methodology', 'patient', 'patients', 'subject', 'subjects', 'participant', \n",
    "        'participants', 'case', 'cases', 'group', 'groups', 'control', 'controls',\n",
    "        'significant', 'significantly', 'statistical', 'statistically',\n",
    "        'important', 'effective', 'successful', 'common', 'rare', 'typical',\n",
    "        'normal', 'abnormal', 'positive', 'negative', 'high', 'low', 'increased', 'decreased'\n",
    "    }\n",
    "\n",
    "def remove_stopwords(tokens):\n",
    "    stop_words = set(stopwords.words('english'))\n",
    "    return [token for token in tokens if token not in stop_words and token not in academic_medic_stopwords]\n"
   ]
  },
  {
   "cell_type": "code",
   "execution_count": 11,
   "metadata": {},
   "outputs": [
    {
     "name": "stdout",
     "output_type": "stream",
     "text": [
      "['adrenoleukodystrophy', 'ald', 'genetically', 'determined', 'disorder', 'associated', 'progressive', 'central', 'demyelination', 'adrenal', 'cortical', 'insufficiency', 'affected', 'person', 'show', 'level', 'saturated', 'unbranched', 'fatty', 'acid', 'particularly', 'hexacosanoate', 'impaired', 'capacity', 'degrade', 'acid', 'degradation', 'normally', 'take', 'place', 'subcellular', 'organelle', 'called', 'peroxisome', 'ald', 'together', 'zellwegers', 'cerebrohepatorenal', 'syndrome', 'considered', 'belong', 'newly', 'formed', 'category', 'peroxisomal', 'disorder', 'biochemical', 'assay', 'permit', 'prenatal', 'diagnosis', 'well', 'identification', 'heterozygote', 'identified', 'ald', 'kindred', 'show', 'wide', 'phenotypic', 'variation', 'sixty', 'percent', 'childhood', 'ald', 'adrenomyeloneuropathy', 'gene', 'mapped', 'neonatal', 'ald', 'distinct', 'entity', 'autosomal', 'recessive', 'inheritance', 'point', 'resemblance', 'zellwegers', 'syndrome', 'accounted', 'although', 'excess', 'brain', 'ald', 'partially', 'dietary', 'origin', 'dietary', 'restriction', 'produce', 'clear', 'benefit', 'bone', 'marrow', 'transplant', 'lowered', 'plasma', 'level', 'failed', 'arrest', 'neurological', 'progression']\n"
     ]
    }
   ],
   "source": [
    "filtered_tokens = remove_stopwords(lemmatized_words)\n",
    "print(filtered_tokens)"
   ]
  },
  {
   "cell_type": "markdown",
   "metadata": {},
   "source": [
    "Pipeline de NLP completo:"
   ]
  },
  {
   "cell_type": "code",
   "execution_count": 12,
   "metadata": {},
   "outputs": [],
   "source": [
    "def tokenization_pipeline(text):\n",
    "    tokens = tokenize_text(text)\n",
    "    cleaned_tokens = clean_basic_tokens(tokens)\n",
    "    lemmatized_words = lemmatize_words(cleaned_tokens)\n",
    "    filtered_words = remove_stopwords(lemmatized_words)\n",
    "    return filtered_words\n"
   ]
  },
  {
   "cell_type": "markdown",
   "metadata": {},
   "source": [
    "### Procesamiento de dataset:"
   ]
  },
  {
   "cell_type": "code",
   "execution_count": 13,
   "metadata": {},
   "outputs": [],
   "source": [
    "df['tokenized_article'] = df['title'].apply(tokenization_pipeline) + df['abstract'].apply(tokenization_pipeline)"
   ]
  },
  {
   "cell_type": "code",
   "execution_count": 14,
   "metadata": {},
   "outputs": [
    {
     "data": {
      "text/html": [
       "<div>\n",
       "<style scoped>\n",
       "    .dataframe tbody tr th:only-of-type {\n",
       "        vertical-align: middle;\n",
       "    }\n",
       "\n",
       "    .dataframe tbody tr th {\n",
       "        vertical-align: top;\n",
       "    }\n",
       "\n",
       "    .dataframe thead th {\n",
       "        text-align: right;\n",
       "    }\n",
       "</style>\n",
       "<table border=\"1\" class=\"dataframe\">\n",
       "  <thead>\n",
       "    <tr style=\"text-align: right;\">\n",
       "      <th></th>\n",
       "      <th>title</th>\n",
       "      <th>abstract</th>\n",
       "      <th>group</th>\n",
       "      <th>tokenized_article</th>\n",
       "      <th>text_joined</th>\n",
       "    </tr>\n",
       "  </thead>\n",
       "  <tbody>\n",
       "    <tr>\n",
       "      <th>0</th>\n",
       "      <td>Adrenoleukodystrophy: survey of 303 cases: bio...</td>\n",
       "      <td>Adrenoleukodystrophy ( ALD ) is a genetically ...</td>\n",
       "      <td>neurological|hepatorenal</td>\n",
       "      <td>[adrenoleukodystrophy, survey, biochemistry, d...</td>\n",
       "      <td>adrenoleukodystrophy survey biochemistry diagn...</td>\n",
       "    </tr>\n",
       "    <tr>\n",
       "      <th>1</th>\n",
       "      <td>endoscopy reveals ventricular tachycardia secrets</td>\n",
       "      <td>Research question: How does metformin affect c...</td>\n",
       "      <td>neurological</td>\n",
       "      <td>[endoscopy, reveals, ventricular, tachycardia,...</td>\n",
       "      <td>endoscopy reveals ventricular tachycardia secr...</td>\n",
       "    </tr>\n",
       "    <tr>\n",
       "      <th>2</th>\n",
       "      <td>dementia and cholecystitis: organ interplay</td>\n",
       "      <td>Purpose: This randomized controlled study exam...</td>\n",
       "      <td>hepatorenal</td>\n",
       "      <td>[dementia, cholecystitis, organ, interplay, pu...</td>\n",
       "      <td>dementia cholecystitis organ interplay purpose...</td>\n",
       "    </tr>\n",
       "    <tr>\n",
       "      <th>3</th>\n",
       "      <td>The interpeduncular nucleus regulates nicotine...</td>\n",
       "      <td>Partial lesions were made with kainic acid in ...</td>\n",
       "      <td>neurological</td>\n",
       "      <td>[interpeduncular, nucleus, regulates, nicotine...</td>\n",
       "      <td>interpeduncular nucleus regulates nicotine eff...</td>\n",
       "    </tr>\n",
       "    <tr>\n",
       "      <th>4</th>\n",
       "      <td>guillain-barre syndrome pathways in leukemia</td>\n",
       "      <td>Hypothesis: statins improves stroke outcomes v...</td>\n",
       "      <td>neurological</td>\n",
       "      <td>[syndrome, pathway, leukemia, hypothesis, stat...</td>\n",
       "      <td>syndrome pathway leukemia hypothesis statin im...</td>\n",
       "    </tr>\n",
       "    <tr>\n",
       "      <th>...</th>\n",
       "      <td>...</td>\n",
       "      <td>...</td>\n",
       "      <td>...</td>\n",
       "      <td>...</td>\n",
       "      <td>...</td>\n",
       "    </tr>\n",
       "    <tr>\n",
       "      <th>3560</th>\n",
       "      <td>The effect of recombinant human insulin-like g...</td>\n",
       "      <td>We recently demonstrated that recombinant hGH ...</td>\n",
       "      <td>neurological|cardiovascular|hepatorenal</td>\n",
       "      <td>[effect, recombinant, human, growth, chronic, ...</td>\n",
       "      <td>effect recombinant human growth chronic puromy...</td>\n",
       "    </tr>\n",
       "    <tr>\n",
       "      <th>3561</th>\n",
       "      <td>EEG reveals leukemia secrets</td>\n",
       "      <td>Hypothesis: metformin improves dementia outcom...</td>\n",
       "      <td>neurological</td>\n",
       "      <td>[eeg, reveals, leukemia, secret, hypothesis, m...</td>\n",
       "      <td>eeg reveals leukemia secret hypothesis metform...</td>\n",
       "    </tr>\n",
       "    <tr>\n",
       "      <th>3562</th>\n",
       "      <td>venous pathways in angina pectoris</td>\n",
       "      <td>Hypothesis: metformin improves heart disease o...</td>\n",
       "      <td>neurological|cardiovascular</td>\n",
       "      <td>[venous, pathway, angina, pectoris, hypothesis...</td>\n",
       "      <td>venous pathway angina pectoris hypothesis metf...</td>\n",
       "    </tr>\n",
       "    <tr>\n",
       "      <th>3563</th>\n",
       "      <td>Thyroxine abuse: an unusual case of thyrotoxic...</td>\n",
       "      <td>Eating disorders and the associated behavioura...</td>\n",
       "      <td>neurological</td>\n",
       "      <td>[thyroxine, abuse, unusual, thyrotoxicosis, pr...</td>\n",
       "      <td>thyroxine abuse unusual thyrotoxicosis pregnan...</td>\n",
       "    </tr>\n",
       "    <tr>\n",
       "      <th>3564</th>\n",
       "      <td>hepatitis and hypertensive: cardiac connections</td>\n",
       "      <td>Aim: To investigate aspirin effects on heart d...</td>\n",
       "      <td>cardiovascular|oncological</td>\n",
       "      <td>[hepatitis, hypertensive, cardiac, connection,...</td>\n",
       "      <td>hepatitis hypertensive cardiac connection aim ...</td>\n",
       "    </tr>\n",
       "  </tbody>\n",
       "</table>\n",
       "<p>3565 rows × 5 columns</p>\n",
       "</div>"
      ],
      "text/plain": [
       "                                                  title  \\\n",
       "0     Adrenoleukodystrophy: survey of 303 cases: bio...   \n",
       "1     endoscopy reveals ventricular tachycardia secrets   \n",
       "2           dementia and cholecystitis: organ interplay   \n",
       "3     The interpeduncular nucleus regulates nicotine...   \n",
       "4          guillain-barre syndrome pathways in leukemia   \n",
       "...                                                 ...   \n",
       "3560  The effect of recombinant human insulin-like g...   \n",
       "3561                       EEG reveals leukemia secrets   \n",
       "3562                 venous pathways in angina pectoris   \n",
       "3563  Thyroxine abuse: an unusual case of thyrotoxic...   \n",
       "3564    hepatitis and hypertensive: cardiac connections   \n",
       "\n",
       "                                               abstract  \\\n",
       "0     Adrenoleukodystrophy ( ALD ) is a genetically ...   \n",
       "1     Research question: How does metformin affect c...   \n",
       "2     Purpose: This randomized controlled study exam...   \n",
       "3     Partial lesions were made with kainic acid in ...   \n",
       "4     Hypothesis: statins improves stroke outcomes v...   \n",
       "...                                                 ...   \n",
       "3560  We recently demonstrated that recombinant hGH ...   \n",
       "3561  Hypothesis: metformin improves dementia outcom...   \n",
       "3562  Hypothesis: metformin improves heart disease o...   \n",
       "3563  Eating disorders and the associated behavioura...   \n",
       "3564  Aim: To investigate aspirin effects on heart d...   \n",
       "\n",
       "                                        group  \\\n",
       "0                    neurological|hepatorenal   \n",
       "1                                neurological   \n",
       "2                                 hepatorenal   \n",
       "3                                neurological   \n",
       "4                                neurological   \n",
       "...                                       ...   \n",
       "3560  neurological|cardiovascular|hepatorenal   \n",
       "3561                             neurological   \n",
       "3562              neurological|cardiovascular   \n",
       "3563                             neurological   \n",
       "3564               cardiovascular|oncological   \n",
       "\n",
       "                                      tokenized_article  \\\n",
       "0     [adrenoleukodystrophy, survey, biochemistry, d...   \n",
       "1     [endoscopy, reveals, ventricular, tachycardia,...   \n",
       "2     [dementia, cholecystitis, organ, interplay, pu...   \n",
       "3     [interpeduncular, nucleus, regulates, nicotine...   \n",
       "4     [syndrome, pathway, leukemia, hypothesis, stat...   \n",
       "...                                                 ...   \n",
       "3560  [effect, recombinant, human, growth, chronic, ...   \n",
       "3561  [eeg, reveals, leukemia, secret, hypothesis, m...   \n",
       "3562  [venous, pathway, angina, pectoris, hypothesis...   \n",
       "3563  [thyroxine, abuse, unusual, thyrotoxicosis, pr...   \n",
       "3564  [hepatitis, hypertensive, cardiac, connection,...   \n",
       "\n",
       "                                            text_joined  \n",
       "0     adrenoleukodystrophy survey biochemistry diagn...  \n",
       "1     endoscopy reveals ventricular tachycardia secr...  \n",
       "2     dementia cholecystitis organ interplay purpose...  \n",
       "3     interpeduncular nucleus regulates nicotine eff...  \n",
       "4     syndrome pathway leukemia hypothesis statin im...  \n",
       "...                                                 ...  \n",
       "3560  effect recombinant human growth chronic puromy...  \n",
       "3561  eeg reveals leukemia secret hypothesis metform...  \n",
       "3562  venous pathway angina pectoris hypothesis metf...  \n",
       "3563  thyroxine abuse unusual thyrotoxicosis pregnan...  \n",
       "3564  hepatitis hypertensive cardiac connection aim ...  \n",
       "\n",
       "[3565 rows x 5 columns]"
      ]
     },
     "execution_count": 14,
     "metadata": {},
     "output_type": "execute_result"
    }
   ],
   "source": [
    "df['text_joined'] = df['tokenized_article'].apply(lambda tokens: ' '.join(tokens))\n",
    "df"
   ]
  },
  {
   "cell_type": "markdown",
   "metadata": {},
   "source": [
    "### TF-IDF"
   ]
  },
  {
   "cell_type": "code",
   "execution_count": 15,
   "metadata": {},
   "outputs": [
    {
     "data": {
      "text/plain": [
       "(3565, 12152)"
      ]
     },
     "execution_count": 15,
     "metadata": {},
     "output_type": "execute_result"
    }
   ],
   "source": [
    "from sklearn.feature_extraction.text import TfidfVectorizer\n",
    "\n",
    "vectorizer = TfidfVectorizer()\n",
    "X = vectorizer.fit_transform(df['text_joined'])\n",
    "X.shape\n"
   ]
  },
  {
   "cell_type": "markdown",
   "metadata": {},
   "source": [
    "### Entrenamiento de modelos"
   ]
  },
  {
   "cell_type": "code",
   "execution_count": 16,
   "metadata": {},
   "outputs": [
    {
     "data": {
      "text/html": [
       "<div>\n",
       "<style scoped>\n",
       "    .dataframe tbody tr th:only-of-type {\n",
       "        vertical-align: middle;\n",
       "    }\n",
       "\n",
       "    .dataframe tbody tr th {\n",
       "        vertical-align: top;\n",
       "    }\n",
       "\n",
       "    .dataframe thead th {\n",
       "        text-align: right;\n",
       "    }\n",
       "</style>\n",
       "<table border=\"1\" class=\"dataframe\">\n",
       "  <thead>\n",
       "    <tr style=\"text-align: right;\">\n",
       "      <th></th>\n",
       "      <th>title</th>\n",
       "      <th>abstract</th>\n",
       "      <th>group</th>\n",
       "      <th>tokenized_article</th>\n",
       "      <th>text_joined</th>\n",
       "      <th>label_list</th>\n",
       "    </tr>\n",
       "  </thead>\n",
       "  <tbody>\n",
       "    <tr>\n",
       "      <th>0</th>\n",
       "      <td>Adrenoleukodystrophy: survey of 303 cases: bio...</td>\n",
       "      <td>Adrenoleukodystrophy ( ALD ) is a genetically ...</td>\n",
       "      <td>neurological|hepatorenal</td>\n",
       "      <td>[adrenoleukodystrophy, survey, biochemistry, d...</td>\n",
       "      <td>adrenoleukodystrophy survey biochemistry diagn...</td>\n",
       "      <td>[neurological, hepatorenal]</td>\n",
       "    </tr>\n",
       "    <tr>\n",
       "      <th>1</th>\n",
       "      <td>endoscopy reveals ventricular tachycardia secrets</td>\n",
       "      <td>Research question: How does metformin affect c...</td>\n",
       "      <td>neurological</td>\n",
       "      <td>[endoscopy, reveals, ventricular, tachycardia,...</td>\n",
       "      <td>endoscopy reveals ventricular tachycardia secr...</td>\n",
       "      <td>[neurological]</td>\n",
       "    </tr>\n",
       "    <tr>\n",
       "      <th>2</th>\n",
       "      <td>dementia and cholecystitis: organ interplay</td>\n",
       "      <td>Purpose: This randomized controlled study exam...</td>\n",
       "      <td>hepatorenal</td>\n",
       "      <td>[dementia, cholecystitis, organ, interplay, pu...</td>\n",
       "      <td>dementia cholecystitis organ interplay purpose...</td>\n",
       "      <td>[hepatorenal]</td>\n",
       "    </tr>\n",
       "  </tbody>\n",
       "</table>\n",
       "</div>"
      ],
      "text/plain": [
       "                                               title  \\\n",
       "0  Adrenoleukodystrophy: survey of 303 cases: bio...   \n",
       "1  endoscopy reveals ventricular tachycardia secrets   \n",
       "2        dementia and cholecystitis: organ interplay   \n",
       "\n",
       "                                            abstract  \\\n",
       "0  Adrenoleukodystrophy ( ALD ) is a genetically ...   \n",
       "1  Research question: How does metformin affect c...   \n",
       "2  Purpose: This randomized controlled study exam...   \n",
       "\n",
       "                      group  \\\n",
       "0  neurological|hepatorenal   \n",
       "1              neurological   \n",
       "2               hepatorenal   \n",
       "\n",
       "                                   tokenized_article  \\\n",
       "0  [adrenoleukodystrophy, survey, biochemistry, d...   \n",
       "1  [endoscopy, reveals, ventricular, tachycardia,...   \n",
       "2  [dementia, cholecystitis, organ, interplay, pu...   \n",
       "\n",
       "                                         text_joined  \\\n",
       "0  adrenoleukodystrophy survey biochemistry diagn...   \n",
       "1  endoscopy reveals ventricular tachycardia secr...   \n",
       "2  dementia cholecystitis organ interplay purpose...   \n",
       "\n",
       "                    label_list  \n",
       "0  [neurological, hepatorenal]  \n",
       "1               [neurological]  \n",
       "2                [hepatorenal]  "
      ]
     },
     "execution_count": 16,
     "metadata": {},
     "output_type": "execute_result"
    }
   ],
   "source": [
    "# Convertir las etiquetas separadas por '|' en listas\n",
    "df['label_list'] = df['group'].apply(lambda x: x.split('|'))\n",
    "df.head(3)\n"
   ]
  },
  {
   "cell_type": "code",
   "execution_count": 17,
   "metadata": {},
   "outputs": [
    {
     "data": {
      "text/plain": [
       "array([[0, 1, 1, 0],\n",
       "       [0, 0, 1, 0],\n",
       "       [0, 1, 0, 0],\n",
       "       ...,\n",
       "       [1, 0, 1, 0],\n",
       "       [0, 0, 1, 0],\n",
       "       [1, 0, 0, 1]], shape=(3565, 4))"
      ]
     },
     "execution_count": 17,
     "metadata": {},
     "output_type": "execute_result"
    }
   ],
   "source": [
    "from sklearn.preprocessing import MultiLabelBinarizer\n",
    "\n",
    "mlb = MultiLabelBinarizer()\n",
    "y = mlb.fit_transform(df['label_list'])\n",
    "y"
   ]
  },
  {
   "cell_type": "code",
   "execution_count": 18,
   "metadata": {},
   "outputs": [],
   "source": [
    "from sklearn.model_selection import train_test_split\n",
    "\n",
    "X_train, X_test, y_train, y_test = train_test_split(X, y, test_size=0.2, random_state=42)\n"
   ]
  },
  {
   "cell_type": "markdown",
   "metadata": {},
   "source": [
    "### Regresión Logística"
   ]
  },
  {
   "cell_type": "code",
   "execution_count": 19,
   "metadata": {},
   "outputs": [],
   "source": [
    "from sklearn.linear_model import LogisticRegression\n",
    "from sklearn.metrics import classification_report"
   ]
  },
  {
   "cell_type": "code",
   "execution_count": 20,
   "metadata": {},
   "outputs": [
    {
     "name": "stdout",
     "output_type": "stream",
     "text": [
      "                precision    recall  f1-score   support\n",
      "\n",
      "cardiovascular       0.98      0.78      0.87       260\n",
      "   hepatorenal       0.99      0.64      0.77       228\n",
      "  neurological       0.84      0.88      0.86       338\n",
      "   oncological       0.98      0.48      0.64       130\n",
      "\n",
      "     micro avg       0.91      0.74      0.82       956\n",
      "     macro avg       0.95      0.69      0.79       956\n",
      "  weighted avg       0.93      0.74      0.81       956\n",
      "   samples avg       0.91      0.81      0.84       956\n",
      "\n"
     ]
    },
    {
     "name": "stderr",
     "output_type": "stream",
     "text": [
      "/home/codespace/.local/lib/python3.12/site-packages/sklearn/metrics/_classification.py:1706: UndefinedMetricWarning: Precision is ill-defined and being set to 0.0 in samples with no predicted labels. Use `zero_division` parameter to control this behavior.\n",
      "  _warn_prf(average, modifier, f\"{metric.capitalize()} is\", result.shape[0])\n"
     ]
    }
   ],
   "source": [
    "clf = LogisticRegression(max_iter=1000)\n",
    "from sklearn.multioutput import MultiOutputClassifier\n",
    "multi_clf = MultiOutputClassifier(clf)\n",
    "multi_clf.fit(X_train, y_train)\n",
    "\n",
    "\n",
    "# Predicción y evaluación\n",
    "y_pred = multi_clf.predict(X_test)\n",
    "print(classification_report(y_test, y_pred, target_names=mlb.classes_))\n",
    "# ...existing code..."
   ]
  },
  {
   "cell_type": "code",
   "execution_count": 21,
   "metadata": {},
   "outputs": [
    {
     "name": "stdout",
     "output_type": "stream",
     "text": [
      "                precision    recall  f1-score   support\n",
      "\n",
      "cardiovascular       0.96      0.85      0.90       260\n",
      "   hepatorenal       0.98      0.78      0.87       228\n",
      "  neurological       0.87      0.88      0.87       338\n",
      "   oncological       0.97      0.72      0.83       130\n",
      "\n",
      "     micro avg       0.93      0.83      0.87       956\n",
      "     macro avg       0.94      0.81      0.87       956\n",
      "  weighted avg       0.93      0.83      0.87       956\n",
      "   samples avg       0.94      0.88      0.89       956\n",
      "\n"
     ]
    },
    {
     "name": "stderr",
     "output_type": "stream",
     "text": [
      "/home/codespace/.local/lib/python3.12/site-packages/sklearn/metrics/_classification.py:1706: UndefinedMetricWarning: Precision is ill-defined and being set to 0.0 in samples with no predicted labels. Use `zero_division` parameter to control this behavior.\n",
      "  _warn_prf(average, modifier, f\"{metric.capitalize()} is\", result.shape[0])\n"
     ]
    }
   ],
   "source": [
    "from sklearn.svm import LinearSVC\n",
    "from sklearn.multioutput import MultiOutputClassifier\n",
    "\n",
    "# Crear el clasificador SVM\n",
    "svm_clf = LinearSVC(max_iter=1000)\n",
    "multi_svm = MultiOutputClassifier(svm_clf)\n",
    "\n",
    "# Entrenar el modelo\n",
    "multi_svm.fit(X_train, y_train)\n",
    "\n",
    "# Predicción y evaluación\n",
    "y_pred_svm = multi_svm.predict(X_test)\n",
    "print(classification_report(y_test, y_pred_svm, target_names=mlb.classes_))\n",
    "# ...existing code..."
   ]
  }
 ],
 "metadata": {
  "kernelspec": {
   "display_name": "Python 3",
   "language": "python",
   "name": "python3"
  },
  "language_info": {
   "codemirror_mode": {
    "name": "ipython",
    "version": 3
   },
   "file_extension": ".py",
   "mimetype": "text/x-python",
   "name": "python",
   "nbconvert_exporter": "python",
   "pygments_lexer": "ipython3",
   "version": "3.12.1"
  }
 },
 "nbformat": 4,
 "nbformat_minor": 2
}
