{
 "cells": [
  {
   "cell_type": "markdown",
   "metadata": {},
   "source": [
    "# Los MiserAIbles\n",
    "Sorany Hincapie Salazar  \n",
    "Brayan Montoya Osorio"
   ]
  },
  {
   "cell_type": "markdown",
   "metadata": {},
   "source": [
    "### Exploración de los datos"
   ]
  },
  {
   "cell_type": "code",
   "execution_count": 28,
   "metadata": {},
   "outputs": [],
   "source": [
    "import pandas as pd"
   ]
  },
  {
   "cell_type": "code",
   "execution_count": 29,
   "metadata": {},
   "outputs": [
    {
     "data": {
      "text/html": [
       "<div>\n",
       "<style scoped>\n",
       "    .dataframe tbody tr th:only-of-type {\n",
       "        vertical-align: middle;\n",
       "    }\n",
       "\n",
       "    .dataframe tbody tr th {\n",
       "        vertical-align: top;\n",
       "    }\n",
       "\n",
       "    .dataframe thead th {\n",
       "        text-align: right;\n",
       "    }\n",
       "</style>\n",
       "<table border=\"1\" class=\"dataframe\">\n",
       "  <thead>\n",
       "    <tr style=\"text-align: right;\">\n",
       "      <th></th>\n",
       "      <th>title</th>\n",
       "      <th>abstract</th>\n",
       "      <th>group</th>\n",
       "    </tr>\n",
       "  </thead>\n",
       "  <tbody>\n",
       "    <tr>\n",
       "      <th>0</th>\n",
       "      <td>Adrenoleukodystrophy: survey of 303 cases: bio...</td>\n",
       "      <td>Adrenoleukodystrophy ( ALD ) is a genetically ...</td>\n",
       "      <td>neurological|hepatorenal</td>\n",
       "    </tr>\n",
       "    <tr>\n",
       "      <th>1</th>\n",
       "      <td>endoscopy reveals ventricular tachycardia secrets</td>\n",
       "      <td>Research question: How does metformin affect c...</td>\n",
       "      <td>neurological</td>\n",
       "    </tr>\n",
       "    <tr>\n",
       "      <th>2</th>\n",
       "      <td>dementia and cholecystitis: organ interplay</td>\n",
       "      <td>Purpose: This randomized controlled study exam...</td>\n",
       "      <td>hepatorenal</td>\n",
       "    </tr>\n",
       "    <tr>\n",
       "      <th>3</th>\n",
       "      <td>The interpeduncular nucleus regulates nicotine...</td>\n",
       "      <td>Partial lesions were made with kainic acid in ...</td>\n",
       "      <td>neurological</td>\n",
       "    </tr>\n",
       "    <tr>\n",
       "      <th>4</th>\n",
       "      <td>guillain-barre syndrome pathways in leukemia</td>\n",
       "      <td>Hypothesis: statins improves stroke outcomes v...</td>\n",
       "      <td>neurological</td>\n",
       "    </tr>\n",
       "    <tr>\n",
       "      <th>5</th>\n",
       "      <td>Effects of suprofen on the isolated perfused r...</td>\n",
       "      <td>Although suprofen has been associated with the...</td>\n",
       "      <td>hepatorenal</td>\n",
       "    </tr>\n",
       "    <tr>\n",
       "      <th>6</th>\n",
       "      <td>atherosclerosis and lymphoma: vascular insights</td>\n",
       "      <td>Aim: To investigate aspirin effects on diabete...</td>\n",
       "      <td>cardiovascular</td>\n",
       "    </tr>\n",
       "    <tr>\n",
       "      <th>7</th>\n",
       "      <td>Potential therapeutic use of the selective dop...</td>\n",
       "      <td>The clinical utility of dopamine (DA) D1 recep...</td>\n",
       "      <td>neurological</td>\n",
       "    </tr>\n",
       "    <tr>\n",
       "      <th>8</th>\n",
       "      <td>The basal ganglia connection in epilepsy</td>\n",
       "      <td>Background: dementia affects cardiac patients ...</td>\n",
       "      <td>neurological</td>\n",
       "    </tr>\n",
       "    <tr>\n",
       "      <th>9</th>\n",
       "      <td>septum and peripheral artery disease: vascular...</td>\n",
       "      <td>Purpose: This observational study examined cal...</td>\n",
       "      <td>cardiovascular</td>\n",
       "    </tr>\n",
       "  </tbody>\n",
       "</table>\n",
       "</div>"
      ],
      "text/plain": [
       "                                               title  \\\n",
       "0  Adrenoleukodystrophy: survey of 303 cases: bio...   \n",
       "1  endoscopy reveals ventricular tachycardia secrets   \n",
       "2        dementia and cholecystitis: organ interplay   \n",
       "3  The interpeduncular nucleus regulates nicotine...   \n",
       "4       guillain-barre syndrome pathways in leukemia   \n",
       "5  Effects of suprofen on the isolated perfused r...   \n",
       "6    atherosclerosis and lymphoma: vascular insights   \n",
       "7  Potential therapeutic use of the selective dop...   \n",
       "8           The basal ganglia connection in epilepsy   \n",
       "9  septum and peripheral artery disease: vascular...   \n",
       "\n",
       "                                            abstract                     group  \n",
       "0  Adrenoleukodystrophy ( ALD ) is a genetically ...  neurological|hepatorenal  \n",
       "1  Research question: How does metformin affect c...              neurological  \n",
       "2  Purpose: This randomized controlled study exam...               hepatorenal  \n",
       "3  Partial lesions were made with kainic acid in ...              neurological  \n",
       "4  Hypothesis: statins improves stroke outcomes v...              neurological  \n",
       "5  Although suprofen has been associated with the...               hepatorenal  \n",
       "6  Aim: To investigate aspirin effects on diabete...            cardiovascular  \n",
       "7  The clinical utility of dopamine (DA) D1 recep...              neurological  \n",
       "8  Background: dementia affects cardiac patients ...              neurological  \n",
       "9  Purpose: This observational study examined cal...            cardiovascular  "
      ]
     },
     "execution_count": 29,
     "metadata": {},
     "output_type": "execute_result"
    }
   ],
   "source": [
    "path_to_data = 'data/challenge_data-18-ago.csv'\n",
    "\n",
    "df = pd.read_csv(path_to_data, sep = ';')\n",
    "df.head(10)"
   ]
  },
  {
   "cell_type": "markdown",
   "metadata": {},
   "source": [
    "## Extracción de características con NLP"
   ]
  },
  {
   "cell_type": "markdown",
   "metadata": {},
   "source": [
    "Pasos a seguir:\n",
    "1. Preprocesamiento del texto\n",
    "\n",
    "- Limpieza: eliminar caracteres especiales, números innecesarios, URLs, referencias\n",
    "- Normalización: convertir a minúsculas, manejar acentos y caracteres especiales\n",
    "- Tokenización: dividir el texto en palabras/tokens individuales\n",
    "- Eliminación de stopwords: quitar palabras comunes sin valor semántico (\"el\", \"la\", \"de\", \"and\", \"the\")\n",
    "- Stemming/Lemmatización: reducir palabras a su raíz o forma base"
   ]
  },
  {
   "cell_type": "markdown",
   "metadata": {},
   "source": [
    "2.  Extracción de características textuales\n",
    "Métodos tradicionales:\n",
    "\n",
    "- Bag of Words (BoW): frecuencia de palabras\n",
    "- TF-IDF: Term Frequency - Inverse Document Frequency\n",
    "- N-gramas: combinaciones de 2-3 palabras consecutivas"
   ]
  },
  {
   "cell_type": "markdown",
   "metadata": {},
   "source": [
    "3. Entrenamiento modelos clasicos\n",
    "4. Reducción de dimensionalidad\n",
    "5. Re-entrenamiento\n"
   ]
  },
  {
   "cell_type": "markdown",
   "metadata": {},
   "source": [
    "## Ejemplo de test con los pasos anteriores:"
   ]
  },
  {
   "cell_type": "code",
   "execution_count": 30,
   "metadata": {},
   "outputs": [
    {
     "name": "stdout",
     "output_type": "stream",
     "text": [
      "Adrenoleukodystrophy ( ALD ) is a genetically determined disorder associated with progressive central demyelination and adrenal cortical insufficiency . All affected persons show increased levels of saturated unbranched very-long-chain fatty acids , particularly hexacosanoate ( C26  0 ) , because of impaired capacity to degrade these acids . This degradation normally takes place in a subcellular organelle called the peroxisome , and ALD , together with Zellwegers cerebrohepatorenal syndrome , is now considered to belong to the newly formed category of peroxisomal disorders . Biochemical assays permit prenatal diagnosis , as well as identification of most heterozygotes . We have identified 303 patients with ALD in 217 kindreds . These patients show a wide phenotypic variation . Sixty percent of patients had childhood ALD and 17 % adrenomyeloneuropathy , both of which are X-linked , with the gene mapped to Xq28 . Neonatal ALD , a distinct entity with autosomal recessive inheritance and points of resemblance to Zellwegers syndrome , accounted for 7 % of the cases . Although excess C26  0 in the brain of patients with ALD is partially of dietary origin , dietary C26  0 restriction did not produce clear benefit . Bone marrow transplant lowered the plasma C26  0 level but failed to arrest neurological progression . .\n"
     ]
    }
   ],
   "source": [
    "abstract_example = df.iloc[0]['abstract']\n",
    "print(abstract_example)"
   ]
  },
  {
   "cell_type": "markdown",
   "metadata": {},
   "source": [
    "1. Tokenización:  \n",
    "Dividir texto en palabras, oraciones o elementos pequeños. Ej: Convertir párrafo en lista de palabras."
   ]
  },
  {
   "cell_type": "code",
   "execution_count": 31,
   "metadata": {},
   "outputs": [
    {
     "name": "stderr",
     "output_type": "stream",
     "text": [
      "[nltk_data] Downloading package punkt_tab to\n",
      "[nltk_data]     /home/codespace/nltk_data...\n",
      "[nltk_data]   Package punkt_tab is already up-to-date!\n"
     ]
    }
   ],
   "source": [
    "import nltk\n",
    "nltk.download('punkt_tab')\n",
    "\n",
    "def tokenize_text(text):\n",
    "    return nltk.word_tokenize(text)"
   ]
  },
  {
   "cell_type": "code",
   "execution_count": 32,
   "metadata": {},
   "outputs": [
    {
     "name": "stdout",
     "output_type": "stream",
     "text": [
      "['Adrenoleukodystrophy', '(', 'ALD', ')', 'is', 'a', 'genetically', 'determined', 'disorder', 'associated', 'with', 'progressive', 'central', 'demyelination', 'and', 'adrenal', 'cortical', 'insufficiency', '.', 'All', 'affected', 'persons', 'show', 'increased', 'levels', 'of', 'saturated', 'unbranched', 'very-long-chain', 'fatty', 'acids', ',', 'particularly', 'hexacosanoate', '(', 'C26', '0', ')', ',', 'because', 'of', 'impaired', 'capacity', 'to', 'degrade', 'these', 'acids', '.', 'This', 'degradation', 'normally', 'takes', 'place', 'in', 'a', 'subcellular', 'organelle', 'called', 'the', 'peroxisome', ',', 'and', 'ALD', ',', 'together', 'with', 'Zellwegers', 'cerebrohepatorenal', 'syndrome', ',', 'is', 'now', 'considered', 'to', 'belong', 'to', 'the', 'newly', 'formed', 'category', 'of', 'peroxisomal', 'disorders', '.', 'Biochemical', 'assays', 'permit', 'prenatal', 'diagnosis', ',', 'as', 'well', 'as', 'identification', 'of', 'most', 'heterozygotes', '.', 'We', 'have', 'identified', '303', 'patients', 'with', 'ALD', 'in', '217', 'kindreds', '.', 'These', 'patients', 'show', 'a', 'wide', 'phenotypic', 'variation', '.', 'Sixty', 'percent', 'of', 'patients', 'had', 'childhood', 'ALD', 'and', '17', '%', 'adrenomyeloneuropathy', ',', 'both', 'of', 'which', 'are', 'X-linked', ',', 'with', 'the', 'gene', 'mapped', 'to', 'Xq28', '.', 'Neonatal', 'ALD', ',', 'a', 'distinct', 'entity', 'with', 'autosomal', 'recessive', 'inheritance', 'and', 'points', 'of', 'resemblance', 'to', 'Zellwegers', 'syndrome', ',', 'accounted', 'for', '7', '%', 'of', 'the', 'cases', '.', 'Although', 'excess', 'C26', '0', 'in', 'the', 'brain', 'of', 'patients', 'with', 'ALD', 'is', 'partially', 'of', 'dietary', 'origin', ',', 'dietary', 'C26', '0', 'restriction', 'did', 'not', 'produce', 'clear', 'benefit', '.', 'Bone', 'marrow', 'transplant', 'lowered', 'the', 'plasma', 'C26', '0', 'level', 'but', 'failed', 'to', 'arrest', 'neurological', 'progression', '.', '.']\n"
     ]
    }
   ],
   "source": [
    "tokens = tokenize_text(abstract_example)\n",
    "print(tokens)"
   ]
  },
  {
   "cell_type": "markdown",
   "metadata": {},
   "source": [
    "2. Limpieza:\n",
    "Eliminar caracteres especiales."
   ]
  },
  {
   "cell_type": "code",
   "execution_count": 33,
   "metadata": {},
   "outputs": [],
   "source": [
    "def clean_basic_tokens(tokens):\n",
    "    return [token.lower() for token in tokens if token.isalpha()]"
   ]
  },
  {
   "cell_type": "code",
   "execution_count": 34,
   "metadata": {},
   "outputs": [
    {
     "name": "stdout",
     "output_type": "stream",
     "text": [
      "['adrenoleukodystrophy', 'ald', 'is', 'a', 'genetically', 'determined', 'disorder', 'associated', 'with', 'progressive', 'central', 'demyelination', 'and', 'adrenal', 'cortical', 'insufficiency', 'all', 'affected', 'persons', 'show', 'increased', 'levels', 'of', 'saturated', 'unbranched', 'fatty', 'acids', 'particularly', 'hexacosanoate', 'because', 'of', 'impaired', 'capacity', 'to', 'degrade', 'these', 'acids', 'this', 'degradation', 'normally', 'takes', 'place', 'in', 'a', 'subcellular', 'organelle', 'called', 'the', 'peroxisome', 'and', 'ald', 'together', 'with', 'zellwegers', 'cerebrohepatorenal', 'syndrome', 'is', 'now', 'considered', 'to', 'belong', 'to', 'the', 'newly', 'formed', 'category', 'of', 'peroxisomal', 'disorders', 'biochemical', 'assays', 'permit', 'prenatal', 'diagnosis', 'as', 'well', 'as', 'identification', 'of', 'most', 'heterozygotes', 'we', 'have', 'identified', 'patients', 'with', 'ald', 'in', 'kindreds', 'these', 'patients', 'show', 'a', 'wide', 'phenotypic', 'variation', 'sixty', 'percent', 'of', 'patients', 'had', 'childhood', 'ald', 'and', 'adrenomyeloneuropathy', 'both', 'of', 'which', 'are', 'with', 'the', 'gene', 'mapped', 'to', 'neonatal', 'ald', 'a', 'distinct', 'entity', 'with', 'autosomal', 'recessive', 'inheritance', 'and', 'points', 'of', 'resemblance', 'to', 'zellwegers', 'syndrome', 'accounted', 'for', 'of', 'the', 'cases', 'although', 'excess', 'in', 'the', 'brain', 'of', 'patients', 'with', 'ald', 'is', 'partially', 'of', 'dietary', 'origin', 'dietary', 'restriction', 'did', 'not', 'produce', 'clear', 'benefit', 'bone', 'marrow', 'transplant', 'lowered', 'the', 'plasma', 'level', 'but', 'failed', 'to', 'arrest', 'neurological', 'progression']\n"
     ]
    }
   ],
   "source": [
    "cleaned_tokens = clean_basic_tokens(tokens)\n",
    "print(cleaned_tokens)"
   ]
  },
  {
   "cell_type": "markdown",
   "metadata": {},
   "source": [
    "3. Lemmatization:  \n",
    "Llevar palabras a su forma raíz.\n",
    "\n",
    "Vamos a usar lemmatizacion en lugar de Stemming dado que necesitamos resultados mas precisos y significativos. Es probable que el Stemming pierda contexto gramatical."
   ]
  },
  {
   "cell_type": "code",
   "execution_count": 35,
   "metadata": {},
   "outputs": [
    {
     "name": "stderr",
     "output_type": "stream",
     "text": [
      "[nltk_data] Downloading package wordnet to\n",
      "[nltk_data]     /home/codespace/nltk_data...\n",
      "[nltk_data]   Package wordnet is already up-to-date!\n",
      "[nltk_data] Downloading package omw-1.4 to\n",
      "[nltk_data]     /home/codespace/nltk_data...\n",
      "[nltk_data]   Package omw-1.4 is already up-to-date!\n"
     ]
    }
   ],
   "source": [
    "from nltk.stem import WordNetLemmatizer\n",
    "\n",
    "nltk.download('wordnet')\n",
    "nltk.download('omw-1.4')\n",
    "\n",
    "lemmatizer = WordNetLemmatizer()\n",
    "def lemmatize_words(words):\n",
    "    return [lemmatizer.lemmatize(word) for word in words]"
   ]
  },
  {
   "cell_type": "code",
   "execution_count": 36,
   "metadata": {},
   "outputs": [
    {
     "name": "stdout",
     "output_type": "stream",
     "text": [
      "['adrenoleukodystrophy', 'ald', 'is', 'a', 'genetically', 'determined', 'disorder', 'associated', 'with', 'progressive', 'central', 'demyelination', 'and', 'adrenal', 'cortical', 'insufficiency', 'all', 'affected', 'person', 'show', 'increased', 'level', 'of', 'saturated', 'unbranched', 'fatty', 'acid', 'particularly', 'hexacosanoate', 'because', 'of', 'impaired', 'capacity', 'to', 'degrade', 'these', 'acid', 'this', 'degradation', 'normally', 'take', 'place', 'in', 'a', 'subcellular', 'organelle', 'called', 'the', 'peroxisome', 'and', 'ald', 'together', 'with', 'zellwegers', 'cerebrohepatorenal', 'syndrome', 'is', 'now', 'considered', 'to', 'belong', 'to', 'the', 'newly', 'formed', 'category', 'of', 'peroxisomal', 'disorder', 'biochemical', 'assay', 'permit', 'prenatal', 'diagnosis', 'a', 'well', 'a', 'identification', 'of', 'most', 'heterozygote', 'we', 'have', 'identified', 'patient', 'with', 'ald', 'in', 'kindred', 'these', 'patient', 'show', 'a', 'wide', 'phenotypic', 'variation', 'sixty', 'percent', 'of', 'patient', 'had', 'childhood', 'ald', 'and', 'adrenomyeloneuropathy', 'both', 'of', 'which', 'are', 'with', 'the', 'gene', 'mapped', 'to', 'neonatal', 'ald', 'a', 'distinct', 'entity', 'with', 'autosomal', 'recessive', 'inheritance', 'and', 'point', 'of', 'resemblance', 'to', 'zellwegers', 'syndrome', 'accounted', 'for', 'of', 'the', 'case', 'although', 'excess', 'in', 'the', 'brain', 'of', 'patient', 'with', 'ald', 'is', 'partially', 'of', 'dietary', 'origin', 'dietary', 'restriction', 'did', 'not', 'produce', 'clear', 'benefit', 'bone', 'marrow', 'transplant', 'lowered', 'the', 'plasma', 'level', 'but', 'failed', 'to', 'arrest', 'neurological', 'progression']\n"
     ]
    }
   ],
   "source": [
    "lemmatized_words = lemmatize_words(cleaned_tokens)\n",
    "print(lemmatized_words)\n"
   ]
  },
  {
   "cell_type": "markdown",
   "metadata": {},
   "source": [
    "4. Eliminar StopWords"
   ]
  },
  {
   "cell_type": "code",
   "execution_count": 37,
   "metadata": {},
   "outputs": [
    {
     "name": "stderr",
     "output_type": "stream",
     "text": [
      "[nltk_data] Downloading package stopwords to\n",
      "[nltk_data]     /home/codespace/nltk_data...\n",
      "[nltk_data]   Package stopwords is already up-to-date!\n"
     ]
    }
   ],
   "source": [
    "from nltk.corpus import stopwords\n",
    "nltk.download('stopwords')\n",
    "\n",
    "academic_medic_stopwords = {\n",
    "        'abstract', 'paper', 'study', 'research', 'article', 'journal',\n",
    "        'analysis', 'method', 'approach', 'technique', 'result', 'conclusion',\n",
    "        'introduction', 'discussion', 'experimental', 'theoretical',\n",
    "        'also', 'however', 'therefore', 'furthermore', 'moreover',\n",
    "        'studies', 'report', 'review', 'evaluation', 'assessment', 'investigation', \n",
    "        'examination', 'observation', 'finding', 'findings', 'results', 'methods', \n",
    "        'methodology', 'patient', 'patients', 'subject', 'subjects', 'participant', \n",
    "        'participants', 'case', 'cases', 'group', 'groups', 'control', 'controls',\n",
    "        'significant', 'significantly', 'statistical', 'statistically',\n",
    "        'important', 'effective', 'successful', 'common', 'rare', 'typical',\n",
    "        'normal', 'abnormal', 'positive', 'negative', 'high', 'low', 'increased', 'decreased'\n",
    "    }\n",
    "\n",
    "def remove_stopwords(tokens):\n",
    "    stop_words = set(stopwords.words('english'))\n",
    "    return [token for token in tokens if token not in stop_words and token not in academic_medic_stopwords]\n"
   ]
  },
  {
   "cell_type": "code",
   "execution_count": 38,
   "metadata": {},
   "outputs": [
    {
     "name": "stdout",
     "output_type": "stream",
     "text": [
      "['adrenoleukodystrophy', 'ald', 'genetically', 'determined', 'disorder', 'associated', 'progressive', 'central', 'demyelination', 'adrenal', 'cortical', 'insufficiency', 'affected', 'person', 'show', 'level', 'saturated', 'unbranched', 'fatty', 'acid', 'particularly', 'hexacosanoate', 'impaired', 'capacity', 'degrade', 'acid', 'degradation', 'normally', 'take', 'place', 'subcellular', 'organelle', 'called', 'peroxisome', 'ald', 'together', 'zellwegers', 'cerebrohepatorenal', 'syndrome', 'considered', 'belong', 'newly', 'formed', 'category', 'peroxisomal', 'disorder', 'biochemical', 'assay', 'permit', 'prenatal', 'diagnosis', 'well', 'identification', 'heterozygote', 'identified', 'ald', 'kindred', 'show', 'wide', 'phenotypic', 'variation', 'sixty', 'percent', 'childhood', 'ald', 'adrenomyeloneuropathy', 'gene', 'mapped', 'neonatal', 'ald', 'distinct', 'entity', 'autosomal', 'recessive', 'inheritance', 'point', 'resemblance', 'zellwegers', 'syndrome', 'accounted', 'although', 'excess', 'brain', 'ald', 'partially', 'dietary', 'origin', 'dietary', 'restriction', 'produce', 'clear', 'benefit', 'bone', 'marrow', 'transplant', 'lowered', 'plasma', 'level', 'failed', 'arrest', 'neurological', 'progression']\n"
     ]
    }
   ],
   "source": [
    "filtered_tokens = remove_stopwords(lemmatized_words)\n",
    "print(filtered_tokens)"
   ]
  },
  {
   "cell_type": "markdown",
   "metadata": {},
   "source": [
    "Pipeline de NLP completo:"
   ]
  },
  {
   "cell_type": "code",
   "execution_count": 41,
   "metadata": {},
   "outputs": [],
   "source": [
    "def tokenization_pipeline(text):\n",
    "    tokens = tokenize_text(text)\n",
    "    cleaned_tokens = clean_basic_tokens(tokens)\n",
    "    lemmatized_words = lemmatize_words(cleaned_tokens)\n",
    "    filtered_words = remove_stopwords(lemmatized_words)\n",
    "    return filtered_words\n"
   ]
  },
  {
   "cell_type": "markdown",
   "metadata": {},
   "source": [
    "### Procesamiento de dataset:"
   ]
  },
  {
   "cell_type": "code",
   "execution_count": 42,
   "metadata": {},
   "outputs": [],
   "source": [
    "df['tokenized_title'] = df['title'].apply(tokenization_pipeline)\n",
    "df['tokenized_abstract'] = df['abstract'].apply(tokenization_pipeline)"
   ]
  },
  {
   "cell_type": "code",
   "execution_count": 43,
   "metadata": {},
   "outputs": [
    {
     "data": {
      "text/html": [
       "<div>\n",
       "<style scoped>\n",
       "    .dataframe tbody tr th:only-of-type {\n",
       "        vertical-align: middle;\n",
       "    }\n",
       "\n",
       "    .dataframe tbody tr th {\n",
       "        vertical-align: top;\n",
       "    }\n",
       "\n",
       "    .dataframe thead th {\n",
       "        text-align: right;\n",
       "    }\n",
       "</style>\n",
       "<table border=\"1\" class=\"dataframe\">\n",
       "  <thead>\n",
       "    <tr style=\"text-align: right;\">\n",
       "      <th></th>\n",
       "      <th>title</th>\n",
       "      <th>abstract</th>\n",
       "      <th>group</th>\n",
       "      <th>tokenized_title</th>\n",
       "      <th>tokenized_abstract</th>\n",
       "    </tr>\n",
       "  </thead>\n",
       "  <tbody>\n",
       "    <tr>\n",
       "      <th>0</th>\n",
       "      <td>Adrenoleukodystrophy: survey of 303 cases: bio...</td>\n",
       "      <td>Adrenoleukodystrophy ( ALD ) is a genetically ...</td>\n",
       "      <td>neurological|hepatorenal</td>\n",
       "      <td>[adrenoleukodystrophy, survey, biochemistry, d...</td>\n",
       "      <td>[adrenoleukodystrophy, ald, genetically, deter...</td>\n",
       "    </tr>\n",
       "    <tr>\n",
       "      <th>1</th>\n",
       "      <td>endoscopy reveals ventricular tachycardia secrets</td>\n",
       "      <td>Research question: How does metformin affect c...</td>\n",
       "      <td>neurological</td>\n",
       "      <td>[endoscopy, reveals, ventricular, tachycardia,...</td>\n",
       "      <td>[question, doe, metformin, affect, cancer, pit...</td>\n",
       "    </tr>\n",
       "    <tr>\n",
       "      <th>2</th>\n",
       "      <td>dementia and cholecystitis: organ interplay</td>\n",
       "      <td>Purpose: This randomized controlled study exam...</td>\n",
       "      <td>hepatorenal</td>\n",
       "      <td>[dementia, cholecystitis, organ, interplay]</td>\n",
       "      <td>[purpose, randomized, controlled, examined, st...</td>\n",
       "    </tr>\n",
       "    <tr>\n",
       "      <th>3</th>\n",
       "      <td>The interpeduncular nucleus regulates nicotine...</td>\n",
       "      <td>Partial lesions were made with kainic acid in ...</td>\n",
       "      <td>neurological</td>\n",
       "      <td>[interpeduncular, nucleus, regulates, nicotine...</td>\n",
       "      <td>[partial, lesion, made, kainic, acid, interped...</td>\n",
       "    </tr>\n",
       "    <tr>\n",
       "      <th>4</th>\n",
       "      <td>guillain-barre syndrome pathways in leukemia</td>\n",
       "      <td>Hypothesis: statins improves stroke outcomes v...</td>\n",
       "      <td>neurological</td>\n",
       "      <td>[syndrome, pathway, leukemia]</td>\n",
       "      <td>[hypothesis, statin, improves, stroke, outcome...</td>\n",
       "    </tr>\n",
       "    <tr>\n",
       "      <th>...</th>\n",
       "      <td>...</td>\n",
       "      <td>...</td>\n",
       "      <td>...</td>\n",
       "      <td>...</td>\n",
       "      <td>...</td>\n",
       "    </tr>\n",
       "    <tr>\n",
       "      <th>3560</th>\n",
       "      <td>The effect of recombinant human insulin-like g...</td>\n",
       "      <td>We recently demonstrated that recombinant hGH ...</td>\n",
       "      <td>neurological|cardiovascular|hepatorenal</td>\n",
       "      <td>[effect, recombinant, human, growth, chronic, ...</td>\n",
       "      <td>[recently, demonstrated, recombinant, hgh, exa...</td>\n",
       "    </tr>\n",
       "    <tr>\n",
       "      <th>3561</th>\n",
       "      <td>EEG reveals leukemia secrets</td>\n",
       "      <td>Hypothesis: metformin improves dementia outcom...</td>\n",
       "      <td>neurological</td>\n",
       "      <td>[eeg, reveals, leukemia, secret]</td>\n",
       "      <td>[hypothesis, metformin, improves, dementia, ou...</td>\n",
       "    </tr>\n",
       "    <tr>\n",
       "      <th>3562</th>\n",
       "      <td>venous pathways in angina pectoris</td>\n",
       "      <td>Hypothesis: metformin improves heart disease o...</td>\n",
       "      <td>neurological|cardiovascular</td>\n",
       "      <td>[venous, pathway, angina, pectoris]</td>\n",
       "      <td>[hypothesis, metformin, improves, heart, disea...</td>\n",
       "    </tr>\n",
       "    <tr>\n",
       "      <th>3563</th>\n",
       "      <td>Thyroxine abuse: an unusual case of thyrotoxic...</td>\n",
       "      <td>Eating disorders and the associated behavioura...</td>\n",
       "      <td>neurological</td>\n",
       "      <td>[thyroxine, abuse, unusual, thyrotoxicosis, pr...</td>\n",
       "      <td>[eating, disorder, associated, behavioural, pr...</td>\n",
       "    </tr>\n",
       "    <tr>\n",
       "      <th>3564</th>\n",
       "      <td>hepatitis and hypertensive: cardiac connections</td>\n",
       "      <td>Aim: To investigate aspirin effects on heart d...</td>\n",
       "      <td>cardiovascular|oncological</td>\n",
       "      <td>[hepatitis, hypertensive, cardiac, connection]</td>\n",
       "      <td>[aim, investigate, aspirin, effect, heart, dis...</td>\n",
       "    </tr>\n",
       "  </tbody>\n",
       "</table>\n",
       "<p>3565 rows × 5 columns</p>\n",
       "</div>"
      ],
      "text/plain": [
       "                                                  title  \\\n",
       "0     Adrenoleukodystrophy: survey of 303 cases: bio...   \n",
       "1     endoscopy reveals ventricular tachycardia secrets   \n",
       "2           dementia and cholecystitis: organ interplay   \n",
       "3     The interpeduncular nucleus regulates nicotine...   \n",
       "4          guillain-barre syndrome pathways in leukemia   \n",
       "...                                                 ...   \n",
       "3560  The effect of recombinant human insulin-like g...   \n",
       "3561                       EEG reveals leukemia secrets   \n",
       "3562                 venous pathways in angina pectoris   \n",
       "3563  Thyroxine abuse: an unusual case of thyrotoxic...   \n",
       "3564    hepatitis and hypertensive: cardiac connections   \n",
       "\n",
       "                                               abstract  \\\n",
       "0     Adrenoleukodystrophy ( ALD ) is a genetically ...   \n",
       "1     Research question: How does metformin affect c...   \n",
       "2     Purpose: This randomized controlled study exam...   \n",
       "3     Partial lesions were made with kainic acid in ...   \n",
       "4     Hypothesis: statins improves stroke outcomes v...   \n",
       "...                                                 ...   \n",
       "3560  We recently demonstrated that recombinant hGH ...   \n",
       "3561  Hypothesis: metformin improves dementia outcom...   \n",
       "3562  Hypothesis: metformin improves heart disease o...   \n",
       "3563  Eating disorders and the associated behavioura...   \n",
       "3564  Aim: To investigate aspirin effects on heart d...   \n",
       "\n",
       "                                        group  \\\n",
       "0                    neurological|hepatorenal   \n",
       "1                                neurological   \n",
       "2                                 hepatorenal   \n",
       "3                                neurological   \n",
       "4                                neurological   \n",
       "...                                       ...   \n",
       "3560  neurological|cardiovascular|hepatorenal   \n",
       "3561                             neurological   \n",
       "3562              neurological|cardiovascular   \n",
       "3563                             neurological   \n",
       "3564               cardiovascular|oncological   \n",
       "\n",
       "                                        tokenized_title  \\\n",
       "0     [adrenoleukodystrophy, survey, biochemistry, d...   \n",
       "1     [endoscopy, reveals, ventricular, tachycardia,...   \n",
       "2           [dementia, cholecystitis, organ, interplay]   \n",
       "3     [interpeduncular, nucleus, regulates, nicotine...   \n",
       "4                         [syndrome, pathway, leukemia]   \n",
       "...                                                 ...   \n",
       "3560  [effect, recombinant, human, growth, chronic, ...   \n",
       "3561                   [eeg, reveals, leukemia, secret]   \n",
       "3562                [venous, pathway, angina, pectoris]   \n",
       "3563  [thyroxine, abuse, unusual, thyrotoxicosis, pr...   \n",
       "3564     [hepatitis, hypertensive, cardiac, connection]   \n",
       "\n",
       "                                     tokenized_abstract  \n",
       "0     [adrenoleukodystrophy, ald, genetically, deter...  \n",
       "1     [question, doe, metformin, affect, cancer, pit...  \n",
       "2     [purpose, randomized, controlled, examined, st...  \n",
       "3     [partial, lesion, made, kainic, acid, interped...  \n",
       "4     [hypothesis, statin, improves, stroke, outcome...  \n",
       "...                                                 ...  \n",
       "3560  [recently, demonstrated, recombinant, hgh, exa...  \n",
       "3561  [hypothesis, metformin, improves, dementia, ou...  \n",
       "3562  [hypothesis, metformin, improves, heart, disea...  \n",
       "3563  [eating, disorder, associated, behavioural, pr...  \n",
       "3564  [aim, investigate, aspirin, effect, heart, dis...  \n",
       "\n",
       "[3565 rows x 5 columns]"
      ]
     },
     "execution_count": 43,
     "metadata": {},
     "output_type": "execute_result"
    }
   ],
   "source": [
    "df"
   ]
  }
 ],
 "metadata": {
  "kernelspec": {
   "display_name": "Python 3 (ipykernel)",
   "language": "python",
   "name": "python3"
  },
  "language_info": {
   "codemirror_mode": {
    "name": "ipython",
    "version": 3
   },
   "file_extension": ".py",
   "mimetype": "text/x-python",
   "name": "python",
   "nbconvert_exporter": "python",
   "pygments_lexer": "ipython3",
   "version": "3.12.1"
  }
 },
 "nbformat": 4,
 "nbformat_minor": 2
}
