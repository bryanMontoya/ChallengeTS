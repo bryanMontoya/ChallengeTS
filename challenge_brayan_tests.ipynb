{
 "cells": [
  {
   "cell_type": "markdown",
   "metadata": {},
   "source": [
    "# Los MiserAIbles\n",
    "Sorany Hincapie Salazar  \n",
    "Brayan Montoya Osorio"
   ]
  },
  {
   "cell_type": "markdown",
   "metadata": {},
   "source": [
    "### Exploración de los datos"
   ]
  },
  {
   "cell_type": "code",
   "execution_count": 129,
   "metadata": {},
   "outputs": [],
   "source": [
    "import pandas as pd"
   ]
  },
  {
   "cell_type": "code",
   "execution_count": 130,
   "metadata": {},
   "outputs": [
    {
     "data": {
      "text/html": [
       "<div>\n",
       "<style scoped>\n",
       "    .dataframe tbody tr th:only-of-type {\n",
       "        vertical-align: middle;\n",
       "    }\n",
       "\n",
       "    .dataframe tbody tr th {\n",
       "        vertical-align: top;\n",
       "    }\n",
       "\n",
       "    .dataframe thead th {\n",
       "        text-align: right;\n",
       "    }\n",
       "</style>\n",
       "<table border=\"1\" class=\"dataframe\">\n",
       "  <thead>\n",
       "    <tr style=\"text-align: right;\">\n",
       "      <th></th>\n",
       "      <th>title</th>\n",
       "      <th>abstract</th>\n",
       "      <th>group</th>\n",
       "    </tr>\n",
       "  </thead>\n",
       "  <tbody>\n",
       "    <tr>\n",
       "      <th>0</th>\n",
       "      <td>Adrenoleukodystrophy: survey of 303 cases: bio...</td>\n",
       "      <td>Adrenoleukodystrophy ( ALD ) is a genetically ...</td>\n",
       "      <td>neurological|hepatorenal</td>\n",
       "    </tr>\n",
       "    <tr>\n",
       "      <th>1</th>\n",
       "      <td>endoscopy reveals ventricular tachycardia secrets</td>\n",
       "      <td>Research question: How does metformin affect c...</td>\n",
       "      <td>neurological</td>\n",
       "    </tr>\n",
       "    <tr>\n",
       "      <th>2</th>\n",
       "      <td>dementia and cholecystitis: organ interplay</td>\n",
       "      <td>Purpose: This randomized controlled study exam...</td>\n",
       "      <td>hepatorenal</td>\n",
       "    </tr>\n",
       "    <tr>\n",
       "      <th>3</th>\n",
       "      <td>The interpeduncular nucleus regulates nicotine...</td>\n",
       "      <td>Partial lesions were made with kainic acid in ...</td>\n",
       "      <td>neurological</td>\n",
       "    </tr>\n",
       "    <tr>\n",
       "      <th>4</th>\n",
       "      <td>guillain-barre syndrome pathways in leukemia</td>\n",
       "      <td>Hypothesis: statins improves stroke outcomes v...</td>\n",
       "      <td>neurological</td>\n",
       "    </tr>\n",
       "    <tr>\n",
       "      <th>5</th>\n",
       "      <td>Effects of suprofen on the isolated perfused r...</td>\n",
       "      <td>Although suprofen has been associated with the...</td>\n",
       "      <td>hepatorenal</td>\n",
       "    </tr>\n",
       "    <tr>\n",
       "      <th>6</th>\n",
       "      <td>atherosclerosis and lymphoma: vascular insights</td>\n",
       "      <td>Aim: To investigate aspirin effects on diabete...</td>\n",
       "      <td>cardiovascular</td>\n",
       "    </tr>\n",
       "    <tr>\n",
       "      <th>7</th>\n",
       "      <td>Potential therapeutic use of the selective dop...</td>\n",
       "      <td>The clinical utility of dopamine (DA) D1 recep...</td>\n",
       "      <td>neurological</td>\n",
       "    </tr>\n",
       "    <tr>\n",
       "      <th>8</th>\n",
       "      <td>The basal ganglia connection in epilepsy</td>\n",
       "      <td>Background: dementia affects cardiac patients ...</td>\n",
       "      <td>neurological</td>\n",
       "    </tr>\n",
       "    <tr>\n",
       "      <th>9</th>\n",
       "      <td>septum and peripheral artery disease: vascular...</td>\n",
       "      <td>Purpose: This observational study examined cal...</td>\n",
       "      <td>cardiovascular</td>\n",
       "    </tr>\n",
       "  </tbody>\n",
       "</table>\n",
       "</div>"
      ],
      "text/plain": [
       "                                               title  \\\n",
       "0  Adrenoleukodystrophy: survey of 303 cases: bio...   \n",
       "1  endoscopy reveals ventricular tachycardia secrets   \n",
       "2        dementia and cholecystitis: organ interplay   \n",
       "3  The interpeduncular nucleus regulates nicotine...   \n",
       "4       guillain-barre syndrome pathways in leukemia   \n",
       "5  Effects of suprofen on the isolated perfused r...   \n",
       "6    atherosclerosis and lymphoma: vascular insights   \n",
       "7  Potential therapeutic use of the selective dop...   \n",
       "8           The basal ganglia connection in epilepsy   \n",
       "9  septum and peripheral artery disease: vascular...   \n",
       "\n",
       "                                            abstract                     group  \n",
       "0  Adrenoleukodystrophy ( ALD ) is a genetically ...  neurological|hepatorenal  \n",
       "1  Research question: How does metformin affect c...              neurological  \n",
       "2  Purpose: This randomized controlled study exam...               hepatorenal  \n",
       "3  Partial lesions were made with kainic acid in ...              neurological  \n",
       "4  Hypothesis: statins improves stroke outcomes v...              neurological  \n",
       "5  Although suprofen has been associated with the...               hepatorenal  \n",
       "6  Aim: To investigate aspirin effects on diabete...            cardiovascular  \n",
       "7  The clinical utility of dopamine (DA) D1 recep...              neurological  \n",
       "8  Background: dementia affects cardiac patients ...              neurological  \n",
       "9  Purpose: This observational study examined cal...            cardiovascular  "
      ]
     },
     "execution_count": 130,
     "metadata": {},
     "output_type": "execute_result"
    }
   ],
   "source": [
    "path_to_data = 'data/challenge_data-18-ago.csv'\n",
    "\n",
    "df = pd.read_csv(path_to_data, sep = ';')\n",
    "df.head(10)"
   ]
  },
  {
   "cell_type": "markdown",
   "metadata": {},
   "source": [
    "## Extracción de características con NLP"
   ]
  },
  {
   "cell_type": "markdown",
   "metadata": {},
   "source": [
    "Pasos a seguir:\n",
    "1. Preprocesamiento del texto\n",
    "\n",
    "- Limpieza: eliminar caracteres especiales, números innecesarios, URLs, referencias\n",
    "- Normalización: convertir a minúsculas, manejar acentos y caracteres especiales\n",
    "- Tokenización: dividir el texto en palabras/tokens individuales\n",
    "- Eliminación de stopwords: quitar palabras comunes sin valor semántico (\"el\", \"la\", \"de\", \"and\", \"the\")\n",
    "- Stemming/Lemmatización: reducir palabras a su raíz o forma base"
   ]
  },
  {
   "cell_type": "markdown",
   "metadata": {},
   "source": [
    "2.  Extracción de características textuales\n",
    "Métodos tradicionales:\n",
    "\n",
    "- Bag of Words (BoW): frecuencia de palabras\n",
    "- TF-IDF: Term Frequency - Inverse Document Frequency\n",
    "- N-gramas: combinaciones de 2-3 palabras consecutivas"
   ]
  },
  {
   "cell_type": "markdown",
   "metadata": {},
   "source": [
    "3. Entrenamiento modelos clasicos\n",
    "4. Reducción de dimensionalidad\n",
    "5. Re-entrenamiento\n"
   ]
  },
  {
   "cell_type": "markdown",
   "metadata": {},
   "source": [
    "## Ejemplo de test con los pasos anteriores:"
   ]
  },
  {
   "cell_type": "code",
   "execution_count": 131,
   "metadata": {},
   "outputs": [
    {
     "name": "stdout",
     "output_type": "stream",
     "text": [
      "Adrenoleukodystrophy ( ALD ) is a genetically determined disorder associated with progressive central demyelination and adrenal cortical insufficiency . All affected persons show increased levels of saturated unbranched very-long-chain fatty acids , particularly hexacosanoate ( C26  0 ) , because of impaired capacity to degrade these acids . This degradation normally takes place in a subcellular organelle called the peroxisome , and ALD , together with Zellwegers cerebrohepatorenal syndrome , is now considered to belong to the newly formed category of peroxisomal disorders . Biochemical assays permit prenatal diagnosis , as well as identification of most heterozygotes . We have identified 303 patients with ALD in 217 kindreds . These patients show a wide phenotypic variation . Sixty percent of patients had childhood ALD and 17 % adrenomyeloneuropathy , both of which are X-linked , with the gene mapped to Xq28 . Neonatal ALD , a distinct entity with autosomal recessive inheritance and points of resemblance to Zellwegers syndrome , accounted for 7 % of the cases . Although excess C26  0 in the brain of patients with ALD is partially of dietary origin , dietary C26  0 restriction did not produce clear benefit . Bone marrow transplant lowered the plasma C26  0 level but failed to arrest neurological progression . .\n"
     ]
    }
   ],
   "source": [
    "abstract_example = df.iloc[0]['abstract']\n",
    "print(abstract_example)"
   ]
  },
  {
   "cell_type": "code",
   "execution_count": 139,
   "metadata": {},
   "outputs": [
    {
     "name": "stdout",
     "output_type": "stream",
     "text": [
      "showing info https://raw.githubusercontent.com/nltk/nltk_data/gh-pages/index.xml\n"
     ]
    },
    {
     "data": {
      "text/plain": [
       "True"
      ]
     },
     "execution_count": 139,
     "metadata": {},
     "output_type": "execute_result"
    }
   ],
   "source": [
    "import nltk\n",
    "import ssl\n",
    "\n",
    "try:\n",
    "    _create_unverified_https_context = ssl._create_unverified_context\n",
    "except AttributeError:\n",
    "    pass\n",
    "else:\n",
    "    ssl._create_default_https_context = _create_unverified_https_context\n",
    "\n",
    "nltk.download()"
   ]
  },
  {
   "cell_type": "markdown",
   "metadata": {},
   "source": [
    "1. Tokenización:  \n",
    "Dividir texto en palabras, oraciones o elementos pequeños. Ej: Convertir párrafo en lista de palabras."
   ]
  },
  {
   "cell_type": "code",
   "execution_count": 132,
   "metadata": {},
   "outputs": [],
   "source": [
    "import nltk\n",
    "\n",
    "def tokenize_text(text):\n",
    "    return nltk.word_tokenize(text)"
   ]
  },
  {
   "cell_type": "code",
   "execution_count": 133,
   "metadata": {},
   "outputs": [
    {
     "name": "stdout",
     "output_type": "stream",
     "text": [
      "['Adrenoleukodystrophy', '(', 'ALD', ')', 'is', 'a', 'genetically', 'determined', 'disorder', 'associated', 'with', 'progressive', 'central', 'demyelination', 'and', 'adrenal', 'cortical', 'insufficiency', '.', 'All', 'affected', 'persons', 'show', 'increased', 'levels', 'of', 'saturated', 'unbranched', 'very-long-chain', 'fatty', 'acids', ',', 'particularly', 'hexacosanoate', '(', 'C26', '0', ')', ',', 'because', 'of', 'impaired', 'capacity', 'to', 'degrade', 'these', 'acids', '.', 'This', 'degradation', 'normally', 'takes', 'place', 'in', 'a', 'subcellular', 'organelle', 'called', 'the', 'peroxisome', ',', 'and', 'ALD', ',', 'together', 'with', 'Zellwegers', 'cerebrohepatorenal', 'syndrome', ',', 'is', 'now', 'considered', 'to', 'belong', 'to', 'the', 'newly', 'formed', 'category', 'of', 'peroxisomal', 'disorders', '.', 'Biochemical', 'assays', 'permit', 'prenatal', 'diagnosis', ',', 'as', 'well', 'as', 'identification', 'of', 'most', 'heterozygotes', '.', 'We', 'have', 'identified', '303', 'patients', 'with', 'ALD', 'in', '217', 'kindreds', '.', 'These', 'patients', 'show', 'a', 'wide', 'phenotypic', 'variation', '.', 'Sixty', 'percent', 'of', 'patients', 'had', 'childhood', 'ALD', 'and', '17', '%', 'adrenomyeloneuropathy', ',', 'both', 'of', 'which', 'are', 'X-linked', ',', 'with', 'the', 'gene', 'mapped', 'to', 'Xq28', '.', 'Neonatal', 'ALD', ',', 'a', 'distinct', 'entity', 'with', 'autosomal', 'recessive', 'inheritance', 'and', 'points', 'of', 'resemblance', 'to', 'Zellwegers', 'syndrome', ',', 'accounted', 'for', '7', '%', 'of', 'the', 'cases', '.', 'Although', 'excess', 'C26', '0', 'in', 'the', 'brain', 'of', 'patients', 'with', 'ALD', 'is', 'partially', 'of', 'dietary', 'origin', ',', 'dietary', 'C26', '0', 'restriction', 'did', 'not', 'produce', 'clear', 'benefit', '.', 'Bone', 'marrow', 'transplant', 'lowered', 'the', 'plasma', 'C26', '0', 'level', 'but', 'failed', 'to', 'arrest', 'neurological', 'progression', '.', '.']\n"
     ]
    }
   ],
   "source": [
    "tokens = tokenize_text(abstract_example)\n",
    "print(tokens)"
   ]
  },
  {
   "cell_type": "markdown",
   "metadata": {},
   "source": [
    "2. Limpieza:\n",
    "Eliminar caracteres especiales."
   ]
  },
  {
   "cell_type": "code",
   "execution_count": 134,
   "metadata": {},
   "outputs": [],
   "source": [
    "def clean_basic_tokens(tokens):\n",
    "    return [token.lower() for token in tokens if token.isalpha()]"
   ]
  },
  {
   "cell_type": "code",
   "execution_count": 135,
   "metadata": {},
   "outputs": [
    {
     "name": "stdout",
     "output_type": "stream",
     "text": [
      "['adrenoleukodystrophy', 'ald', 'is', 'a', 'genetically', 'determined', 'disorder', 'associated', 'with', 'progressive', 'central', 'demyelination', 'and', 'adrenal', 'cortical', 'insufficiency', 'all', 'affected', 'persons', 'show', 'increased', 'levels', 'of', 'saturated', 'unbranched', 'fatty', 'acids', 'particularly', 'hexacosanoate', 'because', 'of', 'impaired', 'capacity', 'to', 'degrade', 'these', 'acids', 'this', 'degradation', 'normally', 'takes', 'place', 'in', 'a', 'subcellular', 'organelle', 'called', 'the', 'peroxisome', 'and', 'ald', 'together', 'with', 'zellwegers', 'cerebrohepatorenal', 'syndrome', 'is', 'now', 'considered', 'to', 'belong', 'to', 'the', 'newly', 'formed', 'category', 'of', 'peroxisomal', 'disorders', 'biochemical', 'assays', 'permit', 'prenatal', 'diagnosis', 'as', 'well', 'as', 'identification', 'of', 'most', 'heterozygotes', 'we', 'have', 'identified', 'patients', 'with', 'ald', 'in', 'kindreds', 'these', 'patients', 'show', 'a', 'wide', 'phenotypic', 'variation', 'sixty', 'percent', 'of', 'patients', 'had', 'childhood', 'ald', 'and', 'adrenomyeloneuropathy', 'both', 'of', 'which', 'are', 'with', 'the', 'gene', 'mapped', 'to', 'neonatal', 'ald', 'a', 'distinct', 'entity', 'with', 'autosomal', 'recessive', 'inheritance', 'and', 'points', 'of', 'resemblance', 'to', 'zellwegers', 'syndrome', 'accounted', 'for', 'of', 'the', 'cases', 'although', 'excess', 'in', 'the', 'brain', 'of', 'patients', 'with', 'ald', 'is', 'partially', 'of', 'dietary', 'origin', 'dietary', 'restriction', 'did', 'not', 'produce', 'clear', 'benefit', 'bone', 'marrow', 'transplant', 'lowered', 'the', 'plasma', 'level', 'but', 'failed', 'to', 'arrest', 'neurological', 'progression']\n"
     ]
    }
   ],
   "source": [
    "cleaned_tokens = clean_basic_tokens(tokens)\n",
    "print(cleaned_tokens)"
   ]
  },
  {
   "cell_type": "markdown",
   "metadata": {},
   "source": [
    "3. Lemmatization:  \n",
    "Llevar palabras a su forma raíz.\n",
    "\n",
    "Vamos a usar lemmatizacion en lugar de Stemming dado que necesitamos resultados mas precisos y significativos. Es probable que el Stemming pierda contexto gramatical."
   ]
  },
  {
   "cell_type": "code",
   "execution_count": 136,
   "metadata": {},
   "outputs": [
    {
     "name": "stderr",
     "output_type": "stream",
     "text": [
      "[nltk_data] Error loading wordnet: <urlopen error [SSL:\n",
      "[nltk_data]     CERTIFICATE_VERIFY_FAILED] certificate verify failed:\n",
      "[nltk_data]     unable to get local issuer certificate (_ssl.c:1018)>\n",
      "[nltk_data] Error loading omw-1.4: <urlopen error [SSL:\n",
      "[nltk_data]     CERTIFICATE_VERIFY_FAILED] certificate verify failed:\n",
      "[nltk_data]     unable to get local issuer certificate (_ssl.c:1018)>\n"
     ]
    }
   ],
   "source": [
    "from nltk.stem import WordNetLemmatizer\n",
    "\n",
    "nltk.download('wordnet')\n",
    "nltk.download('omw-1.4')\n",
    "\n",
    "lemmatizer = WordNetLemmatizer()\n",
    "def lemmatize_words(words):\n",
    "    return [lemmatizer.lemmatize(word) for word in words]"
   ]
  },
  {
   "cell_type": "code",
   "execution_count": 137,
   "metadata": {},
   "outputs": [
    {
     "ename": "LookupError",
     "evalue": "\n**********************************************************************\n  Resource \u001b[93mwordnet\u001b[0m not found.\n  Please use the NLTK Downloader to obtain the resource:\n\n  \u001b[31m>>> import nltk\n  >>> nltk.download('wordnet')\n  \u001b[0m\n  For more information see: https://www.nltk.org/data.html\n\n  Attempted to load \u001b[93mcorpora/wordnet\u001b[0m\n\n  Searched in:\n    - '/Users/bmontoya/nltk_data'\n    - '/Users/Shared/CISDEV/my_code/projs/ChallengeTS/.venv/nltk_data'\n    - '/Users/Shared/CISDEV/my_code/projs/ChallengeTS/.venv/share/nltk_data'\n    - '/Users/Shared/CISDEV/my_code/projs/ChallengeTS/.venv/lib/nltk_data'\n    - '/usr/share/nltk_data'\n    - '/usr/local/share/nltk_data'\n    - '/usr/lib/nltk_data'\n    - '/usr/local/lib/nltk_data'\n**********************************************************************\n",
     "output_type": "error",
     "traceback": [
      "\u001b[31m---------------------------------------------------------------------------\u001b[39m",
      "\u001b[31mLookupError\u001b[39m                               Traceback (most recent call last)",
      "\u001b[36mFile \u001b[39m\u001b[32m/Users/Shared/CISDEV/my_code/projs/ChallengeTS/.venv/lib/python3.13/site-packages/nltk/corpus/util.py:84\u001b[39m, in \u001b[36mLazyCorpusLoader.__load\u001b[39m\u001b[34m(self)\u001b[39m\n\u001b[32m     83\u001b[39m \u001b[38;5;28;01mtry\u001b[39;00m:\n\u001b[32m---> \u001b[39m\u001b[32m84\u001b[39m     root = \u001b[43mnltk\u001b[49m\u001b[43m.\u001b[49m\u001b[43mdata\u001b[49m\u001b[43m.\u001b[49m\u001b[43mfind\u001b[49m\u001b[43m(\u001b[49m\u001b[33;43mf\u001b[39;49m\u001b[33;43m\"\u001b[39;49m\u001b[38;5;132;43;01m{\u001b[39;49;00m\u001b[38;5;28;43mself\u001b[39;49m\u001b[43m.\u001b[49m\u001b[43msubdir\u001b[49m\u001b[38;5;132;43;01m}\u001b[39;49;00m\u001b[33;43m/\u001b[39;49m\u001b[38;5;132;43;01m{\u001b[39;49;00m\u001b[43mzip_name\u001b[49m\u001b[38;5;132;43;01m}\u001b[39;49;00m\u001b[33;43m\"\u001b[39;49m\u001b[43m)\u001b[49m\n\u001b[32m     85\u001b[39m \u001b[38;5;28;01mexcept\u001b[39;00m \u001b[38;5;167;01mLookupError\u001b[39;00m:\n",
      "\u001b[36mFile \u001b[39m\u001b[32m/Users/Shared/CISDEV/my_code/projs/ChallengeTS/.venv/lib/python3.13/site-packages/nltk/data.py:579\u001b[39m, in \u001b[36mfind\u001b[39m\u001b[34m(resource_name, paths)\u001b[39m\n\u001b[32m    578\u001b[39m resource_not_found = \u001b[33mf\u001b[39m\u001b[33m\"\u001b[39m\u001b[38;5;130;01m\\n\u001b[39;00m\u001b[38;5;132;01m{\u001b[39;00msep\u001b[38;5;132;01m}\u001b[39;00m\u001b[38;5;130;01m\\n\u001b[39;00m\u001b[38;5;132;01m{\u001b[39;00mmsg\u001b[38;5;132;01m}\u001b[39;00m\u001b[38;5;130;01m\\n\u001b[39;00m\u001b[38;5;132;01m{\u001b[39;00msep\u001b[38;5;132;01m}\u001b[39;00m\u001b[38;5;130;01m\\n\u001b[39;00m\u001b[33m\"\u001b[39m\n\u001b[32m--> \u001b[39m\u001b[32m579\u001b[39m \u001b[38;5;28;01mraise\u001b[39;00m \u001b[38;5;167;01mLookupError\u001b[39;00m(resource_not_found)\n",
      "\u001b[31mLookupError\u001b[39m: \n**********************************************************************\n  Resource \u001b[93mwordnet\u001b[0m not found.\n  Please use the NLTK Downloader to obtain the resource:\n\n  \u001b[31m>>> import nltk\n  >>> nltk.download('wordnet')\n  \u001b[0m\n  For more information see: https://www.nltk.org/data.html\n\n  Attempted to load \u001b[93mcorpora/wordnet.zip/wordnet/\u001b[0m\n\n  Searched in:\n    - '/Users/bmontoya/nltk_data'\n    - '/Users/Shared/CISDEV/my_code/projs/ChallengeTS/.venv/nltk_data'\n    - '/Users/Shared/CISDEV/my_code/projs/ChallengeTS/.venv/share/nltk_data'\n    - '/Users/Shared/CISDEV/my_code/projs/ChallengeTS/.venv/lib/nltk_data'\n    - '/usr/share/nltk_data'\n    - '/usr/local/share/nltk_data'\n    - '/usr/lib/nltk_data'\n    - '/usr/local/lib/nltk_data'\n**********************************************************************\n",
      "\nDuring handling of the above exception, another exception occurred:\n",
      "\u001b[31mLookupError\u001b[39m                               Traceback (most recent call last)",
      "\u001b[36mCell\u001b[39m\u001b[36m \u001b[39m\u001b[32mIn[137]\u001b[39m\u001b[32m, line 1\u001b[39m\n\u001b[32m----> \u001b[39m\u001b[32m1\u001b[39m lemmatized_words = \u001b[43mlemmatize_words\u001b[49m\u001b[43m(\u001b[49m\u001b[43mcleaned_tokens\u001b[49m\u001b[43m)\u001b[49m\n\u001b[32m      2\u001b[39m \u001b[38;5;28mprint\u001b[39m(lemmatized_words)\n",
      "\u001b[36mCell\u001b[39m\u001b[36m \u001b[39m\u001b[32mIn[136]\u001b[39m\u001b[32m, line 8\u001b[39m, in \u001b[36mlemmatize_words\u001b[39m\u001b[34m(words)\u001b[39m\n\u001b[32m      7\u001b[39m \u001b[38;5;28;01mdef\u001b[39;00m\u001b[38;5;250m \u001b[39m\u001b[34mlemmatize_words\u001b[39m(words):\n\u001b[32m----> \u001b[39m\u001b[32m8\u001b[39m     \u001b[38;5;28;01mreturn\u001b[39;00m [\u001b[43mlemmatizer\u001b[49m\u001b[43m.\u001b[49m\u001b[43mlemmatize\u001b[49m\u001b[43m(\u001b[49m\u001b[43mword\u001b[49m\u001b[43m)\u001b[49m \u001b[38;5;28;01mfor\u001b[39;00m word \u001b[38;5;129;01min\u001b[39;00m words]\n",
      "\u001b[36mFile \u001b[39m\u001b[32m/Users/Shared/CISDEV/my_code/projs/ChallengeTS/.venv/lib/python3.13/site-packages/nltk/stem/wordnet.py:85\u001b[39m, in \u001b[36mWordNetLemmatizer.lemmatize\u001b[39m\u001b[34m(self, word, pos)\u001b[39m\n\u001b[32m     60\u001b[39m \u001b[38;5;28;01mdef\u001b[39;00m\u001b[38;5;250m \u001b[39m\u001b[34mlemmatize\u001b[39m(\u001b[38;5;28mself\u001b[39m, word: \u001b[38;5;28mstr\u001b[39m, pos: \u001b[38;5;28mstr\u001b[39m = \u001b[33m\"\u001b[39m\u001b[33mn\u001b[39m\u001b[33m\"\u001b[39m) -> \u001b[38;5;28mstr\u001b[39m:\n\u001b[32m     61\u001b[39m \u001b[38;5;250m    \u001b[39m\u001b[33;03m\"\"\"Lemmatize `word` by picking the shortest of the possible lemmas,\u001b[39;00m\n\u001b[32m     62\u001b[39m \u001b[33;03m    using the wordnet corpus reader's built-in _morphy function.\u001b[39;00m\n\u001b[32m     63\u001b[39m \u001b[33;03m    Returns the input word unchanged if it cannot be found in WordNet.\u001b[39;00m\n\u001b[32m   (...)\u001b[39m\u001b[32m     83\u001b[39m \u001b[33;03m    :return: The shortest lemma of `word`, for the given `pos`.\u001b[39;00m\n\u001b[32m     84\u001b[39m \u001b[33;03m    \"\"\"\u001b[39;00m\n\u001b[32m---> \u001b[39m\u001b[32m85\u001b[39m     lemmas = \u001b[38;5;28;43mself\u001b[39;49m\u001b[43m.\u001b[49m\u001b[43m_morphy\u001b[49m\u001b[43m(\u001b[49m\u001b[43mword\u001b[49m\u001b[43m,\u001b[49m\u001b[43m \u001b[49m\u001b[43mpos\u001b[49m\u001b[43m)\u001b[49m\n\u001b[32m     86\u001b[39m     \u001b[38;5;28;01mreturn\u001b[39;00m \u001b[38;5;28mmin\u001b[39m(lemmas, key=\u001b[38;5;28mlen\u001b[39m) \u001b[38;5;28;01mif\u001b[39;00m lemmas \u001b[38;5;28;01melse\u001b[39;00m word\n",
      "\u001b[36mFile \u001b[39m\u001b[32m/Users/Shared/CISDEV/my_code/projs/ChallengeTS/.venv/lib/python3.13/site-packages/nltk/stem/wordnet.py:41\u001b[39m, in \u001b[36mWordNetLemmatizer._morphy\u001b[39m\u001b[34m(self, form, pos, check_exceptions)\u001b[39m\n\u001b[32m     31\u001b[39m \u001b[38;5;250m\u001b[39m\u001b[33;03m\"\"\"\u001b[39;00m\n\u001b[32m     32\u001b[39m \u001b[33;03m_morphy() is WordNet's _morphy lemmatizer.\u001b[39;00m\n\u001b[32m     33\u001b[39m \u001b[33;03mIt returns a list of all lemmas found in WordNet.\u001b[39;00m\n\u001b[32m   (...)\u001b[39m\u001b[32m     37\u001b[39m \u001b[33;03m['us', 'u']\u001b[39;00m\n\u001b[32m     38\u001b[39m \u001b[33;03m\"\"\"\u001b[39;00m\n\u001b[32m     39\u001b[39m \u001b[38;5;28;01mfrom\u001b[39;00m\u001b[38;5;250m \u001b[39m\u001b[34;01mnltk\u001b[39;00m\u001b[34;01m.\u001b[39;00m\u001b[34;01mcorpus\u001b[39;00m\u001b[38;5;250m \u001b[39m\u001b[38;5;28;01mimport\u001b[39;00m wordnet \u001b[38;5;28;01mas\u001b[39;00m wn\n\u001b[32m---> \u001b[39m\u001b[32m41\u001b[39m \u001b[38;5;28;01mreturn\u001b[39;00m \u001b[43mwn\u001b[49m\u001b[43m.\u001b[49m\u001b[43m_morphy\u001b[49m(form, pos, check_exceptions)\n",
      "\u001b[36mFile \u001b[39m\u001b[32m/Users/Shared/CISDEV/my_code/projs/ChallengeTS/.venv/lib/python3.13/site-packages/nltk/corpus/util.py:120\u001b[39m, in \u001b[36mLazyCorpusLoader.__getattr__\u001b[39m\u001b[34m(self, attr)\u001b[39m\n\u001b[32m    117\u001b[39m \u001b[38;5;28;01mif\u001b[39;00m attr == \u001b[33m\"\u001b[39m\u001b[33m__bases__\u001b[39m\u001b[33m\"\u001b[39m:\n\u001b[32m    118\u001b[39m     \u001b[38;5;28;01mraise\u001b[39;00m \u001b[38;5;167;01mAttributeError\u001b[39;00m(\u001b[33m\"\u001b[39m\u001b[33mLazyCorpusLoader object has no attribute \u001b[39m\u001b[33m'\u001b[39m\u001b[33m__bases__\u001b[39m\u001b[33m'\u001b[39m\u001b[33m\"\u001b[39m)\n\u001b[32m--> \u001b[39m\u001b[32m120\u001b[39m \u001b[38;5;28;43mself\u001b[39;49m\u001b[43m.\u001b[49m\u001b[43m__load\u001b[49m\u001b[43m(\u001b[49m\u001b[43m)\u001b[49m\n\u001b[32m    121\u001b[39m \u001b[38;5;66;03m# This looks circular, but its not, since __load() changes our\u001b[39;00m\n\u001b[32m    122\u001b[39m \u001b[38;5;66;03m# __class__ to something new:\u001b[39;00m\n\u001b[32m    123\u001b[39m \u001b[38;5;28;01mreturn\u001b[39;00m \u001b[38;5;28mgetattr\u001b[39m(\u001b[38;5;28mself\u001b[39m, attr)\n",
      "\u001b[36mFile \u001b[39m\u001b[32m/Users/Shared/CISDEV/my_code/projs/ChallengeTS/.venv/lib/python3.13/site-packages/nltk/corpus/util.py:86\u001b[39m, in \u001b[36mLazyCorpusLoader.__load\u001b[39m\u001b[34m(self)\u001b[39m\n\u001b[32m     84\u001b[39m             root = nltk.data.find(\u001b[33mf\u001b[39m\u001b[33m\"\u001b[39m\u001b[38;5;132;01m{\u001b[39;00m\u001b[38;5;28mself\u001b[39m.subdir\u001b[38;5;132;01m}\u001b[39;00m\u001b[33m/\u001b[39m\u001b[38;5;132;01m{\u001b[39;00mzip_name\u001b[38;5;132;01m}\u001b[39;00m\u001b[33m\"\u001b[39m)\n\u001b[32m     85\u001b[39m         \u001b[38;5;28;01mexcept\u001b[39;00m \u001b[38;5;167;01mLookupError\u001b[39;00m:\n\u001b[32m---> \u001b[39m\u001b[32m86\u001b[39m             \u001b[38;5;28;01mraise\u001b[39;00m e\n\u001b[32m     88\u001b[39m \u001b[38;5;66;03m# Load the corpus.\u001b[39;00m\n\u001b[32m     89\u001b[39m corpus = \u001b[38;5;28mself\u001b[39m.__reader_cls(root, *\u001b[38;5;28mself\u001b[39m.__args, **\u001b[38;5;28mself\u001b[39m.__kwargs)\n",
      "\u001b[36mFile \u001b[39m\u001b[32m/Users/Shared/CISDEV/my_code/projs/ChallengeTS/.venv/lib/python3.13/site-packages/nltk/corpus/util.py:81\u001b[39m, in \u001b[36mLazyCorpusLoader.__load\u001b[39m\u001b[34m(self)\u001b[39m\n\u001b[32m     79\u001b[39m \u001b[38;5;28;01melse\u001b[39;00m:\n\u001b[32m     80\u001b[39m     \u001b[38;5;28;01mtry\u001b[39;00m:\n\u001b[32m---> \u001b[39m\u001b[32m81\u001b[39m         root = \u001b[43mnltk\u001b[49m\u001b[43m.\u001b[49m\u001b[43mdata\u001b[49m\u001b[43m.\u001b[49m\u001b[43mfind\u001b[49m\u001b[43m(\u001b[49m\u001b[33;43mf\u001b[39;49m\u001b[33;43m\"\u001b[39;49m\u001b[38;5;132;43;01m{\u001b[39;49;00m\u001b[38;5;28;43mself\u001b[39;49m\u001b[43m.\u001b[49m\u001b[43msubdir\u001b[49m\u001b[38;5;132;43;01m}\u001b[39;49;00m\u001b[33;43m/\u001b[39;49m\u001b[38;5;132;43;01m{\u001b[39;49;00m\u001b[38;5;28;43mself\u001b[39;49m\u001b[43m.\u001b[49m\u001b[43m__name\u001b[49m\u001b[38;5;132;43;01m}\u001b[39;49;00m\u001b[33;43m\"\u001b[39;49m\u001b[43m)\u001b[49m\n\u001b[32m     82\u001b[39m     \u001b[38;5;28;01mexcept\u001b[39;00m \u001b[38;5;167;01mLookupError\u001b[39;00m \u001b[38;5;28;01mas\u001b[39;00m e:\n\u001b[32m     83\u001b[39m         \u001b[38;5;28;01mtry\u001b[39;00m:\n",
      "\u001b[36mFile \u001b[39m\u001b[32m/Users/Shared/CISDEV/my_code/projs/ChallengeTS/.venv/lib/python3.13/site-packages/nltk/data.py:579\u001b[39m, in \u001b[36mfind\u001b[39m\u001b[34m(resource_name, paths)\u001b[39m\n\u001b[32m    577\u001b[39m sep = \u001b[33m\"\u001b[39m\u001b[33m*\u001b[39m\u001b[33m\"\u001b[39m * \u001b[32m70\u001b[39m\n\u001b[32m    578\u001b[39m resource_not_found = \u001b[33mf\u001b[39m\u001b[33m\"\u001b[39m\u001b[38;5;130;01m\\n\u001b[39;00m\u001b[38;5;132;01m{\u001b[39;00msep\u001b[38;5;132;01m}\u001b[39;00m\u001b[38;5;130;01m\\n\u001b[39;00m\u001b[38;5;132;01m{\u001b[39;00mmsg\u001b[38;5;132;01m}\u001b[39;00m\u001b[38;5;130;01m\\n\u001b[39;00m\u001b[38;5;132;01m{\u001b[39;00msep\u001b[38;5;132;01m}\u001b[39;00m\u001b[38;5;130;01m\\n\u001b[39;00m\u001b[33m\"\u001b[39m\n\u001b[32m--> \u001b[39m\u001b[32m579\u001b[39m \u001b[38;5;28;01mraise\u001b[39;00m \u001b[38;5;167;01mLookupError\u001b[39;00m(resource_not_found)\n",
      "\u001b[31mLookupError\u001b[39m: \n**********************************************************************\n  Resource \u001b[93mwordnet\u001b[0m not found.\n  Please use the NLTK Downloader to obtain the resource:\n\n  \u001b[31m>>> import nltk\n  >>> nltk.download('wordnet')\n  \u001b[0m\n  For more information see: https://www.nltk.org/data.html\n\n  Attempted to load \u001b[93mcorpora/wordnet\u001b[0m\n\n  Searched in:\n    - '/Users/bmontoya/nltk_data'\n    - '/Users/Shared/CISDEV/my_code/projs/ChallengeTS/.venv/nltk_data'\n    - '/Users/Shared/CISDEV/my_code/projs/ChallengeTS/.venv/share/nltk_data'\n    - '/Users/Shared/CISDEV/my_code/projs/ChallengeTS/.venv/lib/nltk_data'\n    - '/usr/share/nltk_data'\n    - '/usr/local/share/nltk_data'\n    - '/usr/lib/nltk_data'\n    - '/usr/local/lib/nltk_data'\n**********************************************************************\n"
     ]
    }
   ],
   "source": [
    "lemmatized_words = lemmatize_words(cleaned_tokens)\n",
    "print(lemmatized_words)\n"
   ]
  },
  {
   "cell_type": "markdown",
   "metadata": {},
   "source": [
    "4. Eliminar StopWords"
   ]
  },
  {
   "cell_type": "code",
   "execution_count": 96,
   "metadata": {},
   "outputs": [],
   "source": [
    "from nltk.corpus import stopwords\n",
    "\n",
    "academic_medic_stopwords = {\n",
    "        'abstract', 'paper', 'study', 'research', 'article', 'journal',\n",
    "        'analysis', 'method', 'approach', 'technique', 'result', 'conclusion',\n",
    "        'introduction', 'discussion', 'experimental', 'theoretical',\n",
    "        'also', 'however', 'therefore', 'furthermore', 'moreover',\n",
    "        'studies', 'report', 'review', 'evaluation', 'assessment', 'investigation', \n",
    "        'examination', 'observation', 'finding', 'findings', 'results', 'methods', \n",
    "        'methodology', 'patient', 'patients', 'subject', 'subjects', 'participant', \n",
    "        'participants', 'case', 'cases', 'group', 'groups', 'control', 'controls',\n",
    "        'significant', 'significantly', 'statistical', 'statistically',\n",
    "        'important', 'effective', 'successful', 'common', 'rare', 'typical',\n",
    "        'normal', 'abnormal', 'positive', 'negative', 'high', 'low', 'increased', 'decreased'\n",
    "    }\n",
    "\n",
    "def remove_stopwords(tokens):\n",
    "    stop_words = set(stopwords.words('english'))\n",
    "    return [token for token in tokens if token not in stop_words and token not in academic_medic_stopwords]\n"
   ]
  },
  {
   "cell_type": "code",
   "execution_count": 97,
   "metadata": {},
   "outputs": [
    {
     "name": "stdout",
     "output_type": "stream",
     "text": [
      "['adrenoleukodystrophi', 'ald', 'genet', 'determin', 'disord', 'associ', 'progress', 'central', 'demyelin', 'adren', 'cortic', 'insuffici', 'affect', 'person', 'show', 'increas', 'level', 'satur', 'unbranch', 'fatti', 'acid', 'particularli', 'hexacosano', 'becaus', 'impair', 'capac', 'degrad', 'acid', 'thi', 'degrad', 'take', 'place', 'subcellular', 'organel', 'call', 'peroxisom', 'ald', 'togeth', 'zellweg', 'cerebrohepatoren', 'syndrom', 'consid', 'belong', 'newli', 'form', 'categori', 'peroxisom', 'disord', 'biochem', 'assay', 'permit', 'prenat', 'diagnosi', 'well', 'identif', 'heterozygot', 'identifi', 'ald', 'kindr', 'show', 'wide', 'phenotyp', 'variat', 'sixti', 'percent', 'childhood', 'ald', 'adrenomyeloneuropathi', 'gene', 'map', 'neonat', 'ald', 'distinct', 'entiti', 'autosom', 'recess', 'inherit', 'point', 'resembl', 'zellweg', 'syndrom', 'account', 'although', 'excess', 'brain', 'ald', 'partial', 'dietari', 'origin', 'dietari', 'restrict', 'produc', 'clear', 'benefit', 'bone', 'marrow', 'transplant', 'lower', 'plasma', 'level', 'fail', 'arrest', 'neurolog', 'progress']\n"
     ]
    }
   ],
   "source": [
    "filtered_tokens = remove_stopwords(stemmed_tokens)\n",
    "print(filtered_tokens)"
   ]
  },
  {
   "cell_type": "markdown",
   "metadata": {},
   "source": [
    "Pipeline de NLP completo:"
   ]
  },
  {
   "cell_type": "code",
   "execution_count": 98,
   "metadata": {},
   "outputs": [],
   "source": [
    "def tokenization_pipeline(text):\n",
    "    tokens = tokenize_text(text)\n",
    "    cleaned_tokens = clean_basic_tokens(tokens)\n",
    "    stemmed_tokens = stem_words(cleaned_tokens)\n",
    "    filtered_tokens = remove_stopwords(stemmed_tokens)\n",
    "    return filtered_tokens\n"
   ]
  },
  {
   "cell_type": "markdown",
   "metadata": {},
   "source": [
    "### Procesamiento de dataset:"
   ]
  },
  {
   "cell_type": "code",
   "execution_count": 99,
   "metadata": {},
   "outputs": [],
   "source": [
    "df['tokenized_title'] = df['title'].apply(tokenization_pipeline)\n",
    "df['tokenized_abstract'] = df['abstract'].apply(tokenization_pipeline)"
   ]
  },
  {
   "cell_type": "code",
   "execution_count": 100,
   "metadata": {},
   "outputs": [
    {
     "data": {
      "text/html": [
       "<div>\n",
       "<style scoped>\n",
       "    .dataframe tbody tr th:only-of-type {\n",
       "        vertical-align: middle;\n",
       "    }\n",
       "\n",
       "    .dataframe tbody tr th {\n",
       "        vertical-align: top;\n",
       "    }\n",
       "\n",
       "    .dataframe thead th {\n",
       "        text-align: right;\n",
       "    }\n",
       "</style>\n",
       "<table border=\"1\" class=\"dataframe\">\n",
       "  <thead>\n",
       "    <tr style=\"text-align: right;\">\n",
       "      <th></th>\n",
       "      <th>title</th>\n",
       "      <th>abstract</th>\n",
       "      <th>group</th>\n",
       "      <th>tokenized_title</th>\n",
       "      <th>tokenized_abstract</th>\n",
       "    </tr>\n",
       "  </thead>\n",
       "  <tbody>\n",
       "    <tr>\n",
       "      <th>0</th>\n",
       "      <td>Adrenoleukodystrophy: survey of 303 cases: bio...</td>\n",
       "      <td>Adrenoleukodystrophy ( ALD ) is a genetically ...</td>\n",
       "      <td>neurological|hepatorenal</td>\n",
       "      <td>[adrenoleukodystrophi, survey, biochemistri, d...</td>\n",
       "      <td>[adrenoleukodystrophi, ald, genet, determin, d...</td>\n",
       "    </tr>\n",
       "    <tr>\n",
       "      <th>1</th>\n",
       "      <td>endoscopy reveals ventricular tachycardia secrets</td>\n",
       "      <td>Research question: How does metformin affect c...</td>\n",
       "      <td>neurological</td>\n",
       "      <td>[endoscopi, reveal, ventricular, tachycardia, ...</td>\n",
       "      <td>[question, doe, metformin, affect, cancer, pit...</td>\n",
       "    </tr>\n",
       "    <tr>\n",
       "      <th>2</th>\n",
       "      <td>dementia and cholecystitis: organ interplay</td>\n",
       "      <td>Purpose: This randomized controlled study exam...</td>\n",
       "      <td>hepatorenal</td>\n",
       "      <td>[dementia, cholecyst, organ, interplay]</td>\n",
       "      <td>[purpos, thi, random, studi, examin, statin, d...</td>\n",
       "    </tr>\n",
       "    <tr>\n",
       "      <th>3</th>\n",
       "      <td>The interpeduncular nucleus regulates nicotine...</td>\n",
       "      <td>Partial lesions were made with kainic acid in ...</td>\n",
       "      <td>neurological</td>\n",
       "      <td>[interpeduncular, nucleu, regul, nicotin, effe...</td>\n",
       "      <td>[partial, lesion, made, kainic, acid, interped...</td>\n",
       "    </tr>\n",
       "    <tr>\n",
       "      <th>4</th>\n",
       "      <td>guillain-barre syndrome pathways in leukemia</td>\n",
       "      <td>Hypothesis: statins improves stroke outcomes v...</td>\n",
       "      <td>neurological</td>\n",
       "      <td>[syndrom, pathway, leukemia]</td>\n",
       "      <td>[hypothesi, statin, improv, stroke, outcom, vi...</td>\n",
       "    </tr>\n",
       "    <tr>\n",
       "      <th>...</th>\n",
       "      <td>...</td>\n",
       "      <td>...</td>\n",
       "      <td>...</td>\n",
       "      <td>...</td>\n",
       "      <td>...</td>\n",
       "    </tr>\n",
       "    <tr>\n",
       "      <th>3560</th>\n",
       "      <td>The effect of recombinant human insulin-like g...</td>\n",
       "      <td>We recently demonstrated that recombinant hGH ...</td>\n",
       "      <td>neurological|cardiovascular|hepatorenal</td>\n",
       "      <td>[effect, recombin, human, growth, chronic, pur...</td>\n",
       "      <td>[recent, demonstr, recombin, hgh, exacerb, ren...</td>\n",
       "    </tr>\n",
       "    <tr>\n",
       "      <th>3561</th>\n",
       "      <td>EEG reveals leukemia secrets</td>\n",
       "      <td>Hypothesis: metformin improves dementia outcom...</td>\n",
       "      <td>neurological</td>\n",
       "      <td>[eeg, reveal, leukemia, secret]</td>\n",
       "      <td>[hypothesi, metformin, improv, dementia, outco...</td>\n",
       "    </tr>\n",
       "    <tr>\n",
       "      <th>3562</th>\n",
       "      <td>venous pathways in angina pectoris</td>\n",
       "      <td>Hypothesis: metformin improves heart disease o...</td>\n",
       "      <td>neurological|cardiovascular</td>\n",
       "      <td>[venou, pathway, angina, pectori]</td>\n",
       "      <td>[hypothesi, metformin, improv, heart, diseas, ...</td>\n",
       "    </tr>\n",
       "    <tr>\n",
       "      <th>3563</th>\n",
       "      <td>Thyroxine abuse: an unusual case of thyrotoxic...</td>\n",
       "      <td>Eating disorders and the associated behavioura...</td>\n",
       "      <td>neurological</td>\n",
       "      <td>[thyroxin, abus, unusu, thyrotoxicosi, pregnanc]</td>\n",
       "      <td>[eat, disord, associ, behaviour, problem, drug...</td>\n",
       "    </tr>\n",
       "    <tr>\n",
       "      <th>3564</th>\n",
       "      <td>hepatitis and hypertensive: cardiac connections</td>\n",
       "      <td>Aim: To investigate aspirin effects on heart d...</td>\n",
       "      <td>cardiovascular|oncological</td>\n",
       "      <td>[hepat, hypertens, cardiac, connect]</td>\n",
       "      <td>[aim, investig, aspirin, effect, heart, diseas...</td>\n",
       "    </tr>\n",
       "  </tbody>\n",
       "</table>\n",
       "<p>3565 rows × 5 columns</p>\n",
       "</div>"
      ],
      "text/plain": [
       "                                                  title  \\\n",
       "0     Adrenoleukodystrophy: survey of 303 cases: bio...   \n",
       "1     endoscopy reveals ventricular tachycardia secrets   \n",
       "2           dementia and cholecystitis: organ interplay   \n",
       "3     The interpeduncular nucleus regulates nicotine...   \n",
       "4          guillain-barre syndrome pathways in leukemia   \n",
       "...                                                 ...   \n",
       "3560  The effect of recombinant human insulin-like g...   \n",
       "3561                       EEG reveals leukemia secrets   \n",
       "3562                 venous pathways in angina pectoris   \n",
       "3563  Thyroxine abuse: an unusual case of thyrotoxic...   \n",
       "3564    hepatitis and hypertensive: cardiac connections   \n",
       "\n",
       "                                               abstract  \\\n",
       "0     Adrenoleukodystrophy ( ALD ) is a genetically ...   \n",
       "1     Research question: How does metformin affect c...   \n",
       "2     Purpose: This randomized controlled study exam...   \n",
       "3     Partial lesions were made with kainic acid in ...   \n",
       "4     Hypothesis: statins improves stroke outcomes v...   \n",
       "...                                                 ...   \n",
       "3560  We recently demonstrated that recombinant hGH ...   \n",
       "3561  Hypothesis: metformin improves dementia outcom...   \n",
       "3562  Hypothesis: metformin improves heart disease o...   \n",
       "3563  Eating disorders and the associated behavioura...   \n",
       "3564  Aim: To investigate aspirin effects on heart d...   \n",
       "\n",
       "                                        group  \\\n",
       "0                    neurological|hepatorenal   \n",
       "1                                neurological   \n",
       "2                                 hepatorenal   \n",
       "3                                neurological   \n",
       "4                                neurological   \n",
       "...                                       ...   \n",
       "3560  neurological|cardiovascular|hepatorenal   \n",
       "3561                             neurological   \n",
       "3562              neurological|cardiovascular   \n",
       "3563                             neurological   \n",
       "3564               cardiovascular|oncological   \n",
       "\n",
       "                                        tokenized_title  \\\n",
       "0     [adrenoleukodystrophi, survey, biochemistri, d...   \n",
       "1     [endoscopi, reveal, ventricular, tachycardia, ...   \n",
       "2               [dementia, cholecyst, organ, interplay]   \n",
       "3     [interpeduncular, nucleu, regul, nicotin, effe...   \n",
       "4                          [syndrom, pathway, leukemia]   \n",
       "...                                                 ...   \n",
       "3560  [effect, recombin, human, growth, chronic, pur...   \n",
       "3561                    [eeg, reveal, leukemia, secret]   \n",
       "3562                  [venou, pathway, angina, pectori]   \n",
       "3563   [thyroxin, abus, unusu, thyrotoxicosi, pregnanc]   \n",
       "3564               [hepat, hypertens, cardiac, connect]   \n",
       "\n",
       "                                     tokenized_abstract  \n",
       "0     [adrenoleukodystrophi, ald, genet, determin, d...  \n",
       "1     [question, doe, metformin, affect, cancer, pit...  \n",
       "2     [purpos, thi, random, studi, examin, statin, d...  \n",
       "3     [partial, lesion, made, kainic, acid, interped...  \n",
       "4     [hypothesi, statin, improv, stroke, outcom, vi...  \n",
       "...                                                 ...  \n",
       "3560  [recent, demonstr, recombin, hgh, exacerb, ren...  \n",
       "3561  [hypothesi, metformin, improv, dementia, outco...  \n",
       "3562  [hypothesi, metformin, improv, heart, diseas, ...  \n",
       "3563  [eat, disord, associ, behaviour, problem, drug...  \n",
       "3564  [aim, investig, aspirin, effect, heart, diseas...  \n",
       "\n",
       "[3565 rows x 5 columns]"
      ]
     },
     "execution_count": 100,
     "metadata": {},
     "output_type": "execute_result"
    }
   ],
   "source": [
    "df"
   ]
  }
 ],
 "metadata": {
  "kernelspec": {
   "display_name": ".venv",
   "language": "python",
   "name": "python3"
  },
  "language_info": {
   "codemirror_mode": {
    "name": "ipython",
    "version": 3
   },
   "file_extension": ".py",
   "mimetype": "text/x-python",
   "name": "python",
   "nbconvert_exporter": "python",
   "pygments_lexer": "ipython3",
   "version": "3.13.1"
  }
 },
 "nbformat": 4,
 "nbformat_minor": 2
}
