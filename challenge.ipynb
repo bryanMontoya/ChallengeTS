{
 "cells": [
  {
   "cell_type": "markdown",
   "metadata": {},
   "source": [
    "# Los MiserAIbles\n",
    "Sorany Hincapie Salazar  \n",
    "Brayan Montoya Osorio"
   ]
  },
  {
   "cell_type": "markdown",
   "metadata": {},
   "source": [
    "### Exploración de los datos"
   ]
  },
  {
   "cell_type": "code",
   "execution_count": 137,
   "metadata": {},
   "outputs": [],
   "source": [
    "import pandas as pd"
   ]
  },
  {
   "cell_type": "code",
   "execution_count": 138,
   "metadata": {},
   "outputs": [
    {
     "data": {
      "text/html": [
       "<div>\n",
       "<style scoped>\n",
       "    .dataframe tbody tr th:only-of-type {\n",
       "        vertical-align: middle;\n",
       "    }\n",
       "\n",
       "    .dataframe tbody tr th {\n",
       "        vertical-align: top;\n",
       "    }\n",
       "\n",
       "    .dataframe thead th {\n",
       "        text-align: right;\n",
       "    }\n",
       "</style>\n",
       "<table border=\"1\" class=\"dataframe\">\n",
       "  <thead>\n",
       "    <tr style=\"text-align: right;\">\n",
       "      <th></th>\n",
       "      <th>title</th>\n",
       "      <th>abstract</th>\n",
       "      <th>group</th>\n",
       "    </tr>\n",
       "  </thead>\n",
       "  <tbody>\n",
       "    <tr>\n",
       "      <th>0</th>\n",
       "      <td>Adrenoleukodystrophy: survey of 303 cases: bio...</td>\n",
       "      <td>Adrenoleukodystrophy ( ALD ) is a genetically ...</td>\n",
       "      <td>neurological|hepatorenal</td>\n",
       "    </tr>\n",
       "    <tr>\n",
       "      <th>1</th>\n",
       "      <td>endoscopy reveals ventricular tachycardia secrets</td>\n",
       "      <td>Research question: How does metformin affect c...</td>\n",
       "      <td>neurological</td>\n",
       "    </tr>\n",
       "    <tr>\n",
       "      <th>2</th>\n",
       "      <td>dementia and cholecystitis: organ interplay</td>\n",
       "      <td>Purpose: This randomized controlled study exam...</td>\n",
       "      <td>hepatorenal</td>\n",
       "    </tr>\n",
       "    <tr>\n",
       "      <th>3</th>\n",
       "      <td>The interpeduncular nucleus regulates nicotine...</td>\n",
       "      <td>Partial lesions were made with kainic acid in ...</td>\n",
       "      <td>neurological</td>\n",
       "    </tr>\n",
       "    <tr>\n",
       "      <th>4</th>\n",
       "      <td>guillain-barre syndrome pathways in leukemia</td>\n",
       "      <td>Hypothesis: statins improves stroke outcomes v...</td>\n",
       "      <td>neurological</td>\n",
       "    </tr>\n",
       "    <tr>\n",
       "      <th>5</th>\n",
       "      <td>Effects of suprofen on the isolated perfused r...</td>\n",
       "      <td>Although suprofen has been associated with the...</td>\n",
       "      <td>hepatorenal</td>\n",
       "    </tr>\n",
       "    <tr>\n",
       "      <th>6</th>\n",
       "      <td>atherosclerosis and lymphoma: vascular insights</td>\n",
       "      <td>Aim: To investigate aspirin effects on diabete...</td>\n",
       "      <td>cardiovascular</td>\n",
       "    </tr>\n",
       "    <tr>\n",
       "      <th>7</th>\n",
       "      <td>Potential therapeutic use of the selective dop...</td>\n",
       "      <td>The clinical utility of dopamine (DA) D1 recep...</td>\n",
       "      <td>neurological</td>\n",
       "    </tr>\n",
       "    <tr>\n",
       "      <th>8</th>\n",
       "      <td>The basal ganglia connection in epilepsy</td>\n",
       "      <td>Background: dementia affects cardiac patients ...</td>\n",
       "      <td>neurological</td>\n",
       "    </tr>\n",
       "    <tr>\n",
       "      <th>9</th>\n",
       "      <td>septum and peripheral artery disease: vascular...</td>\n",
       "      <td>Purpose: This observational study examined cal...</td>\n",
       "      <td>cardiovascular</td>\n",
       "    </tr>\n",
       "  </tbody>\n",
       "</table>\n",
       "</div>"
      ],
      "text/plain": [
       "                                               title  \\\n",
       "0  Adrenoleukodystrophy: survey of 303 cases: bio...   \n",
       "1  endoscopy reveals ventricular tachycardia secrets   \n",
       "2        dementia and cholecystitis: organ interplay   \n",
       "3  The interpeduncular nucleus regulates nicotine...   \n",
       "4       guillain-barre syndrome pathways in leukemia   \n",
       "5  Effects of suprofen on the isolated perfused r...   \n",
       "6    atherosclerosis and lymphoma: vascular insights   \n",
       "7  Potential therapeutic use of the selective dop...   \n",
       "8           The basal ganglia connection in epilepsy   \n",
       "9  septum and peripheral artery disease: vascular...   \n",
       "\n",
       "                                            abstract                     group  \n",
       "0  Adrenoleukodystrophy ( ALD ) is a genetically ...  neurological|hepatorenal  \n",
       "1  Research question: How does metformin affect c...              neurological  \n",
       "2  Purpose: This randomized controlled study exam...               hepatorenal  \n",
       "3  Partial lesions were made with kainic acid in ...              neurological  \n",
       "4  Hypothesis: statins improves stroke outcomes v...              neurological  \n",
       "5  Although suprofen has been associated with the...               hepatorenal  \n",
       "6  Aim: To investigate aspirin effects on diabete...            cardiovascular  \n",
       "7  The clinical utility of dopamine (DA) D1 recep...              neurological  \n",
       "8  Background: dementia affects cardiac patients ...              neurological  \n",
       "9  Purpose: This observational study examined cal...            cardiovascular  "
      ]
     },
     "execution_count": 138,
     "metadata": {},
     "output_type": "execute_result"
    }
   ],
   "source": [
    "path_to_data = 'data/challenge_data-18-ago.csv'\n",
    "\n",
    "df = pd.read_csv(path_to_data, sep = ';')\n",
    "df.head(10)"
   ]
  },
  {
   "cell_type": "code",
   "execution_count": 139,
   "metadata": {},
   "outputs": [
    {
     "name": "stdout",
     "output_type": "stream",
     "text": [
      "Number of rows: 3565, Number of columns: 3\n"
     ]
    }
   ],
   "source": [
    "rows, columns = df.shape\n",
    "print(f\"Number of rows: {rows}, Number of columns: {columns}\")"
   ]
  },
  {
   "cell_type": "code",
   "execution_count": 140,
   "metadata": {},
   "outputs": [],
   "source": [
    " df = df.copy()"
   ]
  },
  {
   "cell_type": "markdown",
   "metadata": {},
   "source": [
    "## Extracción de características con NLP"
   ]
  },
  {
   "cell_type": "markdown",
   "metadata": {},
   "source": [
    "Pasos a seguir:\n",
    "1. Preprocesamiento del texto\n",
    "\n",
    "- Limpieza: eliminar caracteres especiales, números innecesarios, URLs, referencias\n",
    "- Normalización: convertir a minúsculas, manejar acentos y caracteres especiales\n",
    "- Tokenización: dividir el texto en palabras/tokens individuales\n",
    "- Eliminación de stopwords: quitar palabras comunes sin valor semántico (\"el\", \"la\", \"de\", \"and\", \"the\")\n",
    "- Stemming/Lemmatización: reducir palabras a su raíz o forma base"
   ]
  },
  {
   "cell_type": "markdown",
   "metadata": {},
   "source": [
    "2.  Extracción de características textuales\n",
    "Métodos tradicionales:\n",
    "\n",
    "- Bag of Words (BoW): frecuencia de palabras\n",
    "- TF-IDF: Term Frequency - Inverse Document Frequency\n",
    "- N-gramas: combinaciones de 2-3 palabras consecutivas"
   ]
  },
  {
   "cell_type": "markdown",
   "metadata": {},
   "source": [
    "3. Entrenamiento modelos clasicos\n",
    "4. Reducción de dimensionalidad\n",
    "5. Re-entrenamiento\n"
   ]
  },
  {
   "cell_type": "markdown",
   "metadata": {},
   "source": [
    "## Ejemplo de test con los pasos anteriores:"
   ]
  },
  {
   "cell_type": "markdown",
   "metadata": {},
   "source": [
    "1. Tokenización:  \n",
    "Dividir texto en palabras, oraciones o elementos pequeños. Ej: Convertir párrafo en lista de palabras."
   ]
  },
  {
   "cell_type": "code",
   "execution_count": 141,
   "metadata": {},
   "outputs": [],
   "source": [
    "import nltk\n",
    "\n",
    "def tokenize_text(text):\n",
    "    return nltk.word_tokenize(text)"
   ]
  },
  {
   "cell_type": "code",
   "execution_count": 142,
   "metadata": {},
   "outputs": [
    {
     "name": "stdout",
     "output_type": "stream",
     "text": [
      "Adrenoleukodystrophy ( ALD ) is a genetically determined disorder associated with progressive central demyelination and adrenal cortical insufficiency . All affected persons show increased levels of saturated unbranched very-long-chain fatty acids , particularly hexacosanoate ( C26  0 ) , because of impaired capacity to degrade these acids . This degradation normally takes place in a subcellular organelle called the peroxisome , and ALD , together with Zellwegers cerebrohepatorenal syndrome , is now considered to belong to the newly formed category of peroxisomal disorders . Biochemical assays permit prenatal diagnosis , as well as identification of most heterozygotes . We have identified 303 patients with ALD in 217 kindreds . These patients show a wide phenotypic variation . Sixty percent of patients had childhood ALD and 17 % adrenomyeloneuropathy , both of which are X-linked , with the gene mapped to Xq28 . Neonatal ALD , a distinct entity with autosomal recessive inheritance and points of resemblance to Zellwegers syndrome , accounted for 7 % of the cases . Although excess C26  0 in the brain of patients with ALD is partially of dietary origin , dietary C26  0 restriction did not produce clear benefit . Bone marrow transplant lowered the plasma C26  0 level but failed to arrest neurological progression . .\n"
     ]
    }
   ],
   "source": [
    "abstract_example = df.iloc[0]['abstract']\n",
    "print(abstract_example)"
   ]
  },
  {
   "cell_type": "code",
   "execution_count": 143,
   "metadata": {},
   "outputs": [
    {
     "name": "stdout",
     "output_type": "stream",
     "text": [
      "['Adrenoleukodystrophy', '(', 'ALD', ')', 'is', 'a', 'genetically', 'determined', 'disorder', 'associated', 'with', 'progressive', 'central', 'demyelination', 'and', 'adrenal', 'cortical', 'insufficiency', '.', 'All', 'affected', 'persons', 'show', 'increased', 'levels', 'of', 'saturated', 'unbranched', 'very-long-chain', 'fatty', 'acids', ',', 'particularly', 'hexacosanoate', '(', 'C26', '0', ')', ',', 'because', 'of', 'impaired', 'capacity', 'to', 'degrade', 'these', 'acids', '.', 'This', 'degradation', 'normally', 'takes', 'place', 'in', 'a', 'subcellular', 'organelle', 'called', 'the', 'peroxisome', ',', 'and', 'ALD', ',', 'together', 'with', 'Zellwegers', 'cerebrohepatorenal', 'syndrome', ',', 'is', 'now', 'considered', 'to', 'belong', 'to', 'the', 'newly', 'formed', 'category', 'of', 'peroxisomal', 'disorders', '.', 'Biochemical', 'assays', 'permit', 'prenatal', 'diagnosis', ',', 'as', 'well', 'as', 'identification', 'of', 'most', 'heterozygotes', '.', 'We', 'have', 'identified', '303', 'patients', 'with', 'ALD', 'in', '217', 'kindreds', '.', 'These', 'patients', 'show', 'a', 'wide', 'phenotypic', 'variation', '.', 'Sixty', 'percent', 'of', 'patients', 'had', 'childhood', 'ALD', 'and', '17', '%', 'adrenomyeloneuropathy', ',', 'both', 'of', 'which', 'are', 'X-linked', ',', 'with', 'the', 'gene', 'mapped', 'to', 'Xq28', '.', 'Neonatal', 'ALD', ',', 'a', 'distinct', 'entity', 'with', 'autosomal', 'recessive', 'inheritance', 'and', 'points', 'of', 'resemblance', 'to', 'Zellwegers', 'syndrome', ',', 'accounted', 'for', '7', '%', 'of', 'the', 'cases', '.', 'Although', 'excess', 'C26', '0', 'in', 'the', 'brain', 'of', 'patients', 'with', 'ALD', 'is', 'partially', 'of', 'dietary', 'origin', ',', 'dietary', 'C26', '0', 'restriction', 'did', 'not', 'produce', 'clear', 'benefit', '.', 'Bone', 'marrow', 'transplant', 'lowered', 'the', 'plasma', 'C26', '0', 'level', 'but', 'failed', 'to', 'arrest', 'neurological', 'progression', '.', '.']\n"
     ]
    }
   ],
   "source": [
    "tokens = tokenize_text(abstract_example)\n",
    "print(tokens)"
   ]
  },
  {
   "cell_type": "code",
   "execution_count": 144,
   "metadata": {},
   "outputs": [],
   "source": [
    "from nltk.tokenize import word_tokenize"
   ]
  },
  {
   "cell_type": "markdown",
   "metadata": {},
   "source": [
    "2. Limpieza:\n",
    "Eliminar caracteres especiales."
   ]
  },
  {
   "cell_type": "code",
   "execution_count": 145,
   "metadata": {},
   "outputs": [],
   "source": [
    "def clean_basic_tokens(tokens):\n",
    "    return [token.lower() for token in tokens if token.isalpha()]"
   ]
  },
  {
   "cell_type": "code",
   "execution_count": 146,
   "metadata": {},
   "outputs": [
    {
     "name": "stdout",
     "output_type": "stream",
     "text": [
      "['adrenoleukodystrophy', 'ald', 'is', 'a', 'genetically', 'determined', 'disorder', 'associated', 'with', 'progressive', 'central', 'demyelination', 'and', 'adrenal', 'cortical', 'insufficiency', 'all', 'affected', 'persons', 'show', 'increased', 'levels', 'of', 'saturated', 'unbranched', 'fatty', 'acids', 'particularly', 'hexacosanoate', 'because', 'of', 'impaired', 'capacity', 'to', 'degrade', 'these', 'acids', 'this', 'degradation', 'normally', 'takes', 'place', 'in', 'a', 'subcellular', 'organelle', 'called', 'the', 'peroxisome', 'and', 'ald', 'together', 'with', 'zellwegers', 'cerebrohepatorenal', 'syndrome', 'is', 'now', 'considered', 'to', 'belong', 'to', 'the', 'newly', 'formed', 'category', 'of', 'peroxisomal', 'disorders', 'biochemical', 'assays', 'permit', 'prenatal', 'diagnosis', 'as', 'well', 'as', 'identification', 'of', 'most', 'heterozygotes', 'we', 'have', 'identified', 'patients', 'with', 'ald', 'in', 'kindreds', 'these', 'patients', 'show', 'a', 'wide', 'phenotypic', 'variation', 'sixty', 'percent', 'of', 'patients', 'had', 'childhood', 'ald', 'and', 'adrenomyeloneuropathy', 'both', 'of', 'which', 'are', 'with', 'the', 'gene', 'mapped', 'to', 'neonatal', 'ald', 'a', 'distinct', 'entity', 'with', 'autosomal', 'recessive', 'inheritance', 'and', 'points', 'of', 'resemblance', 'to', 'zellwegers', 'syndrome', 'accounted', 'for', 'of', 'the', 'cases', 'although', 'excess', 'in', 'the', 'brain', 'of', 'patients', 'with', 'ald', 'is', 'partially', 'of', 'dietary', 'origin', 'dietary', 'restriction', 'did', 'not', 'produce', 'clear', 'benefit', 'bone', 'marrow', 'transplant', 'lowered', 'the', 'plasma', 'level', 'but', 'failed', 'to', 'arrest', 'neurological', 'progression']\n"
     ]
    }
   ],
   "source": [
    "cleaned_tokens = clean_basic_tokens(tokens)\n",
    "print(cleaned_tokens)"
   ]
  },
  {
   "cell_type": "markdown",
   "metadata": {},
   "source": [
    "3. Stemming:  \n",
    "Llevar palabras a su forma raíz."
   ]
  },
  {
   "cell_type": "code",
   "execution_count": 147,
   "metadata": {},
   "outputs": [],
   "source": [
    "from nltk.stem import PorterStemmer\n",
    "\n",
    "stemmer = PorterStemmer()\n",
    "def stem_words(words):\n",
    "    return [stemmer.stem(word) for word in words]"
   ]
  },
  {
   "cell_type": "code",
   "execution_count": 148,
   "metadata": {},
   "outputs": [
    {
     "name": "stdout",
     "output_type": "stream",
     "text": [
      "['adrenoleukodystrophi', 'ald', 'is', 'a', 'genet', 'determin', 'disord', 'associ', 'with', 'progress', 'central', 'demyelin', 'and', 'adren', 'cortic', 'insuffici', 'all', 'affect', 'person', 'show', 'increas', 'level', 'of', 'satur', 'unbranch', 'fatti', 'acid', 'particularli', 'hexacosano', 'becaus', 'of', 'impair', 'capac', 'to', 'degrad', 'these', 'acid', 'thi', 'degrad', 'normal', 'take', 'place', 'in', 'a', 'subcellular', 'organel', 'call', 'the', 'peroxisom', 'and', 'ald', 'togeth', 'with', 'zellweg', 'cerebrohepatoren', 'syndrom', 'is', 'now', 'consid', 'to', 'belong', 'to', 'the', 'newli', 'form', 'categori', 'of', 'peroxisom', 'disord', 'biochem', 'assay', 'permit', 'prenat', 'diagnosi', 'as', 'well', 'as', 'identif', 'of', 'most', 'heterozygot', 'we', 'have', 'identifi', 'patient', 'with', 'ald', 'in', 'kindr', 'these', 'patient', 'show', 'a', 'wide', 'phenotyp', 'variat', 'sixti', 'percent', 'of', 'patient', 'had', 'childhood', 'ald', 'and', 'adrenomyeloneuropathi', 'both', 'of', 'which', 'are', 'with', 'the', 'gene', 'map', 'to', 'neonat', 'ald', 'a', 'distinct', 'entiti', 'with', 'autosom', 'recess', 'inherit', 'and', 'point', 'of', 'resembl', 'to', 'zellweg', 'syndrom', 'account', 'for', 'of', 'the', 'case', 'although', 'excess', 'in', 'the', 'brain', 'of', 'patient', 'with', 'ald', 'is', 'partial', 'of', 'dietari', 'origin', 'dietari', 'restrict', 'did', 'not', 'produc', 'clear', 'benefit', 'bone', 'marrow', 'transplant', 'lower', 'the', 'plasma', 'level', 'but', 'fail', 'to', 'arrest', 'neurolog', 'progress']\n"
     ]
    }
   ],
   "source": [
    "stemmed_tokens = stem_words(cleaned_tokens)\n",
    "print(stemmed_tokens)\n"
   ]
  },
  {
   "cell_type": "markdown",
   "metadata": {},
   "source": [
    "4. Eliminar StopWords"
   ]
  },
  {
   "cell_type": "code",
   "execution_count": null,
   "metadata": {},
   "outputs": [],
   "source": [
    "def remove_stopwords(tokens):\n",
    "    from nltk.corpus import stopwords\n",
    "    academic_stopwords = {\n",
    "        'abstract', 'paper', 'study', 'research', 'article', 'journal',\n",
    "        'analysis', 'method', 'approach', 'technique', 'result', 'conclusion',\n",
    "        'introduction', 'discussion', 'experimental', 'theoretical',\n",
    "        'also', 'however', 'therefore', 'furthermore', 'moreover','accuracy'\n",
    "    }\n",
    "\n",
    "    stop_words = set(stopwords.words('english'))\n",
    "    return [token for token in tokens if token not in stop_words and token not in academic_stopwords]\n"
   ]
  },
  {
   "cell_type": "code",
   "execution_count": 150,
   "metadata": {},
   "outputs": [
    {
     "name": "stdout",
     "output_type": "stream",
     "text": [
      "['adrenoleukodystrophi', 'ald', 'genet', 'determin', 'disord', 'associ', 'progress', 'central', 'demyelin', 'adren', 'cortic', 'insuffici', 'affect', 'person', 'show', 'increas', 'level', 'satur', 'unbranch', 'fatti', 'acid', 'particularli', 'hexacosano', 'becaus', 'impair', 'capac', 'degrad', 'acid', 'thi', 'degrad', 'normal', 'take', 'place', 'subcellular', 'organel', 'call', 'peroxisom', 'ald', 'togeth', 'zellweg', 'cerebrohepatoren', 'syndrom', 'consid', 'belong', 'newli', 'form', 'categori', 'peroxisom', 'disord', 'biochem', 'assay', 'permit', 'prenat', 'diagnosi', 'well', 'identif', 'heterozygot', 'identifi', 'patient', 'ald', 'kindr', 'patient', 'show', 'wide', 'phenotyp', 'variat', 'sixti', 'percent', 'patient', 'childhood', 'ald', 'adrenomyeloneuropathi', 'gene', 'map', 'neonat', 'ald', 'distinct', 'entiti', 'autosom', 'recess', 'inherit', 'point', 'resembl', 'zellweg', 'syndrom', 'account', 'case', 'although', 'excess', 'brain', 'patient', 'ald', 'partial', 'dietari', 'origin', 'dietari', 'restrict', 'produc', 'clear', 'benefit', 'bone', 'marrow', 'transplant', 'lower', 'plasma', 'level', 'fail', 'arrest', 'neurolog', 'progress']\n"
     ]
    }
   ],
   "source": [
    "filtered_tokens = remove_stopwords(stemmed_tokens)\n",
    "print(filtered_tokens)"
   ]
  },
  {
   "cell_type": "markdown",
   "metadata": {},
   "source": [
    "### Procesamiento de dataset:"
   ]
  },
  {
   "cell_type": "code",
   "execution_count": 151,
   "metadata": {},
   "outputs": [],
   "source": [
    "def preprocessNPL(text):\n",
    "    tokens = tokenize_text(text)\n",
    "    clean_tokens = clean_basic_tokens(tokens)\n",
    "    stemmed_tokens = stem_words(clean_tokens)\n",
    "    filtered_tokens = remove_stopwords(stemmed_tokens)\n",
    "    return filtered_tokens\n",
    "\n",
    "\n",
    "df['tokens_abstract'] = df['abstract'].apply(preprocessNPL)\n",
    "df['tokens_title'] = df['title'].apply(preprocessNPL)"
   ]
  },
  {
   "cell_type": "code",
   "execution_count": 152,
   "metadata": {},
   "outputs": [],
   "source": [
    "dfstr=df.copy()"
   ]
  },
  {
   "cell_type": "markdown",
   "metadata": {},
   "source": [
    "Lista de tokens se convierte a string."
   ]
  },
  {
   "cell_type": "code",
   "execution_count": 153,
   "metadata": {},
   "outputs": [],
   "source": [
    "dfstr['tokens_abstract'] = df['tokens_abstract'].apply(lambda x: \" \".join(x))\n",
    "dfstr['tokens_title'] = df['tokens_title'].apply(lambda x: \" \".join(x))"
   ]
  },
  {
   "cell_type": "code",
   "execution_count": 154,
   "metadata": {},
   "outputs": [
    {
     "data": {
      "text/html": [
       "<div>\n",
       "<style scoped>\n",
       "    .dataframe tbody tr th:only-of-type {\n",
       "        vertical-align: middle;\n",
       "    }\n",
       "\n",
       "    .dataframe tbody tr th {\n",
       "        vertical-align: top;\n",
       "    }\n",
       "\n",
       "    .dataframe thead th {\n",
       "        text-align: right;\n",
       "    }\n",
       "</style>\n",
       "<table border=\"1\" class=\"dataframe\">\n",
       "  <thead>\n",
       "    <tr style=\"text-align: right;\">\n",
       "      <th></th>\n",
       "      <th>title</th>\n",
       "      <th>abstract</th>\n",
       "      <th>group</th>\n",
       "      <th>tokens_abstract</th>\n",
       "      <th>tokens_title</th>\n",
       "    </tr>\n",
       "  </thead>\n",
       "  <tbody>\n",
       "    <tr>\n",
       "      <th>0</th>\n",
       "      <td>Adrenoleukodystrophy: survey of 303 cases: bio...</td>\n",
       "      <td>Adrenoleukodystrophy ( ALD ) is a genetically ...</td>\n",
       "      <td>neurological|hepatorenal</td>\n",
       "      <td>adrenoleukodystrophi ald genet determin disord...</td>\n",
       "      <td>adrenoleukodystrophi survey case biochemistri ...</td>\n",
       "    </tr>\n",
       "    <tr>\n",
       "      <th>1</th>\n",
       "      <td>endoscopy reveals ventricular tachycardia secrets</td>\n",
       "      <td>Research question: How does metformin affect c...</td>\n",
       "      <td>neurological</td>\n",
       "      <td>question doe metformin affect cancer pituitari...</td>\n",
       "      <td>endoscopi reveal ventricular tachycardia secret</td>\n",
       "    </tr>\n",
       "    <tr>\n",
       "      <th>2</th>\n",
       "      <td>dementia and cholecystitis: organ interplay</td>\n",
       "      <td>Purpose: This randomized controlled study exam...</td>\n",
       "      <td>hepatorenal</td>\n",
       "      <td>purpos thi random control studi examin statin ...</td>\n",
       "      <td>dementia cholecyst organ interplay</td>\n",
       "    </tr>\n",
       "    <tr>\n",
       "      <th>3</th>\n",
       "      <td>The interpeduncular nucleus regulates nicotine...</td>\n",
       "      <td>Partial lesions were made with kainic acid in ...</td>\n",
       "      <td>neurological</td>\n",
       "      <td>partial lesion made kainic acid interpeduncula...</td>\n",
       "      <td>interpeduncular nucleu regul nicotin effect activ</td>\n",
       "    </tr>\n",
       "    <tr>\n",
       "      <th>4</th>\n",
       "      <td>guillain-barre syndrome pathways in leukemia</td>\n",
       "      <td>Hypothesis: statins improves stroke outcomes v...</td>\n",
       "      <td>neurological</td>\n",
       "      <td>hypothesi statin improv stroke outcom via migr...</td>\n",
       "      <td>syndrom pathway leukemia</td>\n",
       "    </tr>\n",
       "    <tr>\n",
       "      <th>5</th>\n",
       "      <td>Effects of suprofen on the isolated perfused r...</td>\n",
       "      <td>Although suprofen has been associated with the...</td>\n",
       "      <td>hepatorenal</td>\n",
       "      <td>although suprofen ha associ develop acut renal...</td>\n",
       "      <td>effect suprofen isol perfus rat kidney</td>\n",
       "    </tr>\n",
       "    <tr>\n",
       "      <th>6</th>\n",
       "      <td>atherosclerosis and lymphoma: vascular insights</td>\n",
       "      <td>Aim: To investigate aspirin effects on diabete...</td>\n",
       "      <td>cardiovascular</td>\n",
       "      <td>aim investig aspirin effect diabet pe analysi ...</td>\n",
       "      <td>atherosclerosi lymphoma vascular insight</td>\n",
       "    </tr>\n",
       "    <tr>\n",
       "      <th>7</th>\n",
       "      <td>Potential therapeutic use of the selective dop...</td>\n",
       "      <td>The clinical utility of dopamine (DA) D1 recep...</td>\n",
       "      <td>neurological</td>\n",
       "      <td>clinic util dopamin da receptor agonist treatm...</td>\n",
       "      <td>potenti therapeut use select dopamin receptor ...</td>\n",
       "    </tr>\n",
       "    <tr>\n",
       "      <th>8</th>\n",
       "      <td>The basal ganglia connection in epilepsy</td>\n",
       "      <td>Background: dementia affects cardiac patients ...</td>\n",
       "      <td>neurological</td>\n",
       "      <td>background dementia affect cardiac patient wor...</td>\n",
       "      <td>basal ganglia connect epilepsi</td>\n",
       "    </tr>\n",
       "    <tr>\n",
       "      <th>9</th>\n",
       "      <td>septum and peripheral artery disease: vascular...</td>\n",
       "      <td>Purpose: This observational study examined cal...</td>\n",
       "      <td>cardiovascular</td>\n",
       "      <td>purpos thi observ studi examin calcium channel...</td>\n",
       "      <td>septum peripher arteri diseas vascular insight</td>\n",
       "    </tr>\n",
       "  </tbody>\n",
       "</table>\n",
       "</div>"
      ],
      "text/plain": [
       "                                               title  \\\n",
       "0  Adrenoleukodystrophy: survey of 303 cases: bio...   \n",
       "1  endoscopy reveals ventricular tachycardia secrets   \n",
       "2        dementia and cholecystitis: organ interplay   \n",
       "3  The interpeduncular nucleus regulates nicotine...   \n",
       "4       guillain-barre syndrome pathways in leukemia   \n",
       "5  Effects of suprofen on the isolated perfused r...   \n",
       "6    atherosclerosis and lymphoma: vascular insights   \n",
       "7  Potential therapeutic use of the selective dop...   \n",
       "8           The basal ganglia connection in epilepsy   \n",
       "9  septum and peripheral artery disease: vascular...   \n",
       "\n",
       "                                            abstract  \\\n",
       "0  Adrenoleukodystrophy ( ALD ) is a genetically ...   \n",
       "1  Research question: How does metformin affect c...   \n",
       "2  Purpose: This randomized controlled study exam...   \n",
       "3  Partial lesions were made with kainic acid in ...   \n",
       "4  Hypothesis: statins improves stroke outcomes v...   \n",
       "5  Although suprofen has been associated with the...   \n",
       "6  Aim: To investigate aspirin effects on diabete...   \n",
       "7  The clinical utility of dopamine (DA) D1 recep...   \n",
       "8  Background: dementia affects cardiac patients ...   \n",
       "9  Purpose: This observational study examined cal...   \n",
       "\n",
       "                      group  \\\n",
       "0  neurological|hepatorenal   \n",
       "1              neurological   \n",
       "2               hepatorenal   \n",
       "3              neurological   \n",
       "4              neurological   \n",
       "5               hepatorenal   \n",
       "6            cardiovascular   \n",
       "7              neurological   \n",
       "8              neurological   \n",
       "9            cardiovascular   \n",
       "\n",
       "                                     tokens_abstract  \\\n",
       "0  adrenoleukodystrophi ald genet determin disord...   \n",
       "1  question doe metformin affect cancer pituitari...   \n",
       "2  purpos thi random control studi examin statin ...   \n",
       "3  partial lesion made kainic acid interpeduncula...   \n",
       "4  hypothesi statin improv stroke outcom via migr...   \n",
       "5  although suprofen ha associ develop acut renal...   \n",
       "6  aim investig aspirin effect diabet pe analysi ...   \n",
       "7  clinic util dopamin da receptor agonist treatm...   \n",
       "8  background dementia affect cardiac patient wor...   \n",
       "9  purpos thi observ studi examin calcium channel...   \n",
       "\n",
       "                                        tokens_title  \n",
       "0  adrenoleukodystrophi survey case biochemistri ...  \n",
       "1    endoscopi reveal ventricular tachycardia secret  \n",
       "2                 dementia cholecyst organ interplay  \n",
       "3  interpeduncular nucleu regul nicotin effect activ  \n",
       "4                           syndrom pathway leukemia  \n",
       "5             effect suprofen isol perfus rat kidney  \n",
       "6           atherosclerosi lymphoma vascular insight  \n",
       "7  potenti therapeut use select dopamin receptor ...  \n",
       "8                     basal ganglia connect epilepsi  \n",
       "9     septum peripher arteri diseas vascular insight  "
      ]
     },
     "execution_count": 154,
     "metadata": {},
     "output_type": "execute_result"
    }
   ],
   "source": [
    "dfstr.head(10)"
   ]
  },
  {
   "cell_type": "code",
   "execution_count": 155,
   "metadata": {},
   "outputs": [],
   "source": [
    "import numpy as np\n",
    "import lightgbm as lgb\n",
    "import random\n",
    "import xgboost as xgb\n",
    "\n",
    "from sklearn.feature_extraction.text import TfidfVectorizer\n",
    "from sklearn.model_selection import train_test_split\n",
    "from sklearn.metrics import classification_report\n",
    "\n",
    "from deap import base, creator, tools, algorithms"
   ]
  },
  {
   "cell_type": "code",
   "execution_count": 156,
   "metadata": {},
   "outputs": [],
   "source": [
    "#Vectorizador para texto. De string a matriz sparse.\n",
    "def vectorize_df(data,max_feature,min_,max_):\n",
    "    tfidf_ = TfidfVectorizer(max_features=max_feature,min_df=min_,max_df=max_)\n",
    "    data_v = tfidf_.fit_transform(data)\n",
    "    return data_v,tfidf_"
   ]
  },
  {
   "cell_type": "code",
   "execution_count": 157,
   "metadata": {},
   "outputs": [],
   "source": [
    "def fitness_function(individual):\n",
    "    selected_indices = [i for i, bit in enumerate(individual) if bit == 1]#Lista de 1 y 0s que indican token relevante a entrenar.\n",
    "    if len(selected_indices) == 0:\n",
    "        return 0.,  #Evita entrenamiento con 0 características.\n",
    "\n",
    "    clf = lgb.LGBMClassifier(\n",
    "        n_estimators=50,\n",
    "        max_depth=5,\n",
    "        min_child_samples=5,\n",
    "        min_gain_to_split=0.0,\n",
    "        n_jobs=-1\n",
    "    )\n",
    "\n",
    "    #Sparse matrix (n_muestras, n_features). Toma las características de acuerdo a los índices(col) indicados; conserva número de filas.\n",
    "    X_train_sel = X_train[:, selected_indices]\n",
    "    X_test_sel  = X_test[:, selected_indices]\n",
    "\n",
    "    #LightGBM: acepta matrices sparse.\n",
    "    clf.fit(X_train_sel, y_train, feature_name=[feature_names[i] for i in selected_indices])\n",
    "\n",
    "    acc = clf.score(X_test_sel, y_test)#Métrica de presición.\n",
    "    return acc,"
   ]
  },
  {
   "cell_type": "code",
   "execution_count": null,
   "metadata": {},
   "outputs": [],
   "source": [
    "texts= dfstr['title'] + \" \" + dfstr['abstract']\n",
    "X_abstract,tfidf_abstract=vectorize_df(texts,15000,3,0.8)\n",
    "\n",
    "feature_names = np.array(tfidf_abstract.get_feature_names_out())#Obtiene token/palabra con las que se entrena el modelo LGBM.\n",
    "                    #La posición del array feature_names indica el índice de Xcarac(subset de tokens en región media).\n",
    "\n",
    "\n",
    "n_features = len(feature_names)\n",
    "Xcarac = X_abstract[:, :n_features]\n",
    "\n",
    "y = df['group']#Etiquetas.\n",
    "\n",
    "X_train, X_test, y_train, y_test = train_test_split(Xcarac, y, test_size=0.2, random_state=42, stratify=y)"
   ]
  },
  {
   "cell_type": "code",
   "execution_count": null,
   "metadata": {},
   "outputs": [],
   "source": [
    "# Configuración DEAP.\n",
    "# Crear clase de fitness e individuo.\n",
    "creator.create(\"FitnessMax\", base.Fitness, weights=(1.0,))\n",
    "creator.create(\"Individual\", list, fitness=creator.FitnessMax)\n",
    "\n",
    "toolbox = base.Toolbox()\n",
    "toolbox.register(\"attr_bool\", random.randint, 0, 1)\n",
    "toolbox.register(\"individual\", tools.initRepeat, creator.Individual, toolbox.attr_bool, n=n_features)\n",
    "toolbox.register(\"population\", tools.initRepeat, list, toolbox.individual)\n",
    "\n",
    "toolbox.register(\"evaluate\", fitness_function)\n",
    "toolbox.register(\"mate\", tools.cxTwoPoint)\n",
    "toolbox.register(\"mutate\", tools.mutFlipBit, indpb=0.05)\n",
    "toolbox.register(\"select\", tools.selTournament, tournsize=3)"
   ]
  },
  {
   "cell_type": "code",
   "execution_count": null,
   "metadata": {},
   "outputs": [],
   "source": [
    "pop_size = 12\n",
    "n_gen = 6\n",
    "\n",
    "population = toolbox.population(n=pop_size)\n",
    "\n",
    "algorithms.eaSimple(\n",
    "    population,\n",
    "    toolbox,\n",
    "    cxpb=0.5,\n",
    "    mutpb=0.2,\n",
    "    ngen=n_gen,\n",
    "    verbose=True\n",
    ")\n",
    "\n",
    "#Mejor individuo.\n",
    "best_ind = tools.selBest(population, 1)[0]\n",
    "selected_features_final = [feature_names[i] for i, bit in enumerate(best_ind) if bit == 1]#tokens más significativos según el módelo\n",
    "\n",
    "print(\"Número de tokens seleccionados:\", len(selected_features_final))\n",
    "print(\"Tokens seleccionados:\", selected_features_final)"
   ]
  },
  {
   "cell_type": "code",
   "execution_count": null,
   "metadata": {},
   "outputs": [],
   "source": [
    "#Selected_features_final: tokens que DEAP seleccionó\n",
    "vocab = set(tfidf_abstract.get_feature_names_out())\n",
    "valid_tokens = [t for t in selected_features_final if t in vocab]\n",
    "print(\"Tokens válidos en vocabulario:\",len(valid_tokens))\n",
    "print(\"Tokens seleccionados por DEAP:\",len(selected_features_final))"
   ]
  },
  {
   "cell_type": "code",
   "execution_count": 162,
   "metadata": {},
   "outputs": [
    {
     "name": "stdout",
     "output_type": "stream",
     "text": [
      "Tamaño de la matriz final: (3565, 3294)\n"
     ]
    }
   ],
   "source": [
    "token_to_index = {t: i for i, t in enumerate(tfidf_abstract.get_feature_names_out())}#Crea un diccionario con todos los tokens que el vectorizador(TF-IDF) identificó.\n",
    "selected_indices = [token_to_index[t] for t in valid_tokens]#Asigna un índice a cada token. \n",
    "\n",
    "X_final = X_abstract[:, selected_indices]\n",
    "print(\"Tamaño de la matriz final:\", X_final.shape)"
   ]
  },
  {
   "cell_type": "code",
   "execution_count": 163,
   "metadata": {},
   "outputs": [],
   "source": [
    "from sklearn.preprocessing import OneHotEncoder\n",
    "original_columns = ['title', 'abstract']\n",
    "\n",
    "encoder = OneHotEncoder(handle_unknown='ignore')\n",
    "X_original_sparse = encoder.fit_transform(dfstr[original_columns])"
   ]
  },
  {
   "cell_type": "code",
   "execution_count": 164,
   "metadata": {},
   "outputs": [],
   "source": [
    "from scipy.sparse import hstack\n",
    "\n",
    "X_total = hstack([X_final, X_original_sparse])"
   ]
  },
  {
   "cell_type": "code",
   "execution_count": 165,
   "metadata": {},
   "outputs": [],
   "source": [
    "y = dfstr['group'].str.split('|')\n",
    "mlb = MultiLabelBinarizer()\n",
    "Y = mlb.fit_transform(y)"
   ]
  },
  {
   "cell_type": "code",
   "execution_count": null,
   "metadata": {},
   "outputs": [],
   "source": [
    "from sklearn.multiclass import OneVsRestClassifier\n",
    "from sklearn.metrics import f1_score, hamming_loss\n",
    "#Clasificación con tokens seleccionados y columnas title y abstract.\n",
    "X_ = X_total\n",
    "y_ = Y\n",
    "X_train, X_test, y_train, y_test = train_test_split(\n",
    "    X_, y_, test_size=0.2, random_state=42, stratify=y\n",
    ")\n",
    "\n",
    "\n",
    "#X_train, X_test, y_train, y_test son sparse matrices y multilabel binarizadas.\n",
    "clf = OneVsRestClassifier(\n",
    "    lgb.LGBMClassifier(n_estimators=100, max_depth=7, n_jobs=-1)\n",
    ")\n",
    "clf.fit(X_train, y_train)\n",
    "y_predlg = clf.predict(X_test)\n",
    "\n",
    "# Métricas multilabel\n",
    "f1 = f1_score(y_test, y_predlg, average='micro')\n",
    "hamming = hamming_loss(y_test, y_predlg)"
   ]
  },
  {
   "cell_type": "code",
   "execution_count": null,
   "metadata": {},
   "outputs": [],
   "source": [
    "print(classification_report(y_test, y_predlg))"
   ]
  },
  {
   "cell_type": "markdown",
   "metadata": {},
   "source": [
    "Clasificador XGBoost"
   ]
  },
  {
   "cell_type": "code",
   "execution_count": 168,
   "metadata": {},
   "outputs": [],
   "source": [
    "from sklearn.preprocessing import MultiLabelBinarizer\n",
    "\n",
    "# Separar las etiquetas por '|'\n",
    "y_multilabel = [y.split('|') for y in dfstr['group']]\n",
    "\n",
    "mlb = MultiLabelBinarizer()#Transforma cada etiqueta en una columna 0/1\n",
    "Y = mlb.fit_transform(y_multilabel)"
   ]
  },
  {
   "cell_type": "code",
   "execution_count": 169,
   "metadata": {},
   "outputs": [],
   "source": [
    "x_train, x_test, y_train, y_test = train_test_split(\n",
    "    Xcarac, Y, test_size=0.2, random_state=42\n",
    ")"
   ]
  },
  {
   "cell_type": "code",
   "execution_count": null,
   "metadata": {},
   "outputs": [],
   "source": [
    "clf_xgb = xgb_multi = OneVsRestClassifier(xgb.XGBClassifier(objective='binary:logistic', n_estimators=10,\n",
    "                            seed=123))\n",
    "\n",
    "clf_xgb.fit(x_train, y_train)\n",
    "preds_xgb = clf_xgb.predict(x_test)\n",
    "\n",
    "print(classification_report(y_test, preds_xgb))"
   ]
  },
  {
   "cell_type": "code",
   "execution_count": null,
   "metadata": {},
   "outputs": [],
   "source": [
    "#Probabilidades.\n",
    "probs_xgb = clf_xgb.predict_proba(x_test)\n",
    "probs_lgb = clf.predict_proba(X_test)\n",
    "\n",
    "f1_xgb = f1_score(y_test, clf_xgb.predict(x_test), average='micro')\n",
    "f1_lgb = f1_score(y_test, clf.predict(X_test), average='micro')\n",
    "\n",
    "weights = np.array([f1_xgb, f1_lgb])\n",
    "weights = weights / weights.sum()\n",
    "\n",
    "#Votación ponderada.\n",
    "combined_probs = probs_xgb * weights[0] + probs_lgb * weights[1]\n",
    "y_predcom = (combined_probs >= 0.7).astype(int)#Umbral de clasificación según probabilidad combinada.\n",
    "\n",
    "#Métricas multilabel.\n",
    "f1_combined = f1_score(y_test, y_predcom, average='micro')\n",
    "print(\"F1 micro combinado:\", f1_combined)"
   ]
  },
  {
   "cell_type": "code",
   "execution_count": null,
   "metadata": {},
   "outputs": [],
   "source": [
    "report = classification_report(y_test, y_predcom, output_dict=True)\n",
    "df_report = pd.DataFrame(report).transpose()\n",
    "print(df_report)\n",
    "hamming = hamming_loss(y_test, y_predcom)\n",
    "print(\"-----------------------------\")\n",
    "print(\"Hamming loss:\", hamming)#Proporción de etiquetas incorrectas."
   ]
  }
 ],
 "metadata": {
  "kernelspec": {
   "display_name": "med-env",
   "language": "python",
   "name": "python3"
  },
  "language_info": {
   "codemirror_mode": {
    "name": "ipython",
    "version": 3
   },
   "file_extension": ".py",
   "mimetype": "text/x-python",
   "name": "python",
   "nbconvert_exporter": "python",
   "pygments_lexer": "ipython3",
   "version": "3.10.0"
  }
 },
 "nbformat": 4,
 "nbformat_minor": 2
}
