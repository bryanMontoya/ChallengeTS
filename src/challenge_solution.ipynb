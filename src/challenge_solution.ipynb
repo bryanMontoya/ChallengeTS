{
 "cells": [
  {
   "cell_type": "markdown",
   "metadata": {},
   "source": [
    "# Los MiserAIbles Team\n",
    "\n",
    "### Integrantes\n",
    "Sorany Hincapie Salazar  \n",
    "Brayan Montoya Osorio"
   ]
  },
  {
   "cell_type": "markdown",
   "metadata": {},
   "source": [
    "## Exploración de los datos"
   ]
  },
  {
   "cell_type": "code",
   "execution_count": 5,
   "metadata": {},
   "outputs": [
    {
     "data": {
      "text/html": [
       "<div>\n",
       "<style scoped>\n",
       "    .dataframe tbody tr th:only-of-type {\n",
       "        vertical-align: middle;\n",
       "    }\n",
       "\n",
       "    .dataframe tbody tr th {\n",
       "        vertical-align: top;\n",
       "    }\n",
       "\n",
       "    .dataframe thead th {\n",
       "        text-align: right;\n",
       "    }\n",
       "</style>\n",
       "<table border=\"1\" class=\"dataframe\">\n",
       "  <thead>\n",
       "    <tr style=\"text-align: right;\">\n",
       "      <th></th>\n",
       "      <th>title</th>\n",
       "      <th>abstract</th>\n",
       "      <th>group</th>\n",
       "    </tr>\n",
       "  </thead>\n",
       "  <tbody>\n",
       "    <tr>\n",
       "      <th>0</th>\n",
       "      <td>Adrenoleukodystrophy: survey of 303 cases: bio...</td>\n",
       "      <td>Adrenoleukodystrophy ( ALD ) is a genetically ...</td>\n",
       "      <td>neurological|hepatorenal</td>\n",
       "    </tr>\n",
       "    <tr>\n",
       "      <th>1</th>\n",
       "      <td>endoscopy reveals ventricular tachycardia secrets</td>\n",
       "      <td>Research question: How does metformin affect c...</td>\n",
       "      <td>neurological</td>\n",
       "    </tr>\n",
       "    <tr>\n",
       "      <th>2</th>\n",
       "      <td>dementia and cholecystitis: organ interplay</td>\n",
       "      <td>Purpose: This randomized controlled study exam...</td>\n",
       "      <td>hepatorenal</td>\n",
       "    </tr>\n",
       "    <tr>\n",
       "      <th>3</th>\n",
       "      <td>The interpeduncular nucleus regulates nicotine...</td>\n",
       "      <td>Partial lesions were made with kainic acid in ...</td>\n",
       "      <td>neurological</td>\n",
       "    </tr>\n",
       "    <tr>\n",
       "      <th>4</th>\n",
       "      <td>guillain-barre syndrome pathways in leukemia</td>\n",
       "      <td>Hypothesis: statins improves stroke outcomes v...</td>\n",
       "      <td>neurological</td>\n",
       "    </tr>\n",
       "    <tr>\n",
       "      <th>5</th>\n",
       "      <td>Effects of suprofen on the isolated perfused r...</td>\n",
       "      <td>Although suprofen has been associated with the...</td>\n",
       "      <td>hepatorenal</td>\n",
       "    </tr>\n",
       "    <tr>\n",
       "      <th>6</th>\n",
       "      <td>atherosclerosis and lymphoma: vascular insights</td>\n",
       "      <td>Aim: To investigate aspirin effects on diabete...</td>\n",
       "      <td>cardiovascular</td>\n",
       "    </tr>\n",
       "    <tr>\n",
       "      <th>7</th>\n",
       "      <td>Potential therapeutic use of the selective dop...</td>\n",
       "      <td>The clinical utility of dopamine (DA) D1 recep...</td>\n",
       "      <td>neurological</td>\n",
       "    </tr>\n",
       "    <tr>\n",
       "      <th>8</th>\n",
       "      <td>The basal ganglia connection in epilepsy</td>\n",
       "      <td>Background: dementia affects cardiac patients ...</td>\n",
       "      <td>neurological</td>\n",
       "    </tr>\n",
       "    <tr>\n",
       "      <th>9</th>\n",
       "      <td>septum and peripheral artery disease: vascular...</td>\n",
       "      <td>Purpose: This observational study examined cal...</td>\n",
       "      <td>cardiovascular</td>\n",
       "    </tr>\n",
       "  </tbody>\n",
       "</table>\n",
       "</div>"
      ],
      "text/plain": [
       "                                               title  \\\n",
       "0  Adrenoleukodystrophy: survey of 303 cases: bio...   \n",
       "1  endoscopy reveals ventricular tachycardia secrets   \n",
       "2        dementia and cholecystitis: organ interplay   \n",
       "3  The interpeduncular nucleus regulates nicotine...   \n",
       "4       guillain-barre syndrome pathways in leukemia   \n",
       "5  Effects of suprofen on the isolated perfused r...   \n",
       "6    atherosclerosis and lymphoma: vascular insights   \n",
       "7  Potential therapeutic use of the selective dop...   \n",
       "8           The basal ganglia connection in epilepsy   \n",
       "9  septum and peripheral artery disease: vascular...   \n",
       "\n",
       "                                            abstract                     group  \n",
       "0  Adrenoleukodystrophy ( ALD ) is a genetically ...  neurological|hepatorenal  \n",
       "1  Research question: How does metformin affect c...              neurological  \n",
       "2  Purpose: This randomized controlled study exam...               hepatorenal  \n",
       "3  Partial lesions were made with kainic acid in ...              neurological  \n",
       "4  Hypothesis: statins improves stroke outcomes v...              neurological  \n",
       "5  Although suprofen has been associated with the...               hepatorenal  \n",
       "6  Aim: To investigate aspirin effects on diabete...            cardiovascular  \n",
       "7  The clinical utility of dopamine (DA) D1 recep...              neurological  \n",
       "8  Background: dementia affects cardiac patients ...              neurological  \n",
       "9  Purpose: This observational study examined cal...            cardiovascular  "
      ]
     },
     "execution_count": 5,
     "metadata": {},
     "output_type": "execute_result"
    }
   ],
   "source": [
    "import pandas as pd\n",
    "\n",
    "path_to_data = '../data/challenge_data-18-ago.csv'\n",
    "\n",
    "df = pd.read_csv(path_to_data, sep = ';')\n",
    "df.head(10)"
   ]
  },
  {
   "cell_type": "code",
   "execution_count": 6,
   "metadata": {},
   "outputs": [
    {
     "ename": "KeyError",
     "evalue": "'label_list'",
     "output_type": "error",
     "traceback": [
      "\u001b[31m---------------------------------------------------------------------------\u001b[39m",
      "\u001b[31mKeyError\u001b[39m                                  Traceback (most recent call last)",
      "\u001b[36mFile \u001b[39m\u001b[32m/usr/local/python/3.12.1/lib/python3.12/site-packages/pandas/core/indexes/base.py:3812\u001b[39m, in \u001b[36mIndex.get_loc\u001b[39m\u001b[34m(self, key)\u001b[39m\n\u001b[32m   3811\u001b[39m \u001b[38;5;28;01mtry\u001b[39;00m:\n\u001b[32m-> \u001b[39m\u001b[32m3812\u001b[39m     \u001b[38;5;28;01mreturn\u001b[39;00m \u001b[38;5;28;43mself\u001b[39;49m\u001b[43m.\u001b[49m\u001b[43m_engine\u001b[49m\u001b[43m.\u001b[49m\u001b[43mget_loc\u001b[49m\u001b[43m(\u001b[49m\u001b[43mcasted_key\u001b[49m\u001b[43m)\u001b[49m\n\u001b[32m   3813\u001b[39m \u001b[38;5;28;01mexcept\u001b[39;00m \u001b[38;5;167;01mKeyError\u001b[39;00m \u001b[38;5;28;01mas\u001b[39;00m err:\n",
      "\u001b[36mFile \u001b[39m\u001b[32mpandas/_libs/index.pyx:167\u001b[39m, in \u001b[36mpandas._libs.index.IndexEngine.get_loc\u001b[39m\u001b[34m()\u001b[39m\n",
      "\u001b[36mFile \u001b[39m\u001b[32mpandas/_libs/index.pyx:196\u001b[39m, in \u001b[36mpandas._libs.index.IndexEngine.get_loc\u001b[39m\u001b[34m()\u001b[39m\n",
      "\u001b[36mFile \u001b[39m\u001b[32mpandas/_libs/hashtable_class_helper.pxi:7088\u001b[39m, in \u001b[36mpandas._libs.hashtable.PyObjectHashTable.get_item\u001b[39m\u001b[34m()\u001b[39m\n",
      "\u001b[36mFile \u001b[39m\u001b[32mpandas/_libs/hashtable_class_helper.pxi:7096\u001b[39m, in \u001b[36mpandas._libs.hashtable.PyObjectHashTable.get_item\u001b[39m\u001b[34m()\u001b[39m\n",
      "\u001b[31mKeyError\u001b[39m: 'label_list'",
      "\nThe above exception was the direct cause of the following exception:\n",
      "\u001b[31mKeyError\u001b[39m                                  Traceback (most recent call last)",
      "\u001b[36mCell\u001b[39m\u001b[36m \u001b[39m\u001b[32mIn[6]\u001b[39m\u001b[32m, line 3\u001b[39m\n\u001b[32m      1\u001b[39m \u001b[38;5;28;01mfrom\u001b[39;00m\u001b[38;5;250m \u001b[39m\u001b[34;01mcollections\u001b[39;00m\u001b[38;5;250m \u001b[39m\u001b[38;5;28;01mimport\u001b[39;00m Counter\n\u001b[32m----> \u001b[39m\u001b[32m3\u001b[39m all_labels = [label \u001b[38;5;28;01mfor\u001b[39;00m labels \u001b[38;5;129;01min\u001b[39;00m \u001b[43mdf\u001b[49m\u001b[43m[\u001b[49m\u001b[33;43m'\u001b[39;49m\u001b[33;43mlabel_list\u001b[39;49m\u001b[33;43m'\u001b[39;49m\u001b[43m]\u001b[49m \u001b[38;5;28;01mfor\u001b[39;00m label \u001b[38;5;129;01min\u001b[39;00m labels]\n\u001b[32m      4\u001b[39m label_counts = Counter(all_labels)\n\u001b[32m      6\u001b[39m \u001b[38;5;28;01mfor\u001b[39;00m label, count \u001b[38;5;129;01min\u001b[39;00m label_counts.items():\n",
      "\u001b[36mFile \u001b[39m\u001b[32m/usr/local/python/3.12.1/lib/python3.12/site-packages/pandas/core/frame.py:4107\u001b[39m, in \u001b[36mDataFrame.__getitem__\u001b[39m\u001b[34m(self, key)\u001b[39m\n\u001b[32m   4105\u001b[39m \u001b[38;5;28;01mif\u001b[39;00m \u001b[38;5;28mself\u001b[39m.columns.nlevels > \u001b[32m1\u001b[39m:\n\u001b[32m   4106\u001b[39m     \u001b[38;5;28;01mreturn\u001b[39;00m \u001b[38;5;28mself\u001b[39m._getitem_multilevel(key)\n\u001b[32m-> \u001b[39m\u001b[32m4107\u001b[39m indexer = \u001b[38;5;28;43mself\u001b[39;49m\u001b[43m.\u001b[49m\u001b[43mcolumns\u001b[49m\u001b[43m.\u001b[49m\u001b[43mget_loc\u001b[49m\u001b[43m(\u001b[49m\u001b[43mkey\u001b[49m\u001b[43m)\u001b[49m\n\u001b[32m   4108\u001b[39m \u001b[38;5;28;01mif\u001b[39;00m is_integer(indexer):\n\u001b[32m   4109\u001b[39m     indexer = [indexer]\n",
      "\u001b[36mFile \u001b[39m\u001b[32m/usr/local/python/3.12.1/lib/python3.12/site-packages/pandas/core/indexes/base.py:3819\u001b[39m, in \u001b[36mIndex.get_loc\u001b[39m\u001b[34m(self, key)\u001b[39m\n\u001b[32m   3814\u001b[39m     \u001b[38;5;28;01mif\u001b[39;00m \u001b[38;5;28misinstance\u001b[39m(casted_key, \u001b[38;5;28mslice\u001b[39m) \u001b[38;5;129;01mor\u001b[39;00m (\n\u001b[32m   3815\u001b[39m         \u001b[38;5;28misinstance\u001b[39m(casted_key, abc.Iterable)\n\u001b[32m   3816\u001b[39m         \u001b[38;5;129;01mand\u001b[39;00m \u001b[38;5;28many\u001b[39m(\u001b[38;5;28misinstance\u001b[39m(x, \u001b[38;5;28mslice\u001b[39m) \u001b[38;5;28;01mfor\u001b[39;00m x \u001b[38;5;129;01min\u001b[39;00m casted_key)\n\u001b[32m   3817\u001b[39m     ):\n\u001b[32m   3818\u001b[39m         \u001b[38;5;28;01mraise\u001b[39;00m InvalidIndexError(key)\n\u001b[32m-> \u001b[39m\u001b[32m3819\u001b[39m     \u001b[38;5;28;01mraise\u001b[39;00m \u001b[38;5;167;01mKeyError\u001b[39;00m(key) \u001b[38;5;28;01mfrom\u001b[39;00m\u001b[38;5;250m \u001b[39m\u001b[34;01merr\u001b[39;00m\n\u001b[32m   3820\u001b[39m \u001b[38;5;28;01mexcept\u001b[39;00m \u001b[38;5;167;01mTypeError\u001b[39;00m:\n\u001b[32m   3821\u001b[39m     \u001b[38;5;66;03m# If we have a listlike key, _check_indexing_error will raise\u001b[39;00m\n\u001b[32m   3822\u001b[39m     \u001b[38;5;66;03m#  InvalidIndexError. Otherwise we fall through and re-raise\u001b[39;00m\n\u001b[32m   3823\u001b[39m     \u001b[38;5;66;03m#  the TypeError.\u001b[39;00m\n\u001b[32m   3824\u001b[39m     \u001b[38;5;28mself\u001b[39m._check_indexing_error(key)\n",
      "\u001b[31mKeyError\u001b[39m: 'label_list'"
     ]
    }
   ],
   "source": [
    "from collections import Counter\n",
    "\n",
    "all_labels = [label for labels in df['label_list'] for label in labels]\n",
    "label_counts = Counter(all_labels)\n",
    "\n",
    "for label, count in label_counts.items():\n",
    "    print(f\"{label}: {count}\")"
   ]
  },
  {
   "cell_type": "code",
   "execution_count": null,
   "metadata": {},
   "outputs": [
    {
     "data": {
      "text/html": [
       "<!DOCTYPE html>\n",
       "<html lang=\"es\">\n",
       "<head>\n",
       "    <meta charset=\"UTF-8\">\n",
       "    <meta name=\"viewport\" content=\"width=device-width, initial-scale=1.0\">\n",
       "    <title>Categorías de Artículos Médicos</title>\n",
       "    <script src=\"https://cdn.jsdelivr.net/npm/chart.js\"></script>\n",
       "    <style>\n",
       "        * {\n",
       "            margin: 0;\n",
       "            padding: 0;\n",
       "            box-sizing: border-box;\n",
       "        }\n",
       "\n",
       "        body {\n",
       "            font-family: -apple-system, BlinkMacSystemFont, 'Segoe UI', Roboto, sans-serif;\n",
       "            background: linear-gradient(135deg, #667eea 0%, #764ba2 100%);\n",
       "            min-height: 100vh;\n",
       "            padding: 2rem;\n",
       "        }\n",
       "\n",
       "        .container {\n",
       "            max-width: 1200px;\n",
       "            margin: 0 auto;\n",
       "        }\n",
       "\n",
       "        .header {\n",
       "            text-align: center;\n",
       "            margin-bottom: 3rem;\n",
       "        }\n",
       "\n",
       "        .title {\n",
       "            font-size: 3rem;\n",
       "            font-weight: 800;\n",
       "            background: linear-gradient(135deg, #667eea 0%, #764ba2 100%);\n",
       "            -webkit-background-clip: text;\n",
       "            -webkit-text-fill-color: transparent;\n",
       "            background-clip: text;\n",
       "            margin-bottom: 1rem;\n",
       "        }\n",
       "\n",
       "        .subtitle {\n",
       "            font-size: 1.25rem;\n",
       "            color: #64748b;\n",
       "            font-weight: 500;\n",
       "        }\n",
       "\n",
       "        .stats-grid {\n",
       "            display: grid;\n",
       "            grid-template-columns: repeat(auto-fit, minmax(280px, 1fr));\n",
       "            gap: 1.5rem;\n",
       "            margin-bottom: 3rem;\n",
       "        }\n",
       "\n",
       "        .stat-card {\n",
       "            background: rgba(255, 255, 255, 0.95);\n",
       "            backdrop-filter: blur(10px);\n",
       "            border-radius: 1rem;\n",
       "            padding: 2rem;\n",
       "            box-shadow: 0 20px 25px -5px rgba(0, 0, 0, 0.1), 0 10px 10px -5px rgba(0, 0, 0, 0.04);\n",
       "            transition: all 0.3s ease;\n",
       "            border: 1px solid rgba(255, 255, 255, 0.2);\n",
       "        }\n",
       "\n",
       "        .stat-card:hover {\n",
       "            transform: translateY(-5px);\n",
       "            box-shadow: 0 25px 50px -12px rgba(0, 0, 0, 0.25);\n",
       "        }\n",
       "\n",
       "        .stat-card.neurological {\n",
       "            border-left: 6px solid #6366f1;\n",
       "            background: linear-gradient(135deg, rgba(99, 102, 241, 0.1) 0%, rgba(255, 255, 255, 0.95) 100%);\n",
       "        }\n",
       "\n",
       "        .stat-card.cardiovascular {\n",
       "            border-left: 6px solid #ef4444;\n",
       "            background: linear-gradient(135deg, rgba(239, 68, 68, 0.1) 0%, rgba(255, 255, 255, 0.95) 100%);\n",
       "        }\n",
       "\n",
       "        .stat-card.hepatorrenal {\n",
       "            border-left: 6px solid #10b981;\n",
       "            background: linear-gradient(135deg, rgba(16, 185, 129, 0.1) 0%, rgba(255, 255, 255, 0.95) 100%);\n",
       "        }\n",
       "\n",
       "        .stat-card.oncological {\n",
       "            border-left: 6px solid #f59e0b;\n",
       "            background: linear-gradient(135deg, rgba(245, 158, 11, 0.1) 0%, rgba(255, 255, 255, 0.95) 100%);\n",
       "        }\n",
       "\n",
       "        .stat-header {\n",
       "            display: flex;\n",
       "            align-items: center;\n",
       "            justify-content: space-between;\n",
       "            margin-bottom: 1rem;\n",
       "        }\n",
       "\n",
       "        .stat-title {\n",
       "            font-size: 1rem;\n",
       "            font-weight: 600;\n",
       "            color: #374151;\n",
       "        }\n",
       "\n",
       "        .stat-icon {\n",
       "            width: 2.5rem;\n",
       "            height: 2.5rem;\n",
       "            border-radius: 0.75rem;\n",
       "            display: flex;\n",
       "            align-items: center;\n",
       "            justify-content: center;\n",
       "            font-size: 1.25rem;\n",
       "        }\n",
       "\n",
       "        .neurological .stat-icon {\n",
       "            background: rgba(99, 102, 241, 0.2);\n",
       "            color: #6366f1;\n",
       "        }\n",
       "\n",
       "        .cardiovascular .stat-icon {\n",
       "            background: rgba(239, 68, 68, 0.2);\n",
       "            color: #ef4444;\n",
       "        }\n",
       "\n",
       "        .hepatorrenal .stat-icon {\n",
       "            background: rgba(16, 185, 129, 0.2);\n",
       "            color: #10b981;\n",
       "        }\n",
       "\n",
       "        .oncological .stat-icon {\n",
       "            background: rgba(245, 158, 11, 0.2);\n",
       "            color: #f59e0b;\n",
       "        }\n",
       "\n",
       "        .stat-value {\n",
       "            font-size: 2.5rem;\n",
       "            font-weight: 800;\n",
       "            color: #111827;\n",
       "            margin-bottom: 0.5rem;\n",
       "        }\n",
       "\n",
       "        .stat-description {\n",
       "            color: #6b7280;\n",
       "            font-size: 0.875rem;\n",
       "            line-height: 1.5;\n",
       "        }\n",
       "\n",
       "        .chart-container {\n",
       "            background: rgba(255, 255, 255, 0.95);\n",
       "            backdrop-filter: blur(10px);\n",
       "            border-radius: 1rem;\n",
       "            padding: 2rem;\n",
       "            box-shadow: 0 20px 25px -5px rgba(0, 0, 0, 0.1), 0 10px 10px -5px rgba(0, 0, 0, 0.04);\n",
       "            border: 1px solid rgba(255, 255, 255, 0.2);\n",
       "            margin-bottom: 3rem;\n",
       "        }\n",
       "\n",
       "        .chart-title {\n",
       "            font-size: 1.5rem;\n",
       "            font-weight: 700;\n",
       "            color: #111827;\n",
       "            margin-bottom: 1rem;\n",
       "            text-align: center;\n",
       "        }\n",
       "\n",
       "        .chart-wrapper {\n",
       "            position: relative;\n",
       "            height: 400px;\n",
       "        }\n",
       "\n",
       "        .insights {\n",
       "            background: rgba(255, 255, 255, 0.95);\n",
       "            backdrop-filter: blur(10px);\n",
       "            border-radius: 1rem;\n",
       "            padding: 2rem;\n",
       "            box-shadow: 0 20px 25px -5px rgba(0, 0, 0, 0.1), 0 10px 10px -5px rgba(0, 0, 0, 0.04);\n",
       "            border: 1px solid rgba(255, 255, 255, 0.2);\n",
       "        }\n",
       "\n",
       "        .insights-title {\n",
       "            font-size: 1.5rem;\n",
       "            font-weight: 700;\n",
       "            color: #111827;\n",
       "            margin-bottom: 1rem;\n",
       "        }\n",
       "\n",
       "        .insights-list {\n",
       "            list-style: none;\n",
       "        }\n",
       "\n",
       "        .insights-list li {\n",
       "            padding: 0.75rem 0;\n",
       "            border-bottom: 1px solid #e5e7eb;\n",
       "            color: #374151;\n",
       "            line-height: 1.6;\n",
       "        }\n",
       "\n",
       "        .insights-list li:last-child {\n",
       "            border-bottom: none;\n",
       "        }\n",
       "\n",
       "        .insights-list li::before {\n",
       "            content: \"•\";\n",
       "            color: #6366f1;\n",
       "            font-weight: bold;\n",
       "            margin-right: 0.5rem;\n",
       "        }\n",
       "\n",
       "        @media (max-width: 768px) {\n",
       "            .title {\n",
       "                font-size: 2rem;\n",
       "            }\n",
       "\n",
       "            .stats-grid {\n",
       "                grid-template-columns: 1fr;\n",
       "            }\n",
       "\n",
       "            .chart-wrapper {\n",
       "                height: 300px;\n",
       "            }\n",
       "        }\n",
       "    </style>\n",
       "</head>\n",
       "<body>\n",
       "    <div class=\"container\">\n",
       "        <div class=\"header\">\n",
       "            <h1 class=\"title\">Categorías de Artículos Médicos</h1>\n",
       "            <p class=\"subtitle\">Distribución de 4,745 artículos por especialidad médica</p>\n",
       "        </div>\n",
       "\n",
       "        <div class=\"stats-grid\">\n",
       "            <div class=\"stat-card neurological\">\n",
       "                <div class=\"stat-header\">\n",
       "                    <h3 class=\"stat-title\">Neurológico</h3>\n",
       "                    <div class=\"stat-icon\">🧠</div>\n",
       "                </div>\n",
       "                <div class=\"stat-value\">1,785</div>\n",
       "                <p class=\"stat-description\">Artículos relacionados con el sistema nervioso, neurología y trastornos neurológicos</p>\n",
       "            </div>\n",
       "\n",
       "            <div class=\"stat-card cardiovascular\">\n",
       "                <div class=\"stat-header\">\n",
       "                    <h3 class=\"stat-title\">Cardiovascular</h3>\n",
       "                    <div class=\"stat-icon\">❤️</div>\n",
       "                </div>\n",
       "                <div class=\"stat-value\">1,268</div>\n",
       "                <p class=\"stat-description\">Investigación sobre el corazón, sistema circulatorio y enfermedades cardiovasculares</p>\n",
       "            </div>\n",
       "\n",
       "            <div class=\"stat-card hepatorrenal\">\n",
       "                <div class=\"stat-header\">\n",
       "                    <h3 class=\"stat-title\">Hepatorrenal</h3>\n",
       "                    <div class=\"stat-icon\">🫘</div>\n",
       "                </div>\n",
       "                <div class=\"stat-value\">1,091</div>\n",
       "                <p class=\"stat-description\">Estudios sobre hígado, riñones y trastornos hepatorrenales</p>\n",
       "            </div>\n",
       "\n",
       "            <div class=\"stat-card oncological\">\n",
       "                <div class=\"stat-header\">\n",
       "                    <h3 class=\"stat-title\">Oncológico</h3>\n",
       "                    <div class=\"stat-icon\">🎗️</div>\n",
       "                </div>\n",
       "                <div class=\"stat-value\">601</div>\n",
       "                <p class=\"stat-description\">Investigación oncológica, tratamientos contra el cáncer y terapias</p>\n",
       "            </div>\n",
       "        </div>\n",
       "\n",
       "        <div class=\"chart-container\">\n",
       "            <h2 class=\"chart-title\">Comparación por Categorías</h2>\n",
       "            <div class=\"chart-wrapper\">\n",
       "                <canvas id=\"medicalChart\"></canvas>\n",
       "            </div>\n",
       "        </div>\n",
       "\n",
       "        <div class=\"insights\">\n",
       "            <h2 class=\"insights-title\">Perspectivas Clave</h2>\n",
       "            <ul class=\"insights-list\">\n",
       "                <li>Los artículos neurológicos representan el 37.6% del total, siendo la categoría más estudiada</li>\n",
       "                <li>La investigación cardiovascular ocupa el segundo lugar con 26.7% de los artículos</li>\n",
       "                <li>Los estudios hepatorrenales constituyen el 23.0% de la literatura médica</li>\n",
       "                <li>La investigación oncológica representa el 12.7%, un área con gran potencial de crecimiento</li>\n",
       "                <li>Existe una distribución equilibrada entre las especialidades médicas principales</li>\n",
       "            </ul>\n",
       "        </div>\n",
       "    </div>\n",
       "\n",
       "    <script>\n",
       "        // Datos médicos\n",
       "        const medicalData = [\n",
       "            { category: 'Neurológico', count: 1785, color: '#6366f1' },\n",
       "            { category: 'Cardiovascular', count: 1268, color: '#ef4444' },\n",
       "            { category: 'Hepatorrenal', count: 1091, color: '#10b981' },\n",
       "            { category: 'Oncológico', count: 601, color: '#f59e0b' }\n",
       "        ];\n",
       "\n",
       "        // Configuración del gráfico\n",
       "        const ctx = document.getElementById('medicalChart').getContext('2d');\n",
       "\n",
       "        const chart = new Chart(ctx, {\n",
       "            type: 'bar',\n",
       "            data: {\n",
       "                labels: medicalData.map(item => item.category),\n",
       "                datasets: [{\n",
       "                    label: 'Número de Artículos',\n",
       "                    data: medicalData.map(item => item.count),\n",
       "                    backgroundColor: medicalData.map(item => item.color + '20'),\n",
       "                    borderColor: medicalData.map(item => item.color),\n",
       "                    borderWidth: 3,\n",
       "                    borderRadius: 8,\n",
       "                    borderSkipped: false,\n",
       "                }]\n",
       "            },\n",
       "            options: {\n",
       "                responsive: true,\n",
       "                maintainAspectRatio: false,\n",
       "                plugins: {\n",
       "                    legend: {\n",
       "                        display: false\n",
       "                    },\n",
       "                    tooltip: {\n",
       "                        backgroundColor: 'rgba(0, 0, 0, 0.8)',\n",
       "                        titleColor: '#fff',\n",
       "                        bodyColor: '#fff',\n",
       "                        borderColor: '#6366f1',\n",
       "                        borderWidth: 1,\n",
       "                        cornerRadius: 8,\n",
       "                        displayColors: false,\n",
       "                        callbacks: {\n",
       "                            label: function(context) {\n",
       "                                const total = medicalData.reduce((sum, item) => sum + item.count, 0);\n",
       "                                const percentage = ((context.parsed.y / total) * 100).toFixed(1);\n",
       "                                return `${context.parsed.y} artículos (${percentage}%)`;\n",
       "                            }\n",
       "                        }\n",
       "                    }\n",
       "                },\n",
       "                scales: {\n",
       "                    y: {\n",
       "                        beginAtZero: true,\n",
       "                        grid: {\n",
       "                            color: 'rgba(0, 0, 0, 0.1)',\n",
       "                            drawBorder: false\n",
       "                        },\n",
       "                        ticks: {\n",
       "                            color: '#6b7280',\n",
       "                            font: {\n",
       "                                size: 12,\n",
       "                                weight: '500'\n",
       "                            }\n",
       "                        }\n",
       "                    },\n",
       "                    x: {\n",
       "                        grid: {\n",
       "                            display: false\n",
       "                        },\n",
       "                        ticks: {\n",
       "                            color: '#374151',\n",
       "                            font: {\n",
       "                                size: 12,\n",
       "                                weight: '600'\n",
       "                            }\n",
       "                        }\n",
       "                    }\n",
       "                },\n",
       "                animation: {\n",
       "                    duration: 1500,\n",
       "                    easing: 'easeOutQuart'\n",
       "                }\n",
       "            }\n",
       "        });\n",
       "\n",
       "        // Animación de contadores\n",
       "        function animateCounters() {\n",
       "            const counters = document.querySelectorAll('.stat-value');\n",
       "\n",
       "            counters.forEach(counter => {\n",
       "                const target = parseInt(counter.textContent.replace(',', ''));\n",
       "                let current = 0;\n",
       "                const increment = target / 100;\n",
       "                const timer = setInterval(() => {\n",
       "                    current += increment;\n",
       "                    if (current >= target) {\n",
       "                        counter.textContent = target.toLocaleString();\n",
       "                        clearInterval(timer);\n",
       "                    } else {\n",
       "                        counter.textContent = Math.floor(current).toLocaleString();\n",
       "                    }\n",
       "                }, 20);\n",
       "            });\n",
       "        }\n",
       "\n",
       "        // Iniciar animaciones cuando la página carga\n",
       "        window.addEventListener('load', () => {\n",
       "            setTimeout(animateCounters, 500);\n",
       "        });\n",
       "    </script>\n",
       "</body>\n",
       "</html>"
      ],
      "text/plain": [
       "<IPython.core.display.HTML object>"
      ]
     },
     "execution_count": 58,
     "metadata": {},
     "output_type": "execute_result"
    }
   ],
   "source": []
  },
  {
   "cell_type": "markdown",
   "metadata": {},
   "source": [
    "## Extracción de características con NLP\n",
    "\n",
    "Pasos:\n",
    "1. Tokenización.\n",
    "2. Limpieza.\n",
    "3. Lemmatización.\n",
    "4. Filtrado de StopWords.\n",
    "5. Vectorización a través de TF-IDF."
   ]
  },
  {
   "cell_type": "markdown",
   "metadata": {},
   "source": [
    "### Ejemplo de prueba con un registro del dataset siguiendo los pasos anteriores."
   ]
  },
  {
   "cell_type": "code",
   "execution_count": null,
   "metadata": {},
   "outputs": [
    {
     "name": "stdout",
     "output_type": "stream",
     "text": [
      "Adrenoleukodystrophy: survey of 303 cases: biochemistry, diagnosis, and therapy. Adrenoleukodystrophy ( ALD ) is a genetically determined disorder associated with progressive central demyelination and adrenal cortical insufficiency . All affected persons show increased levels of saturated unbranched very-long-chain fatty acids , particularly hexacosanoate ( C26  0 ) , because of impaired capacity to degrade these acids . This degradation normally takes place in a subcellular organelle called the peroxisome , and ALD , together with Zellwegers cerebrohepatorenal syndrome , is now considered to belong to the newly formed category of peroxisomal disorders . Biochemical assays permit prenatal diagnosis , as well as identification of most heterozygotes . We have identified 303 patients with ALD in 217 kindreds . These patients show a wide phenotypic variation . Sixty percent of patients had childhood ALD and 17 % adrenomyeloneuropathy , both of which are X-linked , with the gene mapped to Xq28 . Neonatal ALD , a distinct entity with autosomal recessive inheritance and points of resemblance to Zellwegers syndrome , accounted for 7 % of the cases . Although excess C26  0 in the brain of patients with ALD is partially of dietary origin , dietary C26  0 restriction did not produce clear benefit . Bone marrow transplant lowered the plasma C26  0 level but failed to arrest neurological progression . .\n"
     ]
    }
   ],
   "source": [
    "row_example =  df.iloc[0]['title'] + ' ' +  df.iloc[0]['abstract']\n",
    "print(row_example)"
   ]
  },
  {
   "cell_type": "markdown",
   "metadata": {},
   "source": [
    "### 1. Tokenización:  \n",
    "Dividir texto en palabras, oraciones o elementos pequeños. Para esto se usa la librería **nltk** y se descarga el modulo **punkt_tab**."
   ]
  },
  {
   "cell_type": "code",
   "execution_count": null,
   "metadata": {},
   "outputs": [
    {
     "name": "stderr",
     "output_type": "stream",
     "text": [
      "[nltk_data] Downloading package punkt_tab to\n",
      "[nltk_data]     /home/codespace/nltk_data...\n",
      "[nltk_data]   Package punkt_tab is already up-to-date!\n"
     ]
    }
   ],
   "source": [
    "import nltk\n",
    "nltk.download('punkt_tab')\n",
    "\n",
    "def tokenize_text(text):\n",
    "    return nltk.word_tokenize(text)"
   ]
  },
  {
   "cell_type": "code",
   "execution_count": null,
   "metadata": {},
   "outputs": [
    {
     "name": "stdout",
     "output_type": "stream",
     "text": [
      "['Adrenoleukodystrophy', ':', 'survey', 'of', '303', 'cases', ':', 'biochemistry', ',', 'diagnosis', ',', 'and', 'therapy', '.', 'Adrenoleukodystrophy', '(', 'ALD', ')', 'is', 'a', 'genetically', 'determined', 'disorder', 'associated', 'with', 'progressive', 'central', 'demyelination', 'and', 'adrenal', 'cortical', 'insufficiency', '.', 'All', 'affected', 'persons', 'show', 'increased', 'levels', 'of', 'saturated', 'unbranched', 'very-long-chain', 'fatty', 'acids', ',', 'particularly', 'hexacosanoate', '(', 'C26', '0', ')', ',', 'because', 'of', 'impaired', 'capacity', 'to', 'degrade', 'these', 'acids', '.', 'This', 'degradation', 'normally', 'takes', 'place', 'in', 'a', 'subcellular', 'organelle', 'called', 'the', 'peroxisome', ',', 'and', 'ALD', ',', 'together', 'with', 'Zellwegers', 'cerebrohepatorenal', 'syndrome', ',', 'is', 'now', 'considered', 'to', 'belong', 'to', 'the', 'newly', 'formed', 'category', 'of', 'peroxisomal', 'disorders', '.', 'Biochemical', 'assays', 'permit', 'prenatal', 'diagnosis', ',', 'as', 'well', 'as', 'identification', 'of', 'most', 'heterozygotes', '.', 'We', 'have', 'identified', '303', 'patients', 'with', 'ALD', 'in', '217', 'kindreds', '.', 'These', 'patients', 'show', 'a', 'wide', 'phenotypic', 'variation', '.', 'Sixty', 'percent', 'of', 'patients', 'had', 'childhood', 'ALD', 'and', '17', '%', 'adrenomyeloneuropathy', ',', 'both', 'of', 'which', 'are', 'X-linked', ',', 'with', 'the', 'gene', 'mapped', 'to', 'Xq28', '.', 'Neonatal', 'ALD', ',', 'a', 'distinct', 'entity', 'with', 'autosomal', 'recessive', 'inheritance', 'and', 'points', 'of', 'resemblance', 'to', 'Zellwegers', 'syndrome', ',', 'accounted', 'for', '7', '%', 'of', 'the', 'cases', '.', 'Although', 'excess', 'C26', '0', 'in', 'the', 'brain', 'of', 'patients', 'with', 'ALD', 'is', 'partially', 'of', 'dietary', 'origin', ',', 'dietary', 'C26', '0', 'restriction', 'did', 'not', 'produce', 'clear', 'benefit', '.', 'Bone', 'marrow', 'transplant', 'lowered', 'the', 'plasma', 'C26', '0', 'level', 'but', 'failed', 'to', 'arrest', 'neurological', 'progression', '.', '.']\n"
     ]
    }
   ],
   "source": [
    "tokens = tokenize_text(row_example)\n",
    "print(tokens)"
   ]
  },
  {
   "cell_type": "markdown",
   "metadata": {},
   "source": [
    "### 2. Limpieza:\n",
    "Eliminar caracteres especiales y convertir texto a minúsculas."
   ]
  },
  {
   "cell_type": "code",
   "execution_count": null,
   "metadata": {},
   "outputs": [],
   "source": [
    "def clean_tokens(tokens):\n",
    "    return [token.lower() for token in tokens if token.isalpha()]"
   ]
  },
  {
   "cell_type": "code",
   "execution_count": null,
   "metadata": {},
   "outputs": [
    {
     "name": "stdout",
     "output_type": "stream",
     "text": [
      "['adrenoleukodystrophy', 'survey', 'of', 'cases', 'biochemistry', 'diagnosis', 'and', 'therapy', 'adrenoleukodystrophy', 'ald', 'is', 'a', 'genetically', 'determined', 'disorder', 'associated', 'with', 'progressive', 'central', 'demyelination', 'and', 'adrenal', 'cortical', 'insufficiency', 'all', 'affected', 'persons', 'show', 'increased', 'levels', 'of', 'saturated', 'unbranched', 'fatty', 'acids', 'particularly', 'hexacosanoate', 'because', 'of', 'impaired', 'capacity', 'to', 'degrade', 'these', 'acids', 'this', 'degradation', 'normally', 'takes', 'place', 'in', 'a', 'subcellular', 'organelle', 'called', 'the', 'peroxisome', 'and', 'ald', 'together', 'with', 'zellwegers', 'cerebrohepatorenal', 'syndrome', 'is', 'now', 'considered', 'to', 'belong', 'to', 'the', 'newly', 'formed', 'category', 'of', 'peroxisomal', 'disorders', 'biochemical', 'assays', 'permit', 'prenatal', 'diagnosis', 'as', 'well', 'as', 'identification', 'of', 'most', 'heterozygotes', 'we', 'have', 'identified', 'patients', 'with', 'ald', 'in', 'kindreds', 'these', 'patients', 'show', 'a', 'wide', 'phenotypic', 'variation', 'sixty', 'percent', 'of', 'patients', 'had', 'childhood', 'ald', 'and', 'adrenomyeloneuropathy', 'both', 'of', 'which', 'are', 'with', 'the', 'gene', 'mapped', 'to', 'neonatal', 'ald', 'a', 'distinct', 'entity', 'with', 'autosomal', 'recessive', 'inheritance', 'and', 'points', 'of', 'resemblance', 'to', 'zellwegers', 'syndrome', 'accounted', 'for', 'of', 'the', 'cases', 'although', 'excess', 'in', 'the', 'brain', 'of', 'patients', 'with', 'ald', 'is', 'partially', 'of', 'dietary', 'origin', 'dietary', 'restriction', 'did', 'not', 'produce', 'clear', 'benefit', 'bone', 'marrow', 'transplant', 'lowered', 'the', 'plasma', 'level', 'but', 'failed', 'to', 'arrest', 'neurological', 'progression']\n"
     ]
    }
   ],
   "source": [
    "cleaned_tokens = clean_tokens(tokens)\n",
    "print(cleaned_tokens)"
   ]
  },
  {
   "cell_type": "markdown",
   "metadata": {},
   "source": [
    "### 3. Lemmatización:  \n",
    "Llevar palabras a su forma raíz.\n",
    "\n",
    "Se va a usar Lemmatización en lugar de Stemming dado que se busca obtener resultados más precisos y significativos. Es probable que el Stemming pierda contexto gramatical o genere palabras inexistentes, mientras que la Lemmatización mantiene el significado de las palabras y es más preciso linguisticamente."
   ]
  },
  {
   "cell_type": "code",
   "execution_count": null,
   "metadata": {},
   "outputs": [
    {
     "name": "stderr",
     "output_type": "stream",
     "text": [
      "[nltk_data] Downloading package wordnet to\n",
      "[nltk_data]     /home/codespace/nltk_data...\n",
      "[nltk_data]   Package wordnet is already up-to-date!\n",
      "[nltk_data] Downloading package omw-1.4 to\n",
      "[nltk_data]     /home/codespace/nltk_data...\n",
      "[nltk_data]   Package omw-1.4 is already up-to-date!\n"
     ]
    }
   ],
   "source": [
    "from nltk.stem import WordNetLemmatizer\n",
    "\n",
    "nltk.download('wordnet')\n",
    "nltk.download('omw-1.4')\n",
    "\n",
    "lemmatizer = WordNetLemmatizer()\n",
    "def lemmatize_words(words):\n",
    "    return [lemmatizer.lemmatize(word) for word in words]"
   ]
  },
  {
   "cell_type": "code",
   "execution_count": null,
   "metadata": {},
   "outputs": [
    {
     "name": "stdout",
     "output_type": "stream",
     "text": [
      "['adrenoleukodystrophy', 'survey', 'of', 'case', 'biochemistry', 'diagnosis', 'and', 'therapy', 'adrenoleukodystrophy', 'ald', 'is', 'a', 'genetically', 'determined', 'disorder', 'associated', 'with', 'progressive', 'central', 'demyelination', 'and', 'adrenal', 'cortical', 'insufficiency', 'all', 'affected', 'person', 'show', 'increased', 'level', 'of', 'saturated', 'unbranched', 'fatty', 'acid', 'particularly', 'hexacosanoate', 'because', 'of', 'impaired', 'capacity', 'to', 'degrade', 'these', 'acid', 'this', 'degradation', 'normally', 'take', 'place', 'in', 'a', 'subcellular', 'organelle', 'called', 'the', 'peroxisome', 'and', 'ald', 'together', 'with', 'zellwegers', 'cerebrohepatorenal', 'syndrome', 'is', 'now', 'considered', 'to', 'belong', 'to', 'the', 'newly', 'formed', 'category', 'of', 'peroxisomal', 'disorder', 'biochemical', 'assay', 'permit', 'prenatal', 'diagnosis', 'a', 'well', 'a', 'identification', 'of', 'most', 'heterozygote', 'we', 'have', 'identified', 'patient', 'with', 'ald', 'in', 'kindred', 'these', 'patient', 'show', 'a', 'wide', 'phenotypic', 'variation', 'sixty', 'percent', 'of', 'patient', 'had', 'childhood', 'ald', 'and', 'adrenomyeloneuropathy', 'both', 'of', 'which', 'are', 'with', 'the', 'gene', 'mapped', 'to', 'neonatal', 'ald', 'a', 'distinct', 'entity', 'with', 'autosomal', 'recessive', 'inheritance', 'and', 'point', 'of', 'resemblance', 'to', 'zellwegers', 'syndrome', 'accounted', 'for', 'of', 'the', 'case', 'although', 'excess', 'in', 'the', 'brain', 'of', 'patient', 'with', 'ald', 'is', 'partially', 'of', 'dietary', 'origin', 'dietary', 'restriction', 'did', 'not', 'produce', 'clear', 'benefit', 'bone', 'marrow', 'transplant', 'lowered', 'the', 'plasma', 'level', 'but', 'failed', 'to', 'arrest', 'neurological', 'progression']\n"
     ]
    }
   ],
   "source": [
    "lemmatized_words = lemmatize_words(cleaned_tokens)\n",
    "print(lemmatized_words)\n"
   ]
  },
  {
   "cell_type": "markdown",
   "metadata": {},
   "source": [
    "### 4. Filtrado de StopWords\n",
    "\n",
    "Se busca eliminar palabras que aporten poco significado, tales como: the, an, a, or, and. De igual manera se busca eliminar términos científicos y médicos, esto para reducir la dimensionalidad y procesar más rápido el dataset."
   ]
  },
  {
   "cell_type": "code",
   "execution_count": null,
   "metadata": {},
   "outputs": [
    {
     "name": "stderr",
     "output_type": "stream",
     "text": [
      "[nltk_data] Downloading package stopwords to\n",
      "[nltk_data]     /home/codespace/nltk_data...\n",
      "[nltk_data]   Package stopwords is already up-to-date!\n"
     ]
    }
   ],
   "source": [
    "from nltk.corpus import stopwords\n",
    "nltk.download('stopwords')\n",
    "\n",
    "academic_medic_stopwords = {\n",
    "        'abstract', 'paper', 'study', 'research', 'article', 'journal',\n",
    "        'analysis', 'method', 'approach', 'technique', 'result', 'conclusion',\n",
    "        'introduction', 'discussion', 'experimental', 'theoretical',\n",
    "        'also', 'however', 'therefore', 'furthermore', 'moreover',\n",
    "        'studies', 'report', 'review', 'evaluation', 'assessment', 'investigation', \n",
    "        'examination', 'observation', 'finding', 'findings', 'results', 'methods', \n",
    "        'methodology', 'patient', 'patients', 'subject', 'subjects', 'participant', \n",
    "        'participants', 'case', 'cases', 'group', 'groups', 'control', 'controls',\n",
    "        'significant', 'significantly', 'statistical', 'statistically',\n",
    "        'important', 'effective', 'successful', 'common', 'rare', 'typical',\n",
    "        'normal', 'abnormal', 'positive', 'negative', 'high', 'low', 'increased', 'decreased'\n",
    "    }\n",
    "\n",
    "def remove_stopwords(tokens):\n",
    "    stop_words = set(stopwords.words('english'))\n",
    "    return [token for token in tokens if token not in stop_words and token not in academic_medic_stopwords]"
   ]
  },
  {
   "cell_type": "code",
   "execution_count": null,
   "metadata": {},
   "outputs": [
    {
     "name": "stdout",
     "output_type": "stream",
     "text": [
      "['adrenoleukodystrophy', 'survey', 'biochemistry', 'diagnosis', 'therapy', 'adrenoleukodystrophy', 'ald', 'genetically', 'determined', 'disorder', 'associated', 'progressive', 'central', 'demyelination', 'adrenal', 'cortical', 'insufficiency', 'affected', 'person', 'show', 'level', 'saturated', 'unbranched', 'fatty', 'acid', 'particularly', 'hexacosanoate', 'impaired', 'capacity', 'degrade', 'acid', 'degradation', 'normally', 'take', 'place', 'subcellular', 'organelle', 'called', 'peroxisome', 'ald', 'together', 'zellwegers', 'cerebrohepatorenal', 'syndrome', 'considered', 'belong', 'newly', 'formed', 'category', 'peroxisomal', 'disorder', 'biochemical', 'assay', 'permit', 'prenatal', 'diagnosis', 'well', 'identification', 'heterozygote', 'identified', 'ald', 'kindred', 'show', 'wide', 'phenotypic', 'variation', 'sixty', 'percent', 'childhood', 'ald', 'adrenomyeloneuropathy', 'gene', 'mapped', 'neonatal', 'ald', 'distinct', 'entity', 'autosomal', 'recessive', 'inheritance', 'point', 'resemblance', 'zellwegers', 'syndrome', 'accounted', 'although', 'excess', 'brain', 'ald', 'partially', 'dietary', 'origin', 'dietary', 'restriction', 'produce', 'clear', 'benefit', 'bone', 'marrow', 'transplant', 'lowered', 'plasma', 'level', 'failed', 'arrest', 'neurological', 'progression']\n"
     ]
    }
   ],
   "source": [
    "filtered_tokens = remove_stopwords(lemmatized_words)\n",
    "print(filtered_tokens)"
   ]
  },
  {
   "cell_type": "markdown",
   "metadata": {},
   "source": [
    "Pipeline de tokenización, limpieza, lemmatización y filtrado para todo el dataset:"
   ]
  },
  {
   "cell_type": "code",
   "execution_count": null,
   "metadata": {},
   "outputs": [],
   "source": [
    "def tokenization_pipeline(text):\n",
    "    tokens = tokenize_text(text)\n",
    "    cleaned_tokens = clean_tokens(tokens)\n",
    "    lemmatized_words = lemmatize_words(cleaned_tokens)\n",
    "    filtered_words = remove_stopwords(lemmatized_words)\n",
    "    return filtered_words\n"
   ]
  },
  {
   "cell_type": "markdown",
   "metadata": {},
   "source": [
    "### Procesamiento de dataset:"
   ]
  },
  {
   "cell_type": "code",
   "execution_count": null,
   "metadata": {},
   "outputs": [],
   "source": [
    "df['tokenized_article'] = (df['title'] + df['abstract']).apply(tokenization_pipeline)"
   ]
  },
  {
   "cell_type": "code",
   "execution_count": null,
   "metadata": {},
   "outputs": [
    {
     "data": {
      "text/html": [
       "<div>\n",
       "<style scoped>\n",
       "    .dataframe tbody tr th:only-of-type {\n",
       "        vertical-align: middle;\n",
       "    }\n",
       "\n",
       "    .dataframe tbody tr th {\n",
       "        vertical-align: top;\n",
       "    }\n",
       "\n",
       "    .dataframe thead th {\n",
       "        text-align: right;\n",
       "    }\n",
       "</style>\n",
       "<table border=\"1\" class=\"dataframe\">\n",
       "  <thead>\n",
       "    <tr style=\"text-align: right;\">\n",
       "      <th></th>\n",
       "      <th>title</th>\n",
       "      <th>abstract</th>\n",
       "      <th>group</th>\n",
       "      <th>tokenized_article</th>\n",
       "      <th>text_joined</th>\n",
       "    </tr>\n",
       "  </thead>\n",
       "  <tbody>\n",
       "    <tr>\n",
       "      <th>0</th>\n",
       "      <td>Adrenoleukodystrophy: survey of 303 cases: bio...</td>\n",
       "      <td>Adrenoleukodystrophy ( ALD ) is a genetically ...</td>\n",
       "      <td>neurological|hepatorenal</td>\n",
       "      <td>[adrenoleukodystrophy, survey, biochemistry, d...</td>\n",
       "      <td>adrenoleukodystrophy survey biochemistry diagn...</td>\n",
       "    </tr>\n",
       "    <tr>\n",
       "      <th>1</th>\n",
       "      <td>endoscopy reveals ventricular tachycardia secrets</td>\n",
       "      <td>Research question: How does metformin affect c...</td>\n",
       "      <td>neurological</td>\n",
       "      <td>[endoscopy, reveals, ventricular, tachycardia,...</td>\n",
       "      <td>endoscopy reveals ventricular tachycardia secr...</td>\n",
       "    </tr>\n",
       "    <tr>\n",
       "      <th>2</th>\n",
       "      <td>dementia and cholecystitis: organ interplay</td>\n",
       "      <td>Purpose: This randomized controlled study exam...</td>\n",
       "      <td>hepatorenal</td>\n",
       "      <td>[dementia, cholecystitis, organ, interplaypurp...</td>\n",
       "      <td>dementia cholecystitis organ interplaypurpose ...</td>\n",
       "    </tr>\n",
       "  </tbody>\n",
       "</table>\n",
       "</div>"
      ],
      "text/plain": [
       "                                               title  \\\n",
       "0  Adrenoleukodystrophy: survey of 303 cases: bio...   \n",
       "1  endoscopy reveals ventricular tachycardia secrets   \n",
       "2        dementia and cholecystitis: organ interplay   \n",
       "\n",
       "                                            abstract  \\\n",
       "0  Adrenoleukodystrophy ( ALD ) is a genetically ...   \n",
       "1  Research question: How does metformin affect c...   \n",
       "2  Purpose: This randomized controlled study exam...   \n",
       "\n",
       "                      group  \\\n",
       "0  neurological|hepatorenal   \n",
       "1              neurological   \n",
       "2               hepatorenal   \n",
       "\n",
       "                                   tokenized_article  \\\n",
       "0  [adrenoleukodystrophy, survey, biochemistry, d...   \n",
       "1  [endoscopy, reveals, ventricular, tachycardia,...   \n",
       "2  [dementia, cholecystitis, organ, interplaypurp...   \n",
       "\n",
       "                                         text_joined  \n",
       "0  adrenoleukodystrophy survey biochemistry diagn...  \n",
       "1  endoscopy reveals ventricular tachycardia secr...  \n",
       "2  dementia cholecystitis organ interplaypurpose ...  "
      ]
     },
     "execution_count": 36,
     "metadata": {},
     "output_type": "execute_result"
    }
   ],
   "source": [
    "df['text_joined'] = df['tokenized_article'].apply(lambda tokens: ' '.join(tokens))\n",
    "df.head(3)"
   ]
  },
  {
   "cell_type": "markdown",
   "metadata": {},
   "source": [
    "### 5. Vectorización a través de TF-IDF\n",
    "Se aplica la técnica TF-IDF que busca etc etc. PENDIENTEEEEEEEEE"
   ]
  },
  {
   "cell_type": "code",
   "execution_count": null,
   "metadata": {},
   "outputs": [
    {
     "data": {
      "text/plain": [
       "(3565, 12438)"
      ]
     },
     "execution_count": 38,
     "metadata": {},
     "output_type": "execute_result"
    }
   ],
   "source": [
    "from sklearn.feature_extraction.text import TfidfVectorizer\n",
    "\n",
    "vectorizer = TfidfVectorizer()\n",
    "X = vectorizer.fit_transform(df['text_joined'])\n",
    "X.shape\n"
   ]
  },
  {
   "cell_type": "markdown",
   "metadata": {},
   "source": [
    "### Entrenamiento de modelos"
   ]
  },
  {
   "cell_type": "code",
   "execution_count": null,
   "metadata": {},
   "outputs": [
    {
     "data": {
      "text/html": [
       "<div>\n",
       "<style scoped>\n",
       "    .dataframe tbody tr th:only-of-type {\n",
       "        vertical-align: middle;\n",
       "    }\n",
       "\n",
       "    .dataframe tbody tr th {\n",
       "        vertical-align: top;\n",
       "    }\n",
       "\n",
       "    .dataframe thead th {\n",
       "        text-align: right;\n",
       "    }\n",
       "</style>\n",
       "<table border=\"1\" class=\"dataframe\">\n",
       "  <thead>\n",
       "    <tr style=\"text-align: right;\">\n",
       "      <th></th>\n",
       "      <th>title</th>\n",
       "      <th>abstract</th>\n",
       "      <th>group</th>\n",
       "      <th>tokenized_article</th>\n",
       "      <th>text_joined</th>\n",
       "      <th>label_list</th>\n",
       "    </tr>\n",
       "  </thead>\n",
       "  <tbody>\n",
       "    <tr>\n",
       "      <th>0</th>\n",
       "      <td>Adrenoleukodystrophy: survey of 303 cases: bio...</td>\n",
       "      <td>Adrenoleukodystrophy ( ALD ) is a genetically ...</td>\n",
       "      <td>neurological|hepatorenal</td>\n",
       "      <td>[adrenoleukodystrophy, survey, biochemistry, d...</td>\n",
       "      <td>adrenoleukodystrophy survey biochemistry diagn...</td>\n",
       "      <td>[neurological, hepatorenal]</td>\n",
       "    </tr>\n",
       "    <tr>\n",
       "      <th>1</th>\n",
       "      <td>endoscopy reveals ventricular tachycardia secrets</td>\n",
       "      <td>Research question: How does metformin affect c...</td>\n",
       "      <td>neurological</td>\n",
       "      <td>[endoscopy, reveals, ventricular, tachycardia,...</td>\n",
       "      <td>endoscopy reveals ventricular tachycardia secr...</td>\n",
       "      <td>[neurological]</td>\n",
       "    </tr>\n",
       "    <tr>\n",
       "      <th>2</th>\n",
       "      <td>dementia and cholecystitis: organ interplay</td>\n",
       "      <td>Purpose: This randomized controlled study exam...</td>\n",
       "      <td>hepatorenal</td>\n",
       "      <td>[dementia, cholecystitis, organ, interplaypurp...</td>\n",
       "      <td>dementia cholecystitis organ interplaypurpose ...</td>\n",
       "      <td>[hepatorenal]</td>\n",
       "    </tr>\n",
       "  </tbody>\n",
       "</table>\n",
       "</div>"
      ],
      "text/plain": [
       "                                               title  \\\n",
       "0  Adrenoleukodystrophy: survey of 303 cases: bio...   \n",
       "1  endoscopy reveals ventricular tachycardia secrets   \n",
       "2        dementia and cholecystitis: organ interplay   \n",
       "\n",
       "                                            abstract  \\\n",
       "0  Adrenoleukodystrophy ( ALD ) is a genetically ...   \n",
       "1  Research question: How does metformin affect c...   \n",
       "2  Purpose: This randomized controlled study exam...   \n",
       "\n",
       "                      group  \\\n",
       "0  neurological|hepatorenal   \n",
       "1              neurological   \n",
       "2               hepatorenal   \n",
       "\n",
       "                                   tokenized_article  \\\n",
       "0  [adrenoleukodystrophy, survey, biochemistry, d...   \n",
       "1  [endoscopy, reveals, ventricular, tachycardia,...   \n",
       "2  [dementia, cholecystitis, organ, interplaypurp...   \n",
       "\n",
       "                                         text_joined  \\\n",
       "0  adrenoleukodystrophy survey biochemistry diagn...   \n",
       "1  endoscopy reveals ventricular tachycardia secr...   \n",
       "2  dementia cholecystitis organ interplaypurpose ...   \n",
       "\n",
       "                    label_list  \n",
       "0  [neurological, hepatorenal]  \n",
       "1               [neurological]  \n",
       "2                [hepatorenal]  "
      ]
     },
     "execution_count": 39,
     "metadata": {},
     "output_type": "execute_result"
    }
   ],
   "source": [
    "# Convertir las etiquetas separadas por '|' en listas\n",
    "df['label_list'] = df['group'].apply(lambda x: x.split('|'))\n",
    "df.head(3)\n"
   ]
  },
  {
   "cell_type": "code",
   "execution_count": null,
   "metadata": {},
   "outputs": [
    {
     "data": {
      "text/plain": [
       "array([[0, 1, 1, 0],\n",
       "       [0, 0, 1, 0],\n",
       "       [0, 1, 0, 0],\n",
       "       ...,\n",
       "       [1, 0, 1, 0],\n",
       "       [0, 0, 1, 0],\n",
       "       [1, 0, 0, 1]], shape=(3565, 4))"
      ]
     },
     "execution_count": 40,
     "metadata": {},
     "output_type": "execute_result"
    }
   ],
   "source": [
    "from sklearn.preprocessing import MultiLabelBinarizer\n",
    "\n",
    "mlb = MultiLabelBinarizer()\n",
    "y = mlb.fit_transform(df['label_list'])\n",
    "y"
   ]
  },
  {
   "cell_type": "code",
   "execution_count": null,
   "metadata": {},
   "outputs": [],
   "source": [
    "from sklearn.model_selection import train_test_split\n",
    "\n",
    "X_train, X_test, y_train, y_test = train_test_split(X, y, test_size=0.2, random_state=42)\n"
   ]
  },
  {
   "cell_type": "markdown",
   "metadata": {},
   "source": [
    "### Regresión Logística"
   ]
  },
  {
   "cell_type": "code",
   "execution_count": null,
   "metadata": {},
   "outputs": [],
   "source": [
    "from sklearn.linear_model import LogisticRegression\n",
    "from sklearn.metrics import classification_report"
   ]
  },
  {
   "cell_type": "code",
   "execution_count": null,
   "metadata": {},
   "outputs": [
    {
     "name": "stdout",
     "output_type": "stream",
     "text": [
      "                precision    recall  f1-score   support\n",
      "\n",
      "cardiovascular       0.98      0.78      0.87       260\n",
      "   hepatorenal       0.99      0.63      0.77       228\n",
      "  neurological       0.84      0.89      0.87       338\n",
      "   oncological       0.98      0.50      0.66       130\n",
      "\n",
      "     micro avg       0.92      0.75      0.82       956\n",
      "     macro avg       0.95      0.70      0.79       956\n",
      "  weighted avg       0.93      0.75      0.82       956\n",
      "   samples avg       0.92      0.82      0.84       956\n",
      "\n"
     ]
    },
    {
     "name": "stderr",
     "output_type": "stream",
     "text": [
      "/usr/local/python/3.12.1/lib/python3.12/site-packages/sklearn/metrics/_classification.py:1731: UndefinedMetricWarning: Precision is ill-defined and being set to 0.0 in samples with no predicted labels. Use `zero_division` parameter to control this behavior.\n",
      "  _warn_prf(average, modifier, f\"{metric.capitalize()} is\", result.shape[0])\n"
     ]
    }
   ],
   "source": [
    "clf = LogisticRegression(max_iter=1000)\n",
    "from sklearn.multioutput import MultiOutputClassifier\n",
    "multi_clf = MultiOutputClassifier(clf)\n",
    "multi_clf.fit(X_train, y_train)\n",
    "\n",
    "\n",
    "# Predicción y evaluación\n",
    "y_pred = multi_clf.predict(X_test)\n",
    "print(classification_report(y_test, y_pred, target_names=mlb.classes_))\n",
    "# ...existing code..."
   ]
  },
  {
   "cell_type": "code",
   "execution_count": null,
   "metadata": {},
   "outputs": [
    {
     "name": "stdout",
     "output_type": "stream",
     "text": [
      "                precision    recall  f1-score   support\n",
      "\n",
      "cardiovascular       0.95      0.86      0.90       260\n",
      "   hepatorenal       0.98      0.78      0.87       228\n",
      "  neurological       0.88      0.89      0.88       338\n",
      "   oncological       0.98      0.69      0.81       130\n",
      "\n",
      "     micro avg       0.93      0.83      0.88       956\n",
      "     macro avg       0.95      0.81      0.87       956\n",
      "  weighted avg       0.94      0.83      0.88       956\n",
      "   samples avg       0.94      0.88      0.89       956\n",
      "\n"
     ]
    },
    {
     "name": "stderr",
     "output_type": "stream",
     "text": [
      "/usr/local/python/3.12.1/lib/python3.12/site-packages/sklearn/metrics/_classification.py:1731: UndefinedMetricWarning:\n",
      "\n",
      "Precision is ill-defined and being set to 0.0 in samples with no predicted labels. Use `zero_division` parameter to control this behavior.\n",
      "\n"
     ]
    }
   ],
   "source": [
    "from sklearn.svm import LinearSVC\n",
    "from sklearn.multioutput import MultiOutputClassifier\n",
    "\n",
    "# Crear el clasificador SVM\n",
    "svm_clf = LinearSVC(max_iter=1000)\n",
    "multi_svm = MultiOutputClassifier(svm_clf)\n",
    "\n",
    "# Entrenar el modelo\n",
    "multi_svm.fit(X_train, y_train)\n",
    "\n",
    "# Predicción y evaluación\n",
    "y_pred_svm = multi_svm.predict(X_test)\n",
    "print(classification_report(y_test, y_pred_svm, target_names=mlb.classes_))\n",
    "# ...existing code..."
   ]
  },
  {
   "cell_type": "markdown",
   "metadata": {},
   "source": [
    "### XGBoost"
   ]
  },
  {
   "cell_type": "code",
   "execution_count": null,
   "metadata": {},
   "outputs": [],
   "source": []
  },
  {
   "cell_type": "markdown",
   "metadata": {},
   "source": [
    "3. Entrenamiento modelos clasicos\n",
    "4. Reducción de dimensionalidad\n",
    "5. Re-entrenamiento\n"
   ]
  }
 ],
 "metadata": {
  "kernelspec": {
   "display_name": "Python 3",
   "language": "python",
   "name": "python3"
  },
  "language_info": {
   "codemirror_mode": {
    "name": "ipython",
    "version": 3
   },
   "file_extension": ".py",
   "mimetype": "text/x-python",
   "name": "python",
   "nbconvert_exporter": "python",
   "pygments_lexer": "ipython3",
   "version": "3.12.1"
  }
 },
 "nbformat": 4,
 "nbformat_minor": 2
}
